{
 "cells": [
  {
   "cell_type": "code",
   "execution_count": 1,
   "metadata": {},
   "outputs": [
    {
     "name": "stderr",
     "output_type": "stream",
     "text": [
      "Warning: Gym version v0.24.0 has a number of critical issues with `gym.make` such that the `reset` and `step` functions are called before returning the environment. It is recommend to downgrading to v0.23.1 or upgrading to v0.25.1\n"
     ]
    }
   ],
   "source": [
    "import torch\n",
    "from torch import nn \n",
    "import numpy as np\n",
    "import gym\n",
    "import matplotlib.pyplot as plt\n",
    "import time"
   ]
  },
  {
   "cell_type": "code",
   "execution_count": 2,
   "metadata": {},
   "outputs": [],
   "source": [
    "class CEM(nn.Module):\n",
    "    def __init__(self, state_dim, action_n, lr=0.01, eps=0.1):\n",
    "        super().__init__()\n",
    "        self.state_dim = state_dim\n",
    "        self.action_n = action_n\n",
    "        self.lr = lr\n",
    "        self.eps = eps\n",
    "\n",
    "        self.network = nn.Sequential(\n",
    "            nn.Linear(self.state_dim, 8), \n",
    "            nn.ReLU(),\n",
    "            nn.Linear(8, 16), \n",
    "            nn.ReLU(),\n",
    "            nn.Linear(16, 8), \n",
    "            nn.ReLU(),\n",
    "            nn.Linear(8, self.action_n)\n",
    "        )\n",
    "        \n",
    "        self.softmax = nn.Softmax()\n",
    "        self.optimizer = torch.optim.Adam(self.parameters(), lr=lr)\n",
    "        self.loss = nn.CrossEntropyLoss()\n",
    "        \n",
    "    def forward(self, _input):\n",
    "        return self.network(_input) \n",
    "    \n",
    "    def get_action(self, state):\n",
    "        state = torch.FloatTensor(state)\n",
    "        logits = self.forward(state)\n",
    "        action_prob = self.softmax(logits).detach().numpy()\n",
    "\n",
    "        noise = np.ones(self.action_n) / self.action_n\n",
    "        action_prob_noised = (1 - self.eps) * action_prob + self.eps * noise\n",
    "        action_prob_noised = action_prob_noised / np.sum(action_prob_noised)\n",
    "        # print(f'{action_prob} -> {action_prob_noised}')\n",
    "        action = np.random.choice(self.action_n, p=action_prob_noised)\n",
    "        return action\n",
    "    \n",
    "    def update_policy(self, elite_states, elite_actions):\n",
    "        # elite_states = []\n",
    "        # elite_actions = []\n",
    "        # for trajectory in elite_trajectories:\n",
    "        #     elite_states.extend(trajectory['states'])\n",
    "        #     elite_actions.extend(trajectory['actions'])\n",
    "\n",
    "        # elite_states = np.array(elite_states)\n",
    "        # elite_actions = np.array(elite_actions)\n",
    "\n",
    "        elite_states_tensor = torch.FloatTensor(elite_states)\n",
    "        elite_actions_tensor = torch.LongTensor(elite_actions)\n",
    "\n",
    "        loss = self.loss(self.forward(elite_states_tensor), elite_actions_tensor)\n",
    "        loss.backward()\n",
    "        self.optimizer.step()\n",
    "        self.optimizer.zero_grad()"
   ]
  },
  {
   "cell_type": "code",
   "execution_count": 3,
   "metadata": {},
   "outputs": [],
   "source": [
    "def get_trajectory(env, agent, trajectory_len, visualize=False):\n",
    "    trajectory = {'states':[], 'actions': [], 'total_reward': 0}\n",
    "    \n",
    "    state = env.reset()\n",
    "    trajectory['states'].append(state)\n",
    "    \n",
    "    for _ in range(trajectory_len):\n",
    "        \n",
    "        action = agent.get_action(state)\n",
    "        trajectory['actions'].append(action)\n",
    "        \n",
    "        state, reward, done, _ = env.step(action)\n",
    "        trajectory['total_reward'] += reward\n",
    "        \n",
    "        if done:\n",
    "            break\n",
    "            \n",
    "        if visualize:\n",
    "            env.render()\n",
    "            \n",
    "        trajectory['states'].append(state)\n",
    "\n",
    "    return trajectory\n",
    "\n",
    "def get_elite_trajectories(trajectories, q_param):\n",
    "    total_rewards = [trajectory['total_reward'] for trajectory in trajectories]\n",
    "    quantile = np.quantile(total_rewards, q=q_param) \n",
    "    return [trajectory for trajectory in trajectories if trajectory['total_reward'] > quantile]"
   ]
  },
  {
   "cell_type": "code",
   "execution_count": 4,
   "metadata": {},
   "outputs": [],
   "source": [
    "def generate_batch(env, agent, batch_size, trajectory_len):\n",
    "    batch_states, batch_actions, batch_rewards = [], [], []\n",
    "\n",
    "    for i in range(batch_size):\n",
    "        states, actions = [], []\n",
    "        total_reward = 0\n",
    "\n",
    "        state = env.reset()\n",
    "        for j in range(trajectory_len):\n",
    "            action = agent.get_action(state)\n",
    "            new_state, reward, done, _ = env.step(action)\n",
    "            states.append(state)\n",
    "            actions.append(action)\n",
    "            total_reward += reward\n",
    "            state = new_state\n",
    "            \n",
    "            if done:\n",
    "                batch_actions.append(actions)\n",
    "                batch_states.append(states)\n",
    "                batch_rewards.append(total_reward)\n",
    "                break\n",
    "    return batch_states, batch_actions, batch_rewards"
   ]
  },
  {
   "cell_type": "code",
   "execution_count": 5,
   "metadata": {},
   "outputs": [],
   "source": [
    "def get_elite_states(batch_states, batch_actions, batch_rewards, q_param):\n",
    "    quantile = np.quantile(batch_rewards, q=q_param) \n",
    "\n",
    "    elite_states = []\n",
    "    elite_actions = []\n",
    "    for i in range(len(batch_rewards)):\n",
    "        if batch_rewards[i] > quantile:\n",
    "            for j in range(len(batch_states[i])):\n",
    "                elite_states.append(batch_states[i][j])\n",
    "                elite_actions.append(batch_actions[i][j])\n",
    "    \n",
    "    return elite_states, elite_actions"
   ]
  },
  {
   "cell_type": "code",
   "execution_count": 12,
   "metadata": {},
   "outputs": [],
   "source": [
    "env = gym.make(\n",
    "    \"LunarLander-v2\",\n",
    "    continuous = False,\n",
    "    gravity = -10.0,\n",
    "    enable_wind = False,\n",
    "    wind_power = 15.0,\n",
    "    turbulence_power = 1.5)\n",
    "\n",
    "state_dim = 8\n",
    "action_n = 4\n",
    "lr = 1e-2\n",
    "eps = 0\n",
    "\n",
    "agent = CEM(state_dim, action_n, lr=lr, eps=eps)\n",
    "trajectory_n = 500\n",
    "\n",
    "MAX_ITER = 300\n",
    "BATCH_SIZE = 100\n",
    "TRAJECTORY_LEN = 10000\n",
    "Q = 0.7"
   ]
  },
  {
   "cell_type": "code",
   "execution_count": 13,
   "metadata": {},
   "outputs": [],
   "source": [
    "epses = []\n",
    "mean_total_rewards = []"
   ]
  },
  {
   "cell_type": "code",
   "execution_count": 14,
   "metadata": {},
   "outputs": [
    {
     "name": "stdout",
     "output_type": "stream",
     "text": [
      "0: mean_reward=-188.85475628689957\n",
      "1: mean_reward=-185.51101841856016\n",
      "2: mean_reward=-169.67336050416748\n",
      "3: mean_reward=-178.9085628770823\n",
      "4: mean_reward=-163.67315698615445\n",
      "5: mean_reward=-147.95193323543447\n",
      "6: mean_reward=-167.06830670878688\n",
      "7: mean_reward=-155.89922884705868\n",
      "8: mean_reward=-167.05172221687315\n",
      "9: mean_reward=-154.54005444893428\n",
      "10: mean_reward=-172.95011999200378\n",
      "11: mean_reward=-156.16215371194653\n",
      "12: mean_reward=-143.5429560815583\n",
      "13: mean_reward=-146.44387856070725\n",
      "14: mean_reward=-151.3229471640076\n",
      "15: mean_reward=-146.0988329285242\n",
      "16: mean_reward=-143.27753450708136\n",
      "17: mean_reward=-144.3701822895255\n",
      "18: mean_reward=-125.7320450234391\n",
      "19: mean_reward=-133.3162632944899\n",
      "20: mean_reward=-127.09153861611144\n",
      "21: mean_reward=-123.07056420371035\n",
      "22: mean_reward=-135.99684032748166\n",
      "23: mean_reward=-123.93593409044772\n",
      "24: mean_reward=-115.09484460174974\n",
      "25: mean_reward=-118.25060540583388\n",
      "26: mean_reward=-117.71697170204891\n",
      "27: mean_reward=-111.01538372798373\n",
      "28: mean_reward=-112.80194207361502\n",
      "29: mean_reward=-109.78287245524578\n",
      "30: mean_reward=-108.43706477997698\n",
      "31: mean_reward=-98.6591846861005\n",
      "32: mean_reward=-94.90280901631226\n",
      "33: mean_reward=-95.62588121590456\n",
      "34: mean_reward=-88.51434838093569\n",
      "35: mean_reward=-93.61577031766684\n",
      "36: mean_reward=-94.1217165507523\n",
      "37: mean_reward=-78.24025952174817\n",
      "38: mean_reward=-89.78296485264447\n",
      "39: mean_reward=-73.40804578406512\n",
      "40: mean_reward=-83.06253892858898\n",
      "41: mean_reward=-107.49072499012053\n",
      "42: mean_reward=-173.53126550090866\n",
      "43: mean_reward=-217.79616588972493\n",
      "44: mean_reward=-290.8263414349751\n",
      "45: mean_reward=-310.6998248525008\n",
      "46: mean_reward=-264.38888039815595\n",
      "47: mean_reward=-204.2650314701035\n",
      "48: mean_reward=-173.9962393704864\n",
      "49: mean_reward=-123.86048815520752\n",
      "50: mean_reward=-110.02384548073286\n",
      "51: mean_reward=-85.57249833355989\n",
      "52: mean_reward=-64.25044182829954\n",
      "53: mean_reward=-53.21382516798651\n",
      "54: mean_reward=-47.94522179932112\n",
      "55: mean_reward=-50.500260618324354\n",
      "56: mean_reward=-45.132254320848645\n",
      "57: mean_reward=-46.64419186270428\n",
      "58: mean_reward=-44.027968288679894\n",
      "59: mean_reward=-41.44454977550761\n",
      "60: mean_reward=-48.52943966746388\n",
      "61: mean_reward=-68.59164968736032\n",
      "62: mean_reward=-51.632286928708616\n",
      "63: mean_reward=-82.91270131373096\n",
      "64: mean_reward=-91.76471938501854\n",
      "65: mean_reward=-129.43940203348112\n",
      "66: mean_reward=-201.1858683461356\n",
      "67: mean_reward=-117.5761472432384\n",
      "68: mean_reward=-40.364756559927386\n",
      "69: mean_reward=-16.11984378764025\n",
      "70: mean_reward=-10.534333473042931\n",
      "71: mean_reward=-20.83803420861305\n",
      "72: mean_reward=-9.14475955605929\n",
      "73: mean_reward=-18.529246953681614\n",
      "74: mean_reward=-14.684802574112187\n",
      "75: mean_reward=-13.659387649206696\n",
      "76: mean_reward=-1.8700637854574904\n",
      "77: mean_reward=0.748159710506329\n",
      "78: mean_reward=7.700473976439867\n",
      "79: mean_reward=-5.580695148733673\n",
      "80: mean_reward=-5.363491011965462\n",
      "81: mean_reward=-3.8134227428866763\n",
      "82: mean_reward=-6.396834681016616\n",
      "83: mean_reward=-12.307736906819562\n",
      "84: mean_reward=-3.76410344917688\n",
      "85: mean_reward=-1.6486114896610422\n",
      "86: mean_reward=3.679928961791725\n",
      "87: mean_reward=7.267591253843887\n",
      "88: mean_reward=8.98558504695918\n",
      "89: mean_reward=12.843968802688925\n",
      "90: mean_reward=10.974439789281146\n",
      "91: mean_reward=6.904665574809156\n",
      "92: mean_reward=0.7815715835912913\n",
      "93: mean_reward=2.7712119718248935\n",
      "94: mean_reward=-1.2224107397240562\n",
      "95: mean_reward=1.193984514845131\n"
     ]
    }
   ],
   "source": [
    "for i in range(MAX_ITER):\n",
    "    batch_states, batch_actions, batch_rewards = generate_batch(env, agent, BATCH_SIZE, TRAJECTORY_LEN)\n",
    "    elite_states, elite_actions = get_elite_states(batch_states, batch_actions, batch_rewards, Q)\n",
    "    \n",
    "    mean_reward = np.mean(batch_rewards)\n",
    "    agent.update_policy(elite_states, elite_actions)\n",
    "    print(f'{i}: mean_reward={mean_reward}')"
   ]
  },
  {
   "cell_type": "code",
   "execution_count": null,
   "metadata": {},
   "outputs": [],
   "source": [
    "# total_start = time.time()\n",
    "# for episode in range(1, episode_n + 1):\n",
    "#     agent.eps = np.sqrt(1 / episode)\n",
    "\n",
    "#     # start = time.time()\n",
    "#     trajectories = [get_trajectory(env, agent, trajectory_len) for _ in range(trajectory_n)]\n",
    "    \n",
    "#     mean_total_reward = np.mean([trajectory['total_reward'] for trajectory in trajectories])\n",
    "#     mean_total_rewards.append(mean_total_reward)\n",
    "#     print(f'episode: {episode}, mean_total_reward = {mean_total_reward}')\n",
    "    \n",
    "#     elite_trajectories = get_elite_trajectories(trajectories, q_param)\n",
    "    \n",
    "#     if len(elite_trajectories) > 0:\n",
    "#         agent.update_policy(elite_trajectories)\n",
    "\n",
    "#     # print('iteration_time: ', time.time() - start)\n",
    "# # get_trajectory(env, agent, trajectory_len, visualize=True)\n",
    "# print('total time', time.time() - total_start)"
   ]
  },
  {
   "cell_type": "code",
   "execution_count": null,
   "metadata": {},
   "outputs": [
    {
     "data": {
      "text/plain": [
       "[<matplotlib.lines.Line2D at 0x1a89fb1d390>]"
      ]
     },
     "execution_count": 25,
     "metadata": {},
     "output_type": "execute_result"
    },
    {
     "data": {
      "image/png": "[encoded data removed]",
      "text/plain": [
       "<Figure size 640x480 with 1 Axes>"
      ]
     },
     "metadata": {},
     "output_type": "display_data"
    }
   ],
   "source": [
    "plt.plot(mean_total_rewards)"
   ]
  },
  {
   "cell_type": "code",
   "execution_count": null,
   "metadata": {},
   "outputs": [
    {
     "data": {
      "text/plain": [
       "35.62716373860806"
      ]
     },
     "execution_count": 27,
     "metadata": {},
     "output_type": "execute_result"
    }
   ],
   "source": [
    "max(mean_total_rewards)"
   ]
  },
  {
   "cell_type": "code",
   "execution_count": null,
   "metadata": {},
   "outputs": [
    {
     "data": {
      "text/plain": [
       "[<matplotlib.lines.Line2D at 0x22b7f1746a0>]"
      ]
     },
     "execution_count": 11,
     "metadata": {},
     "output_type": "execute_result"
    },
    {
     "data": {
      "image/png": "[encoded data removed]",
      "text/plain": [
       "<Figure size 640x480 with 1 Axes>"
      ]
     },
     "metadata": {},
     "output_type": "display_data"
    }
   ],
   "source": [
    "fig, ax = plt.subplots()\n",
    "ax.plot(mean_total_rewards)"
   ]
  },
  {
   "cell_type": "code",
   "execution_count": null,
   "metadata": {},
   "outputs": [],
   "source": []
  }
 ],
 "metadata": {
  "kernelspec": {
   "display_name": "env",
   "language": "python",
   "name": "python3"
  },
  "language_info": {
   "codemirror_mode": {
    "name": "ipython",
    "version": 3
   },
   "file_extension": ".py",
   "mimetype": "text/x-python",
   "name": "python",
   "nbconvert_exporter": "python",
   "pygments_lexer": "ipython3",
   "version": "3.10.11"
  }
 },
 "nbformat": 4,
 "nbformat_minor": 2
}
