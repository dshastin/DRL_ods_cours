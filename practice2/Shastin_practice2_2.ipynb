{
 "cells": [
  {
   "cell_type": "markdown",
   "metadata": {},
   "source": [
    "Домашнее задание 2.2"
   ]
  },
  {
   "cell_type": "markdown",
   "metadata": {},
   "source": [
    "Исследуем алгоритм Кросс-Энтропии с использованием нейронных сетей."
   ]
  },
  {
   "cell_type": "code",
   "execution_count": 24,
   "metadata": {},
   "outputs": [],
   "source": [
    "import torch\n",
    "from torch import nn \n",
    "import numpy as np\n",
    "import pandas as pd\n",
    "import gym\n",
    "import plotly.express as px\n",
    "import time \n",
    "import pickle"
   ]
  },
  {
   "cell_type": "code",
   "execution_count": 25,
   "metadata": {},
   "outputs": [],
   "source": [
    "class CEMTwoLayer(nn.Module):\n",
    "    def __init__(self, state_dim, action_n, hidden1, hidden2, lr=0.01, eps=0):\n",
    "        super().__init__()\n",
    "        self.state_dim = state_dim\n",
    "        self.action_n = action_n\n",
    "        self.lr = lr\n",
    "        self.eps = eps\n",
    "\n",
    "        self.network = nn.Sequential(\n",
    "            nn.Linear(self.state_dim, hidden1),\n",
    "            nn.ReLU(),\n",
    "            nn.Linear(hidden1, hidden2),\n",
    "            nn.ReLU(),\n",
    "            nn.Linear(hidden2, action_n)\n",
    "        )\n",
    "        \n",
    "        self.softmax = nn.Softmax(dim=0)\n",
    "        self.optimizer = torch.optim.Adam(self.parameters(), lr=lr)\n",
    "        self.loss = nn.CrossEntropyLoss()\n",
    "        \n",
    "    def forward(self, _input):\n",
    "        return self.network(_input) \n",
    "    \n",
    "    def get_action(self, state):\n",
    "        state = torch.FloatTensor(state)\n",
    "        logits = self.forward(state)\n",
    "        action_prob = self.softmax(logits).detach().numpy()\n",
    "        \n",
    "        if eps:\n",
    "            noise = np.ones(self.action_n) / self.action_n\n",
    "            action_prob = (1 - self.eps) * action_prob + self.eps * noise\n",
    "            action_prob = action_prob / np.sum(action_prob)\n",
    "        action = np.random.choice(self.action_n, p=action_prob)\n",
    "        return action\n",
    "    \n",
    "    def update_policy(self, elite_states, elite_actions):\n",
    "        elite_states_tensor = torch.FloatTensor(elite_states)\n",
    "        elite_actions_tensor = torch.LongTensor(elite_actions)\n",
    "\n",
    "        loss = self.loss(self.forward(elite_states_tensor), elite_actions_tensor)\n",
    "        loss.backward()\n",
    "        self.optimizer.step()\n",
    "        self.optimizer.zero_grad()"
   ]
  },
  {
   "cell_type": "code",
   "execution_count": 26,
   "metadata": {},
   "outputs": [],
   "source": [
    "def get_trajectory(env, agent, trajectory_len, visualize=False):\n",
    "    trajectory = {'states':[], 'actions': [], 'total_reward': 0}\n",
    "    \n",
    "    state = env.reset()\n",
    "    trajectory['states'].append(state)\n",
    "    \n",
    "    for _ in range(trajectory_len):\n",
    "        action = agent.get_action(state)\n",
    "        trajectory['actions'].append(action)\n",
    "        \n",
    "        state, reward, done, _ = env.step(action)\n",
    "        trajectory['total_reward'] += reward\n",
    "        \n",
    "        if done:\n",
    "            break\n",
    "    \n",
    "        if visualize:\n",
    "            env.render()\n",
    "            \n",
    "        trajectory['states'].append(state)\n",
    "    return trajectory\n",
    "\n",
    "def get_elite_trajectories(trajectories, q_param):\n",
    "    total_rewards = [trajectory['total_reward'] for trajectory in trajectories]\n",
    "    quantile = np.quantile(total_rewards, q=q_param) \n",
    "    return [trajectory for trajectory in trajectories if trajectory['total_reward'] > quantile]"
   ]
  },
  {
   "cell_type": "code",
   "execution_count": 27,
   "metadata": {},
   "outputs": [],
   "source": [
    "def generate_batch(env, agent, batch_size, trajectory_len):\n",
    "    batch_states, batch_actions, batch_rewards = [], [], []\n",
    "\n",
    "    for _ in range(batch_size):\n",
    "        states, actions = [], []\n",
    "        total_reward = 0\n",
    "\n",
    "        state = env.reset()\n",
    "        for _ in range(trajectory_len):\n",
    "            action = agent.get_action(state)\n",
    "            new_state, reward, done, _ = env.step(action)\n",
    "            states.append(state)\n",
    "            actions.append(action)\n",
    "            total_reward += reward\n",
    "            state = new_state\n",
    "            \n",
    "            if done:\n",
    "                batch_actions.append(actions)\n",
    "                batch_states.append(states)\n",
    "                batch_rewards.append(total_reward)\n",
    "                break\n",
    "    return batch_states, batch_actions, batch_rewards"
   ]
  },
  {
   "cell_type": "code",
   "execution_count": 28,
   "metadata": {},
   "outputs": [],
   "source": [
    "def get_elite_states(batch_states, batch_actions, batch_rewards, q_param):\n",
    "    quantile = np.quantile(batch_rewards, q=q_param) \n",
    "\n",
    "    elite_states = []\n",
    "    elite_actions = []\n",
    "    for i in range(len(batch_rewards)):\n",
    "        if batch_rewards[i] > quantile:\n",
    "            for j in range(len(batch_states[i])):\n",
    "                elite_states.append(batch_states[i][j])\n",
    "                elite_actions.append(batch_actions[i][j])\n",
    "    \n",
    "    return elite_states, elite_actions"
   ]
  },
  {
   "cell_type": "code",
   "execution_count": 36,
   "metadata": {},
   "outputs": [],
   "source": [
    "env = gym.make('MountainCar-v0')\n",
    "\n",
    "state_dim = 2\n",
    "action_n = 3\n",
    "lr = 1e-2\n",
    "eps = 0.9\n",
    "\n",
    "MAX_ITER = 300\n",
    "BATCH_SIZE = 50\n",
    "TRAJECTORY_LEN = 1000\n",
    "Q = 0.75"
   ]
  },
  {
   "cell_type": "code",
   "execution_count": 37,
   "metadata": {},
   "outputs": [],
   "source": [
    "best_model_total_rewards = []"
   ]
  },
  {
   "cell_type": "code",
   "execution_count": 39,
   "metadata": {},
   "outputs": [
    {
     "ename": "KeyboardInterrupt",
     "evalue": "",
     "output_type": "error",
     "traceback": [
      "\u001b[1;31m---------------------------------------------------------------------------\u001b[0m",
      "\u001b[1;31mKeyboardInterrupt\u001b[0m                         Traceback (most recent call last)",
      "\u001b[1;32mg:\\PycharmProjects\\DRL\\practice2\\Shastin_practice2_2.ipynb Cell 10\u001b[0m line \u001b[0;36m8\n\u001b[0;32m      <a href='vscode-notebook-cell:/g%3A/PycharmProjects/DRL/practice2/Shastin_practice2_2.ipynb#X30sZmlsZQ%3D%3D?line=5'>6</a>\u001b[0m \u001b[39mfor\u001b[39;00m i \u001b[39min\u001b[39;00m \u001b[39mrange\u001b[39m(MAX_ITER):\n\u001b[0;32m      <a href='vscode-notebook-cell:/g%3A/PycharmProjects/DRL/practice2/Shastin_practice2_2.ipynb#X30sZmlsZQ%3D%3D?line=6'>7</a>\u001b[0m     agent_two_layer\u001b[39m.\u001b[39meps \u001b[39m*\u001b[39m \u001b[39m0.99\u001b[39m\n\u001b[1;32m----> <a href='vscode-notebook-cell:/g%3A/PycharmProjects/DRL/practice2/Shastin_practice2_2.ipynb#X30sZmlsZQ%3D%3D?line=7'>8</a>\u001b[0m     batch_states, batch_actions, batch_rewards \u001b[39m=\u001b[39m generate_batch(env, agent_two_layer, BATCH_SIZE, TRAJECTORY_LEN)\n\u001b[0;32m      <a href='vscode-notebook-cell:/g%3A/PycharmProjects/DRL/practice2/Shastin_practice2_2.ipynb#X30sZmlsZQ%3D%3D?line=8'>9</a>\u001b[0m     elite_states, elite_actions \u001b[39m=\u001b[39m get_elite_states(batch_states, batch_actions, batch_rewards, Q)\n\u001b[0;32m     <a href='vscode-notebook-cell:/g%3A/PycharmProjects/DRL/practice2/Shastin_practice2_2.ipynb#X30sZmlsZQ%3D%3D?line=10'>11</a>\u001b[0m     mean_reward \u001b[39m=\u001b[39m np\u001b[39m.\u001b[39mmean(batch_rewards)\n",
      "\u001b[1;32mg:\\PycharmProjects\\DRL\\practice2\\Shastin_practice2_2.ipynb Cell 10\u001b[0m line \u001b[0;36m8\n\u001b[0;32m      <a href='vscode-notebook-cell:/g%3A/PycharmProjects/DRL/practice2/Shastin_practice2_2.ipynb#X30sZmlsZQ%3D%3D?line=5'>6</a>\u001b[0m \u001b[39mfor\u001b[39;00m i \u001b[39min\u001b[39;00m \u001b[39mrange\u001b[39m(MAX_ITER):\n\u001b[0;32m      <a href='vscode-notebook-cell:/g%3A/PycharmProjects/DRL/practice2/Shastin_practice2_2.ipynb#X30sZmlsZQ%3D%3D?line=6'>7</a>\u001b[0m     agent_two_layer\u001b[39m.\u001b[39meps \u001b[39m*\u001b[39m \u001b[39m0.99\u001b[39m\n\u001b[1;32m----> <a href='vscode-notebook-cell:/g%3A/PycharmProjects/DRL/practice2/Shastin_practice2_2.ipynb#X30sZmlsZQ%3D%3D?line=7'>8</a>\u001b[0m     batch_states, batch_actions, batch_rewards \u001b[39m=\u001b[39m generate_batch(env, agent_two_layer, BATCH_SIZE, TRAJECTORY_LEN)\n\u001b[0;32m      <a href='vscode-notebook-cell:/g%3A/PycharmProjects/DRL/practice2/Shastin_practice2_2.ipynb#X30sZmlsZQ%3D%3D?line=8'>9</a>\u001b[0m     elite_states, elite_actions \u001b[39m=\u001b[39m get_elite_states(batch_states, batch_actions, batch_rewards, Q)\n\u001b[0;32m     <a href='vscode-notebook-cell:/g%3A/PycharmProjects/DRL/practice2/Shastin_practice2_2.ipynb#X30sZmlsZQ%3D%3D?line=10'>11</a>\u001b[0m     mean_reward \u001b[39m=\u001b[39m np\u001b[39m.\u001b[39mmean(batch_rewards)\n",
      "File \u001b[1;32m_pydevd_bundle/pydevd_cython.pyx:1457\u001b[0m, in \u001b[0;36m_pydevd_bundle.pydevd_cython.SafeCallWrapper.__call__\u001b[1;34m()\u001b[0m\n",
      "File \u001b[1;32m_pydevd_bundle/pydevd_cython.pyx:701\u001b[0m, in \u001b[0;36m_pydevd_bundle.pydevd_cython.PyDBFrame.trace_dispatch\u001b[1;34m()\u001b[0m\n",
      "File \u001b[1;32m_pydevd_bundle/pydevd_cython.pyx:1152\u001b[0m, in \u001b[0;36m_pydevd_bundle.pydevd_cython.PyDBFrame.trace_dispatch\u001b[1;34m()\u001b[0m\n",
      "File \u001b[1;32m_pydevd_bundle/pydevd_cython.pyx:1135\u001b[0m, in \u001b[0;36m_pydevd_bundle.pydevd_cython.PyDBFrame.trace_dispatch\u001b[1;34m()\u001b[0m\n",
      "File \u001b[1;32m_pydevd_bundle/pydevd_cython.pyx:312\u001b[0m, in \u001b[0;36m_pydevd_bundle.pydevd_cython.PyDBFrame.do_wait_suspend\u001b[1;34m()\u001b[0m\n",
      "File \u001b[1;32mg:\\PycharmProjects\\DRL\\env\\lib\\site-packages\\debugpy\\_vendored\\pydevd\\pydevd.py:2070\u001b[0m, in \u001b[0;36mPyDB.do_wait_suspend\u001b[1;34m(self, thread, frame, event, arg, exception_type)\u001b[0m\n\u001b[0;32m   2067\u001b[0m             from_this_thread\u001b[39m.\u001b[39mappend(frame_custom_thread_id)\n\u001b[0;32m   2069\u001b[0m     \u001b[39mwith\u001b[39;00m \u001b[39mself\u001b[39m\u001b[39m.\u001b[39m_threads_suspended_single_notification\u001b[39m.\u001b[39mnotify_thread_suspended(thread_id, thread, stop_reason):\n\u001b[1;32m-> 2070\u001b[0m         keep_suspended \u001b[39m=\u001b[39m \u001b[39mself\u001b[39;49m\u001b[39m.\u001b[39;49m_do_wait_suspend(thread, frame, event, arg, suspend_type, from_this_thread, frames_tracker)\n\u001b[0;32m   2072\u001b[0m frames_list \u001b[39m=\u001b[39m \u001b[39mNone\u001b[39;00m\n\u001b[0;32m   2074\u001b[0m \u001b[39mif\u001b[39;00m keep_suspended:\n\u001b[0;32m   2075\u001b[0m     \u001b[39m# This means that we should pause again after a set next statement.\u001b[39;00m\n",
      "File \u001b[1;32mg:\\PycharmProjects\\DRL\\env\\lib\\site-packages\\debugpy\\_vendored\\pydevd\\pydevd.py:2106\u001b[0m, in \u001b[0;36mPyDB._do_wait_suspend\u001b[1;34m(self, thread, frame, event, arg, suspend_type, from_this_thread, frames_tracker)\u001b[0m\n\u001b[0;32m   2103\u001b[0m         \u001b[39mself\u001b[39m\u001b[39m.\u001b[39m_call_input_hook()\n\u001b[0;32m   2105\u001b[0m     \u001b[39mself\u001b[39m\u001b[39m.\u001b[39mprocess_internal_commands()\n\u001b[1;32m-> 2106\u001b[0m     time\u001b[39m.\u001b[39;49msleep(\u001b[39m0.01\u001b[39;49m)\n\u001b[0;32m   2108\u001b[0m \u001b[39mself\u001b[39m\u001b[39m.\u001b[39mcancel_async_evaluation(get_current_thread_id(thread), \u001b[39mstr\u001b[39m(\u001b[39mid\u001b[39m(frame)))\n\u001b[0;32m   2110\u001b[0m \u001b[39m# process any stepping instructions\u001b[39;00m\n",
      "\u001b[1;31mKeyboardInterrupt\u001b[0m: "
     ]
    }
   ],
   "source": [
    "Q = 0.75\n",
    "lr = 1e-2\n",
    "\n",
    "agent_two_layer = CEMTwoLayer(state_dim, action_n, hidden1=32, hidden2=32, lr=lr)\n",
    "\n",
    "for i in range(MAX_ITER):\n",
    "    agent_two_layer.eps * 0.99\n",
    "    batch_states, batch_actions, batch_rewards = generate_batch(env, agent_two_layer, BATCH_SIZE, TRAJECTORY_LEN)\n",
    "    elite_states, elite_actions = get_elite_states(batch_states, batch_actions, batch_rewards, Q)\n",
    "    \n",
    "    mean_reward = np.mean(batch_rewards)\n",
    "    best_model_total_rewards.append({'agent': 'two_layer_16_16', 'epoch': i, 'q': Q, 'reward': mean_reward})\n",
    "    agent_two_layer.update_policy(elite_states, elite_actions)\n",
    "    print(f'{i}: mean_reward={mean_reward}')\n",
    "\n",
    "time_end = time.time()"
   ]
  },
  {
   "cell_type": "code",
   "execution_count": 14,
   "metadata": {},
   "outputs": [
    {
     "data": {
      "application/vnd.plotly.v1+json": {
       "config": {
        "plotlyServerURL": "https://plot.ly"
       },
       "data": [
        {
         "hovertemplate": "epoch=%{x}<br>reward=%{y}<extra></extra>",
         "legendgroup": "",
         "line": {
          "color": "#636efa",
          "dash": "solid"
         },
         "marker": {
          "symbol": "circle"
         },
         "mode": "lines",
         "name": "",
         "orientation": "v",
         "showlegend": false,
         "type": "scatter",
         "x": [
          0,
          1,
          2,
          3,
          4,
          5,
          6,
          7,
          8,
          9,
          10,
          11,
          12,
          13,
          14,
          15,
          16,
          17,
          18,
          19,
          20,
          21,
          22,
          23,
          24,
          25,
          26,
          27,
          28,
          29,
          30,
          31,
          32,
          33,
          34,
          35,
          36,
          37,
          38,
          39,
          40,
          41,
          42,
          43,
          44,
          45,
          46,
          47,
          48,
          49,
          50,
          51,
          52,
          53,
          54,
          55,
          0,
          1,
          2,
          3,
          4,
          5,
          6,
          7,
          8,
          9,
          10,
          11,
          12,
          13,
          14,
          15,
          16,
          17,
          18,
          19,
          20,
          21,
          22,
          23,
          24,
          25,
          26,
          27,
          28,
          29,
          30,
          31,
          32,
          33,
          34,
          35,
          36,
          37,
          38,
          39,
          40,
          41,
          42,
          43,
          44,
          45,
          46,
          47,
          48,
          49,
          50,
          51,
          52,
          53,
          54,
          55,
          56,
          57,
          58,
          59,
          60,
          61,
          62,
          63,
          64,
          65,
          66,
          67,
          68,
          69,
          70,
          71,
          72,
          73,
          74,
          75,
          76,
          77,
          78,
          79,
          80,
          81,
          82,
          83,
          84,
          85,
          86,
          87,
          88,
          89,
          90,
          91,
          92,
          93,
          94,
          95,
          96,
          97,
          98,
          99,
          100,
          101,
          102,
          103,
          104,
          105,
          106,
          107,
          108,
          109,
          110,
          111,
          112,
          113,
          114,
          115,
          116,
          117,
          118,
          119,
          120,
          121,
          122,
          123,
          124,
          125,
          126,
          127,
          128,
          129,
          130,
          131,
          132,
          133,
          134,
          135,
          136,
          137,
          138,
          139,
          140,
          141,
          142,
          143,
          144,
          145,
          146,
          147,
          148,
          149,
          150,
          151,
          152,
          153,
          154,
          155,
          156,
          157,
          158,
          159,
          160,
          161,
          162,
          163,
          164,
          165,
          166,
          167,
          168,
          169,
          170,
          171,
          172,
          173,
          174,
          175,
          176,
          177,
          178,
          179,
          180,
          181,
          182,
          183,
          184,
          185,
          186,
          187,
          188,
          189,
          190,
          191,
          192,
          193,
          194,
          195,
          196,
          197,
          198,
          199,
          200,
          201,
          202,
          203,
          204,
          205,
          206,
          207,
          208,
          209,
          210,
          211,
          212,
          213,
          214,
          215,
          216,
          217,
          218,
          219,
          220,
          221,
          222,
          223,
          224,
          225,
          226,
          227,
          228,
          229,
          230,
          231,
          232,
          233,
          234,
          235,
          236,
          237,
          238,
          239,
          240,
          241,
          242,
          243,
          244,
          245,
          246,
          247,
          248,
          249,
          250,
          251,
          252,
          253,
          254,
          255,
          256,
          257,
          258,
          259,
          260,
          261,
          262,
          263,
          264,
          265,
          266,
          267,
          268,
          269,
          270,
          271,
          272,
          273,
          274,
          275,
          276,
          277,
          278,
          279,
          280,
          281,
          282,
          283,
          284,
          285,
          286,
          287,
          288,
          289,
          290,
          291,
          292,
          293,
          294,
          295,
          296,
          297,
          298,
          299
         ],
         "xaxis": "x",
         "y": [
          -192.7911893852388,
          -187.30131212387604,
          -181.27273591464754,
          -190.66098833675196,
          -163.77960763494931,
          -176.3102392325809,
          -181.66194189709634,
          -177.16256944194592,
          -158.21544003120496,
          -185.44477499963006,
          -161.66667496337587,
          -167.74761644600122,
          -178.8960786724621,
          -136.406905721071,
          -131.58736647547983,
          -145.68112449460273,
          -156.00986865522637,
          -147.95905372856453,
          -112.74121630519765,
          -170.37110513599285,
          -133.8424341653856,
          -147.9071530177106,
          -166.03579778289998,
          -131.23540650307095,
          -149.9707770828329,
          -115.6788409464507,
          -127.64329476321758,
          -123.4899397719014,
          -116.61078286066316,
          -124.99230777455082,
          -129.20356318680325,
          -108.28197852611311,
          -87.76993604113163,
          -94.80033827067551,
          -108.93023773781033,
          -90.6807847765749,
          -101.99795267937277,
          -81.4559621442724,
          -72.9532658745145,
          -80.65599441346575,
          -86.40776068642363,
          -85.9174440703568,
          -71.78057068837609,
          -52.914828508292864,
          -57.400946772129004,
          -49.183716275006006,
          -54.198903615814125,
          -86.62536038398913,
          -64.40898995749569,
          -81.3284933011961,
          -96.61374996307774,
          -53.78148729548337,
          -40.48768060015507,
          -12.194917894614928,
          -18.79360500474523,
          -22.02522050287759,
          -243.0717499534178,
          -251.85641300974746,
          -218.47239009045055,
          -242.8359389369506,
          -194.58039629142692,
          -199.66007419777324,
          -201.82204802719625,
          -175.59845487289056,
          -190.70783920463106,
          -164.57735924551287,
          -171.00809389532253,
          -175.44102020779764,
          -181.70475674703542,
          -159.13980514096872,
          -166.94197439348048,
          -177.70328048905344,
          -191.96027502217422,
          -161.40605576741555,
          -148.41853473925647,
          -128.3999591211729,
          -165.49644507653932,
          -164.7814834768512,
          -163.32612189265382,
          -147.89612343617958,
          -155.56012502630847,
          -121.87979626292548,
          -142.04919957415797,
          -162.95848647687708,
          -117.16994011385863,
          -165.7418565661318,
          -138.98157487109742,
          -129.2137850484801,
          -143.14143200699408,
          -119.20158045113601,
          -142.24827240941286,
          -141.96898072069837,
          -116.34143929672597,
          -134.326206300121,
          -137.22545161938564,
          -136.7480033948059,
          -116.49679697586724,
          -122.84226821491185,
          -113.61220282046237,
          -104.50127080127967,
          -106.20001182233258,
          -117.98223113324599,
          -109.5776719899225,
          -109.88195955727268,
          -112.81341803471918,
          -104.68224840687161,
          -96.2206511773764,
          -102.46673568550219,
          -85.05010729117087,
          -71.81817380542833,
          -66.96101656527328,
          -76.27940779416328,
          -94.68679836037848,
          -61.28927884907749,
          -53.38268087012534,
          -52.97198143234114,
          -51.285084818822504,
          -40.793283337701304,
          -22.855267345288922,
          -30.41882305483949,
          -41.8754859008528,
          -31.7103068610662,
          -9.522571492463989,
          -1.246921344805823,
          0.02513512213525502,
          -10.619642739662254,
          -1.1954437895627286,
          -8.881613383451606,
          -1.0726127568107997,
          -11.891526634015493,
          -1.8122304004711225,
          17.210063960248284,
          11.853639741790737,
          11.474698211234035,
          18.263533394251912,
          20.981657195654034,
          12.882034268946985,
          7.837579549610097,
          13.959318241137407,
          17.46629554536459,
          19.66090644664587,
          16.498231533506072,
          23.22990033250376,
          26.534237555359145,
          29.94996739602494,
          29.19204298244745,
          23.296862484562745,
          16.089419362641088,
          -1.9388940375730348,
          11.453113544104417,
          3.2927613042067247,
          16.845182673511463,
          33.71963344558498,
          26.13928738339358,
          29.397234779019538,
          46.83543919476757,
          40.33063324904728,
          46.846908308083556,
          37.18596764701253,
          31.823911778919616,
          43.095974348878954,
          42.98117862523818,
          34.88998711704199,
          28.274801023080325,
          16.188439528210846,
          18.856411359607797,
          22.644086985291416,
          29.561543160598884,
          36.785541245768215,
          45.33611822734806,
          53.948747549786184,
          64.83346114962394,
          57.40785727985904,
          54.39019051277692,
          66.80835603223409,
          64.2835676511527,
          62.5217077950221,
          62.65768508548902,
          73.53829165347022,
          67.3845038912101,
          74.81499382130822,
          68.37110165227071,
          71.4545414950078,
          71.33930518094569,
          65.89203643816374,
          64.86199902136858,
          69.92054166441181,
          73.8462555105421,
          59.90046824897673,
          65.19889519243885,
          59.91334914569987,
          73.7508864767115,
          62.47925037321914,
          61.91733483148073,
          50.773281007679216,
          69.61051133631358,
          39.335905115139234,
          66.07861467279655,
          68.91819210029183,
          33.37568156600765,
          53.38899424515524,
          60.96646075151036,
          52.58287539685121,
          64.92077166832841,
          71.13548784992348,
          106.16885861891922,
          112.84602673205097,
          89.56918399702447,
          86.99379183094929,
          109.82561589395968,
          84.52568102764425,
          91.67291019624885,
          85.00197982225954,
          115.46314745517628,
          69.23474901295899,
          79.47652969130745,
          79.61420019699764,
          109.46266960615476,
          106.00746140311689,
          96.63792012830245,
          117.86513749105154,
          128.01527969403062,
          99.1078637359384,
          103.92689642090747,
          94.5333320914927,
          102.74923919633275,
          73.05046486970821,
          81.41732851186728,
          45.57229212172569,
          45.97847960666751,
          21.12999944744026,
          45.317814227462776,
          20.574406096188433,
          54.15789375108329,
          84.81007646879316,
          87.64777350097589,
          99.11498061325176,
          91.59782128763935,
          85.94658086322136,
          90.9763467353122,
          60.848790858048595,
          71.81273453521133,
          75.77430533741249,
          51.679104181527876,
          57.067315941235414,
          71.60193468193683,
          105.02009957519277,
          95.31623238725531,
          137.59929968775432,
          99.11169247676719,
          110.8264617078842,
          98.2015333927806,
          104.291263070956,
          75.12564392019796,
          74.67853042082812,
          41.081328157830974,
          70.40492731405173,
          55.26901918170808,
          68.45058890900634,
          81.34003460862942,
          114.94961332069286,
          136.7299342379379,
          115.72186198528425,
          138.7554459948471,
          118.5542282678111,
          120.15734268004357,
          88.94562126817522,
          106.86029079710632,
          60.51791472666011,
          44.39635832588818,
          24.316077701660255,
          38.894691223833426,
          24.484931116623628,
          36.849897136362344,
          48.480317493155,
          54.41173041796514,
          65.32310936633911,
          82.74966898473014,
          82.99831927110343,
          101.35335418148749,
          96.22246606866833,
          104.24143246903583,
          90.89972238791505,
          59.98760816866736,
          75.37273512148262,
          64.14235336964698,
          60.04373849956765,
          33.52202985946271,
          11.550786443374125,
          23.137436162355936,
          52.22875507743927,
          76.25965543916867,
          91.63857098971037,
          100.3391288944892,
          120.40029777350945,
          121.58954061202276,
          148.9324830873152,
          147.18516911390697,
          140.9443579786908,
          136.22523570734674,
          147.94416618526483,
          139.55272957721078,
          138.08908478222966,
          135.11189557667322,
          107.90144106454851,
          146.6822791908124,
          137.86067915444636,
          115.59562258235026,
          152.22211760271398,
          131.56187351058574,
          125.58055972036226,
          94.92576087510211,
          133.56862736877426,
          140.87934832413097,
          92.0232078618214,
          95.88438303544613,
          92.74905319024506,
          121.77293508179945,
          97.78566886066879,
          107.91077804500318,
          111.4787364202581,
          108.10315492453373,
          93.0251979933839,
          114.0418595913255,
          114.84748695470068,
          118.21485243549174,
          126.31913691914531,
          132.90248519845628,
          143.03669599041328,
          118.29373809381677,
          116.76781287963644,
          149.71225771953436,
          171.0305800027327,
          148.07961039522377,
          119.91418898507753,
          138.37900123293156,
          126.72067545323502,
          163.72442909316274,
          147.33048086146667,
          137.46728425855366,
          152.60995031496938,
          143.27464434072172,
          123.37541520251507,
          108.44804309913081,
          110.82921392000868,
          124.29615596371167,
          108.10153613713297,
          97.17888781172104,
          96.83658318052791,
          101.45095622383096,
          112.11458354072568,
          75.00067665088801,
          98.44093163644895,
          123.02704675563085,
          125.80198170044983,
          139.73118483467297
         ],
         "yaxis": "y"
        }
       ],
       "layout": {
        "legend": {
         "tracegroupgap": 0
        },
        "margin": {
         "t": 60
        },
        "template": {
         "data": {
          "bar": [
           {
            "error_x": {
             "color": "#2a3f5f"
            },
            "error_y": {
             "color": "#2a3f5f"
            },
            "marker": {
             "line": {
              "color": "#E5ECF6",
              "width": 0.5
             },
             "pattern": {
              "fillmode": "overlay",
              "size": 10,
              "solidity": 0.2
             }
            },
            "type": "bar"
           }
          ],
          "barpolar": [
           {
            "marker": {
             "line": {
              "color": "#E5ECF6",
              "width": 0.5
             },
             "pattern": {
              "fillmode": "overlay",
              "size": 10,
              "solidity": 0.2
             }
            },
            "type": "barpolar"
           }
          ],
          "carpet": [
           {
            "aaxis": {
             "endlinecolor": "#2a3f5f",
             "gridcolor": "white",
             "linecolor": "white",
             "minorgridcolor": "white",
             "startlinecolor": "#2a3f5f"
            },
            "baxis": {
             "endlinecolor": "#2a3f5f",
             "gridcolor": "white",
             "linecolor": "white",
             "minorgridcolor": "white",
             "startlinecolor": "#2a3f5f"
            },
            "type": "carpet"
           }
          ],
          "choropleth": [
           {
            "colorbar": {
             "outlinewidth": 0,
             "ticks": ""
            },
            "type": "choropleth"
           }
          ],
          "contour": [
           {
            "colorbar": {
             "outlinewidth": 0,
             "ticks": ""
            },
            "colorscale": [
             [
              0,
              "#0d0887"
             ],
             [
              0.1111111111111111,
              "#46039f"
             ],
             [
              0.2222222222222222,
              "#7201a8"
             ],
             [
              0.3333333333333333,
              "#9c179e"
             ],
             [
              0.4444444444444444,
              "#bd3786"
             ],
             [
              0.5555555555555556,
              "#d8576b"
             ],
             [
              0.6666666666666666,
              "#ed7953"
             ],
             [
              0.7777777777777778,
              "#fb9f3a"
             ],
             [
              0.8888888888888888,
              "#fdca26"
             ],
             [
              1,
              "#f0f921"
             ]
            ],
            "type": "contour"
           }
          ],
          "contourcarpet": [
           {
            "colorbar": {
             "outlinewidth": 0,
             "ticks": ""
            },
            "type": "contourcarpet"
           }
          ],
          "heatmap": [
           {
            "colorbar": {
             "outlinewidth": 0,
             "ticks": ""
            },
            "colorscale": [
             [
              0,
              "#0d0887"
             ],
             [
              0.1111111111111111,
              "#46039f"
             ],
             [
              0.2222222222222222,
              "#7201a8"
             ],
             [
              0.3333333333333333,
              "#9c179e"
             ],
             [
              0.4444444444444444,
              "#bd3786"
             ],
             [
              0.5555555555555556,
              "#d8576b"
             ],
             [
              0.6666666666666666,
              "#ed7953"
             ],
             [
              0.7777777777777778,
              "#fb9f3a"
             ],
             [
              0.8888888888888888,
              "#fdca26"
             ],
             [
              1,
              "#f0f921"
             ]
            ],
            "type": "heatmap"
           }
          ],
          "heatmapgl": [
           {
            "colorbar": {
             "outlinewidth": 0,
             "ticks": ""
            },
            "colorscale": [
             [
              0,
              "#0d0887"
             ],
             [
              0.1111111111111111,
              "#46039f"
             ],
             [
              0.2222222222222222,
              "#7201a8"
             ],
             [
              0.3333333333333333,
              "#9c179e"
             ],
             [
              0.4444444444444444,
              "#bd3786"
             ],
             [
              0.5555555555555556,
              "#d8576b"
             ],
             [
              0.6666666666666666,
              "#ed7953"
             ],
             [
              0.7777777777777778,
              "#fb9f3a"
             ],
             [
              0.8888888888888888,
              "#fdca26"
             ],
             [
              1,
              "#f0f921"
             ]
            ],
            "type": "heatmapgl"
           }
          ],
          "histogram": [
           {
            "marker": {
             "pattern": {
              "fillmode": "overlay",
              "size": 10,
              "solidity": 0.2
             }
            },
            "type": "histogram"
           }
          ],
          "histogram2d": [
           {
            "colorbar": {
             "outlinewidth": 0,
             "ticks": ""
            },
            "colorscale": [
             [
              0,
              "#0d0887"
             ],
             [
              0.1111111111111111,
              "#46039f"
             ],
             [
              0.2222222222222222,
              "#7201a8"
             ],
             [
              0.3333333333333333,
              "#9c179e"
             ],
             [
              0.4444444444444444,
              "#bd3786"
             ],
             [
              0.5555555555555556,
              "#d8576b"
             ],
             [
              0.6666666666666666,
              "#ed7953"
             ],
             [
              0.7777777777777778,
              "#fb9f3a"
             ],
             [
              0.8888888888888888,
              "#fdca26"
             ],
             [
              1,
              "#f0f921"
             ]
            ],
            "type": "histogram2d"
           }
          ],
          "histogram2dcontour": [
           {
            "colorbar": {
             "outlinewidth": 0,
             "ticks": ""
            },
            "colorscale": [
             [
              0,
              "#0d0887"
             ],
             [
              0.1111111111111111,
              "#46039f"
             ],
             [
              0.2222222222222222,
              "#7201a8"
             ],
             [
              0.3333333333333333,
              "#9c179e"
             ],
             [
              0.4444444444444444,
              "#bd3786"
             ],
             [
              0.5555555555555556,
              "#d8576b"
             ],
             [
              0.6666666666666666,
              "#ed7953"
             ],
             [
              0.7777777777777778,
              "#fb9f3a"
             ],
             [
              0.8888888888888888,
              "#fdca26"
             ],
             [
              1,
              "#f0f921"
             ]
            ],
            "type": "histogram2dcontour"
           }
          ],
          "mesh3d": [
           {
            "colorbar": {
             "outlinewidth": 0,
             "ticks": ""
            },
            "type": "mesh3d"
           }
          ],
          "parcoords": [
           {
            "line": {
             "colorbar": {
              "outlinewidth": 0,
              "ticks": ""
             }
            },
            "type": "parcoords"
           }
          ],
          "pie": [
           {
            "automargin": true,
            "type": "pie"
           }
          ],
          "scatter": [
           {
            "fillpattern": {
             "fillmode": "overlay",
             "size": 10,
             "solidity": 0.2
            },
            "type": "scatter"
           }
          ],
          "scatter3d": [
           {
            "line": {
             "colorbar": {
              "outlinewidth": 0,
              "ticks": ""
             }
            },
            "marker": {
             "colorbar": {
              "outlinewidth": 0,
              "ticks": ""
             }
            },
            "type": "scatter3d"
           }
          ],
          "scattercarpet": [
           {
            "marker": {
             "colorbar": {
              "outlinewidth": 0,
              "ticks": ""
             }
            },
            "type": "scattercarpet"
           }
          ],
          "scattergeo": [
           {
            "marker": {
             "colorbar": {
              "outlinewidth": 0,
              "ticks": ""
             }
            },
            "type": "scattergeo"
           }
          ],
          "scattergl": [
           {
            "marker": {
             "colorbar": {
              "outlinewidth": 0,
              "ticks": ""
             }
            },
            "type": "scattergl"
           }
          ],
          "scattermapbox": [
           {
            "marker": {
             "colorbar": {
              "outlinewidth": 0,
              "ticks": ""
             }
            },
            "type": "scattermapbox"
           }
          ],
          "scatterpolar": [
           {
            "marker": {
             "colorbar": {
              "outlinewidth": 0,
              "ticks": ""
             }
            },
            "type": "scatterpolar"
           }
          ],
          "scatterpolargl": [
           {
            "marker": {
             "colorbar": {
              "outlinewidth": 0,
              "ticks": ""
             }
            },
            "type": "scatterpolargl"
           }
          ],
          "scatterternary": [
           {
            "marker": {
             "colorbar": {
              "outlinewidth": 0,
              "ticks": ""
             }
            },
            "type": "scatterternary"
           }
          ],
          "surface": [
           {
            "colorbar": {
             "outlinewidth": 0,
             "ticks": ""
            },
            "colorscale": [
             [
              0,
              "#0d0887"
             ],
             [
              0.1111111111111111,
              "#46039f"
             ],
             [
              0.2222222222222222,
              "#7201a8"
             ],
             [
              0.3333333333333333,
              "#9c179e"
             ],
             [
              0.4444444444444444,
              "#bd3786"
             ],
             [
              0.5555555555555556,
              "#d8576b"
             ],
             [
              0.6666666666666666,
              "#ed7953"
             ],
             [
              0.7777777777777778,
              "#fb9f3a"
             ],
             [
              0.8888888888888888,
              "#fdca26"
             ],
             [
              1,
              "#f0f921"
             ]
            ],
            "type": "surface"
           }
          ],
          "table": [
           {
            "cells": {
             "fill": {
              "color": "#EBF0F8"
             },
             "line": {
              "color": "white"
             }
            },
            "header": {
             "fill": {
              "color": "#C8D4E3"
             },
             "line": {
              "color": "white"
             }
            },
            "type": "table"
           }
          ]
         },
         "layout": {
          "annotationdefaults": {
           "arrowcolor": "#2a3f5f",
           "arrowhead": 0,
           "arrowwidth": 1
          },
          "autotypenumbers": "strict",
          "coloraxis": {
           "colorbar": {
            "outlinewidth": 0,
            "ticks": ""
           }
          },
          "colorscale": {
           "diverging": [
            [
             0,
             "#8e0152"
            ],
            [
             0.1,
             "#c51b7d"
            ],
            [
             0.2,
             "#de77ae"
            ],
            [
             0.3,
             "#f1b6da"
            ],
            [
             0.4,
             "#fde0ef"
            ],
            [
             0.5,
             "#f7f7f7"
            ],
            [
             0.6,
             "#e6f5d0"
            ],
            [
             0.7,
             "#b8e186"
            ],
            [
             0.8,
             "#7fbc41"
            ],
            [
             0.9,
             "#4d9221"
            ],
            [
             1,
             "#276419"
            ]
           ],
           "sequential": [
            [
             0,
             "#0d0887"
            ],
            [
             0.1111111111111111,
             "#46039f"
            ],
            [
             0.2222222222222222,
             "#7201a8"
            ],
            [
             0.3333333333333333,
             "#9c179e"
            ],
            [
             0.4444444444444444,
             "#bd3786"
            ],
            [
             0.5555555555555556,
             "#d8576b"
            ],
            [
             0.6666666666666666,
             "#ed7953"
            ],
            [
             0.7777777777777778,
             "#fb9f3a"
            ],
            [
             0.8888888888888888,
             "#fdca26"
            ],
            [
             1,
             "#f0f921"
            ]
           ],
           "sequentialminus": [
            [
             0,
             "#0d0887"
            ],
            [
             0.1111111111111111,
             "#46039f"
            ],
            [
             0.2222222222222222,
             "#7201a8"
            ],
            [
             0.3333333333333333,
             "#9c179e"
            ],
            [
             0.4444444444444444,
             "#bd3786"
            ],
            [
             0.5555555555555556,
             "#d8576b"
            ],
            [
             0.6666666666666666,
             "#ed7953"
            ],
            [
             0.7777777777777778,
             "#fb9f3a"
            ],
            [
             0.8888888888888888,
             "#fdca26"
            ],
            [
             1,
             "#f0f921"
            ]
           ]
          },
          "colorway": [
           "#636efa",
           "#EF553B",
           "#00cc96",
           "#ab63fa",
           "#FFA15A",
           "#19d3f3",
           "#FF6692",
           "#B6E880",
           "#FF97FF",
           "#FECB52"
          ],
          "font": {
           "color": "#2a3f5f"
          },
          "geo": {
           "bgcolor": "white",
           "lakecolor": "white",
           "landcolor": "#E5ECF6",
           "showlakes": true,
           "showland": true,
           "subunitcolor": "white"
          },
          "hoverlabel": {
           "align": "left"
          },
          "hovermode": "closest",
          "mapbox": {
           "style": "light"
          },
          "paper_bgcolor": "white",
          "plot_bgcolor": "#E5ECF6",
          "polar": {
           "angularaxis": {
            "gridcolor": "white",
            "linecolor": "white",
            "ticks": ""
           },
           "bgcolor": "#E5ECF6",
           "radialaxis": {
            "gridcolor": "white",
            "linecolor": "white",
            "ticks": ""
           }
          },
          "scene": {
           "xaxis": {
            "backgroundcolor": "#E5ECF6",
            "gridcolor": "white",
            "gridwidth": 2,
            "linecolor": "white",
            "showbackground": true,
            "ticks": "",
            "zerolinecolor": "white"
           },
           "yaxis": {
            "backgroundcolor": "#E5ECF6",
            "gridcolor": "white",
            "gridwidth": 2,
            "linecolor": "white",
            "showbackground": true,
            "ticks": "",
            "zerolinecolor": "white"
           },
           "zaxis": {
            "backgroundcolor": "#E5ECF6",
            "gridcolor": "white",
            "gridwidth": 2,
            "linecolor": "white",
            "showbackground": true,
            "ticks": "",
            "zerolinecolor": "white"
           }
          },
          "shapedefaults": {
           "line": {
            "color": "#2a3f5f"
           }
          },
          "ternary": {
           "aaxis": {
            "gridcolor": "white",
            "linecolor": "white",
            "ticks": ""
           },
           "baxis": {
            "gridcolor": "white",
            "linecolor": "white",
            "ticks": ""
           },
           "bgcolor": "#E5ECF6",
           "caxis": {
            "gridcolor": "white",
            "linecolor": "white",
            "ticks": ""
           }
          },
          "title": {
           "x": 0.05
          },
          "xaxis": {
           "automargin": true,
           "gridcolor": "white",
           "linecolor": "white",
           "ticks": "",
           "title": {
            "standoff": 15
           },
           "zerolinecolor": "white",
           "zerolinewidth": 2
          },
          "yaxis": {
           "automargin": true,
           "gridcolor": "white",
           "linecolor": "white",
           "ticks": "",
           "title": {
            "standoff": 15
           },
           "zerolinecolor": "white",
           "zerolinewidth": 2
          }
         }
        },
        "xaxis": {
         "anchor": "y",
         "domain": [
          0,
          1
         ],
         "title": {
          "text": "epoch"
         }
        },
        "yaxis": {
         "anchor": "x",
         "domain": [
          0,
          1
         ],
         "title": {
          "text": "reward"
         }
        }
       }
      }
     },
     "metadata": {},
     "output_type": "display_data"
    }
   ],
   "source": [
    "px.line(best_model_total_rewards, x='epoch', y='reward')"
   ]
  },
  {
   "cell_type": "code",
   "execution_count": null,
   "metadata": {},
   "outputs": [],
   "source": []
  }
 ],
 "metadata": {
  "kernelspec": {
   "display_name": "env",
   "language": "python",
   "name": "python3"
  },
  "language_info": {
   "codemirror_mode": {
    "name": "ipython",
    "version": 3
   },
   "file_extension": ".py",
   "mimetype": "text/x-python",
   "name": "python",
   "nbconvert_exporter": "python",
   "pygments_lexer": "ipython3",
   "version": "3.10.11"
  }
 },
 "nbformat": 4,
 "nbformat_minor": 2
}
