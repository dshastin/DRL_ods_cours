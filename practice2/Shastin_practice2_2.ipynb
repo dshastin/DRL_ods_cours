{
 "cells": [
  {
   "cell_type": "markdown",
   "metadata": {},
   "source": [
    "Домашнее задание 2.2"
   ]
  },
  {
   "cell_type": "markdown",
   "metadata": {},
   "source": [
    "Задача MountainCar"
   ]
  },
  {
   "cell_type": "markdown",
   "metadata": {},
   "source": [
    "Возьмем тот же код, что и для решения задачи LunarLender"
   ]
  },
  {
   "cell_type": "code",
   "execution_count": 18,
   "metadata": {},
   "outputs": [],
   "source": [
    "import torch\n",
    "from torch import nn \n",
    "import torch.nn.functional as F\n",
    "import numpy as np\n",
    "import pandas as pd\n",
    "import gym\n",
    "import plotly.express as px\n",
    "import time \n",
    "import pickle"
   ]
  },
  {
   "cell_type": "code",
   "execution_count": 41,
   "metadata": {},
   "outputs": [],
   "source": [
    "class CEMTwoLayer(nn.Module):\n",
    "    def __init__(self, state_dim, action_n, hidden1, hidden2, lr=0.01, eps=0):\n",
    "        super().__init__()\n",
    "        self.state_dim = state_dim\n",
    "        self.action_n = action_n\n",
    "        self.lr = lr\n",
    "        self.eps = eps\n",
    "\n",
    "        self.network = nn.Sequential(\n",
    "            nn.Linear(self.state_dim, hidden1),\n",
    "            nn.ReLU(),\n",
    "            # nn.Linear(hidden1, hidden2),\n",
    "            # nn.ReLU(),\n",
    "            nn.Linear(hidden1, action_n)\n",
    "        )\n",
    "        \n",
    "        self.softmax = nn.Softmax(dim=0)\n",
    "        self.optimizer = torch.optim.Adam(self.parameters(), lr=lr)\n",
    "        self.loss = nn.CrossEntropyLoss()\n",
    "        \n",
    "    def forward(self, _input):\n",
    "        return self.network(_input) \n",
    "    \n",
    "    def get_action(self, state):\n",
    "        state = torch.FloatTensor(state)\n",
    "        logits = self.forward(state)\n",
    "        action = F.tanh(logits).detach().numpy()\n",
    "        \n",
    "        # if eps:\n",
    "        #     noise = np.ones(self.action_n) / self.action_n\n",
    "        #     action_prob = (1 - self.eps) * action_prob + self.eps * noise\n",
    "        #     action_prob = action_prob / np.sum(action_prob)\n",
    "        # action = np.random.choice(self.action_n, p=action_prob)\n",
    "        return action\n",
    "    \n",
    "    def update_policy(self, elite_states, elite_actions):\n",
    "        elite_states_tensor = torch.FloatTensor(elite_states)\n",
    "        elite_actions_tensor = torch.FloatTensor(elite_actions)\n",
    "\n",
    "        loss = self.loss(self.forward(elite_states_tensor), elite_actions_tensor)\n",
    "        loss.backward()\n",
    "        self.optimizer.step()\n",
    "        self.optimizer.zero_grad()"
   ]
  },
  {
   "cell_type": "code",
   "execution_count": 42,
   "metadata": {},
   "outputs": [],
   "source": [
    "def generate_batch(env, agent, batch_size, trajectory_len):\n",
    "    batch_states, batch_actions, batch_rewards = [], [], []\n",
    "\n",
    "    for _ in range(batch_size):\n",
    "        states, actions = [], []\n",
    "        total_reward = 0\n",
    "\n",
    "        state = env.reset()\n",
    "        for _ in range(trajectory_len):\n",
    "            action = agent.get_action(state)\n",
    "            new_state, reward, done, _ = env.step(action)\n",
    "            states.append(state)\n",
    "            actions.append(action)\n",
    "            total_reward += reward\n",
    "            state = new_state\n",
    "            \n",
    "            if done:\n",
    "                batch_actions.append(actions)\n",
    "                batch_states.append(states)\n",
    "                batch_rewards.append(total_reward)\n",
    "                break\n",
    "    return batch_states, batch_actions, batch_rewards"
   ]
  },
  {
   "cell_type": "code",
   "execution_count": 43,
   "metadata": {},
   "outputs": [],
   "source": [
    "def get_elite_states(batch_states, batch_actions, batch_rewards, q_param):\n",
    "    quantile = np.quantile(batch_rewards, q=q_param) \n",
    "\n",
    "    elite_states = []\n",
    "    elite_actions = []\n",
    "    for i in range(len(batch_rewards)):\n",
    "        if batch_rewards[i] > quantile:\n",
    "            for j in range(len(batch_states[i])):\n",
    "                elite_states.append(batch_states[i][j])\n",
    "                elite_actions.append(batch_actions[i][j])\n",
    "    \n",
    "    return elite_states, elite_actions"
   ]
  },
  {
   "cell_type": "code",
   "execution_count": 52,
   "metadata": {},
   "outputs": [],
   "source": [
    "env = gym.make('MountainCarContinuous-v0')\n",
    "\n",
    "state_dim = env.observation_space.shape[0]\n",
    "action_n = env.action_space.shape[0]\n",
    "MAX_ITER = 300\n",
    "BATCH_SIZE = 100\n",
    "TRAJECTORY_LEN = 1000"
   ]
  },
  {
   "cell_type": "code",
   "execution_count": 53,
   "metadata": {},
   "outputs": [],
   "source": [
    "best_model_total_rewards = []"
   ]
  },
  {
   "cell_type": "code",
   "execution_count": 54,
   "metadata": {},
   "outputs": [
    {
     "name": "stdout",
     "output_type": "stream",
     "text": [
      "0: mean_reward=-9.11713581074355\n",
      "1: mean_reward=-9.117974319487914\n",
      "2: mean_reward=-9.11784201173415\n",
      "3: mean_reward=-9.119566202327249\n",
      "4: mean_reward=-9.119801890937403\n",
      "5: mean_reward=-9.120305523208378\n",
      "6: mean_reward=-9.120415767376214\n",
      "7: mean_reward=-9.118150711415327\n",
      "8: mean_reward=-9.119332838755517\n",
      "9: mean_reward=-9.120592682971337\n",
      "10: mean_reward=-9.120049834267949\n",
      "11: mean_reward=-9.118632879394012\n",
      "12: mean_reward=-9.120476639491784\n",
      "13: mean_reward=-9.119286406556332\n",
      "14: mean_reward=-9.117719551902049\n",
      "15: mean_reward=-9.1184503477136\n",
      "16: mean_reward=-9.119720454336194\n",
      "17: mean_reward=-9.119390652363574\n",
      "18: mean_reward=-9.12169429444862\n",
      "19: mean_reward=-9.119786344942476\n",
      "20: mean_reward=-9.120573120080557\n",
      "21: mean_reward=-9.119494398564747\n"
     ]
    },
    {
     "ename": "KeyboardInterrupt",
     "evalue": "",
     "output_type": "error",
     "traceback": [
      "\u001b[1;31m---------------------------------------------------------------------------\u001b[0m",
      "\u001b[1;31mKeyboardInterrupt\u001b[0m                         Traceback (most recent call last)",
      "\u001b[1;32mg:\\PycharmProjects\\DRL\\practice2\\Shastin_practice2_2.ipynb Cell 10\u001b[0m line \u001b[0;36m1\n\u001b[0;32m     <a href='vscode-notebook-cell:/g%3A/PycharmProjects/DRL/practice2/Shastin_practice2_2.ipynb#X12sZmlsZQ%3D%3D?line=11'>12</a>\u001b[0m     best_model_total_rewards\u001b[39m.\u001b[39mappend({\u001b[39m'\u001b[39m\u001b[39magent\u001b[39m\u001b[39m'\u001b[39m: \u001b[39m'\u001b[39m\u001b[39mtwo_layer_16_16\u001b[39m\u001b[39m'\u001b[39m, \u001b[39m'\u001b[39m\u001b[39mepoch\u001b[39m\u001b[39m'\u001b[39m: i, \u001b[39m'\u001b[39m\u001b[39mq\u001b[39m\u001b[39m'\u001b[39m: Q, \u001b[39m'\u001b[39m\u001b[39mreward\u001b[39m\u001b[39m'\u001b[39m: mean_reward})\n\u001b[0;32m     <a href='vscode-notebook-cell:/g%3A/PycharmProjects/DRL/practice2/Shastin_practice2_2.ipynb#X12sZmlsZQ%3D%3D?line=12'>13</a>\u001b[0m     \u001b[39mif\u001b[39;00m elite_states:\n\u001b[1;32m---> <a href='vscode-notebook-cell:/g%3A/PycharmProjects/DRL/practice2/Shastin_practice2_2.ipynb#X12sZmlsZQ%3D%3D?line=13'>14</a>\u001b[0m         agent_two_layer\u001b[39m.\u001b[39;49mupdate_policy(elite_states, elite_actions)\n\u001b[0;32m     <a href='vscode-notebook-cell:/g%3A/PycharmProjects/DRL/practice2/Shastin_practice2_2.ipynb#X12sZmlsZQ%3D%3D?line=14'>15</a>\u001b[0m     \u001b[39mprint\u001b[39m(\u001b[39mf\u001b[39m\u001b[39m'\u001b[39m\u001b[39m{\u001b[39;00mi\u001b[39m}\u001b[39;00m\u001b[39m: mean_reward=\u001b[39m\u001b[39m{\u001b[39;00mmean_reward\u001b[39m}\u001b[39;00m\u001b[39m'\u001b[39m)\n\u001b[0;32m     <a href='vscode-notebook-cell:/g%3A/PycharmProjects/DRL/practice2/Shastin_practice2_2.ipynb#X12sZmlsZQ%3D%3D?line=16'>17</a>\u001b[0m time_end \u001b[39m=\u001b[39m time\u001b[39m.\u001b[39mtime()\n",
      "\u001b[1;32mg:\\PycharmProjects\\DRL\\practice2\\Shastin_practice2_2.ipynb Cell 10\u001b[0m line \u001b[0;36m4\n\u001b[0;32m     <a href='vscode-notebook-cell:/g%3A/PycharmProjects/DRL/practice2/Shastin_practice2_2.ipynb#X12sZmlsZQ%3D%3D?line=36'>37</a>\u001b[0m elite_states_tensor \u001b[39m=\u001b[39m torch\u001b[39m.\u001b[39mFloatTensor(elite_states)\n\u001b[0;32m     <a href='vscode-notebook-cell:/g%3A/PycharmProjects/DRL/practice2/Shastin_practice2_2.ipynb#X12sZmlsZQ%3D%3D?line=37'>38</a>\u001b[0m elite_actions_tensor \u001b[39m=\u001b[39m torch\u001b[39m.\u001b[39mFloatTensor(elite_actions)\n\u001b[1;32m---> <a href='vscode-notebook-cell:/g%3A/PycharmProjects/DRL/practice2/Shastin_practice2_2.ipynb#X12sZmlsZQ%3D%3D?line=39'>40</a>\u001b[0m loss \u001b[39m=\u001b[39m \u001b[39mself\u001b[39m\u001b[39m.\u001b[39mloss(\u001b[39mself\u001b[39;49m\u001b[39m.\u001b[39;49mforward(elite_states_tensor), elite_actions_tensor)\n\u001b[0;32m     <a href='vscode-notebook-cell:/g%3A/PycharmProjects/DRL/practice2/Shastin_practice2_2.ipynb#X12sZmlsZQ%3D%3D?line=40'>41</a>\u001b[0m loss\u001b[39m.\u001b[39mbackward()\n\u001b[0;32m     <a href='vscode-notebook-cell:/g%3A/PycharmProjects/DRL/practice2/Shastin_practice2_2.ipynb#X12sZmlsZQ%3D%3D?line=41'>42</a>\u001b[0m \u001b[39mself\u001b[39m\u001b[39m.\u001b[39moptimizer\u001b[39m.\u001b[39mstep()\n",
      "\u001b[1;32mg:\\PycharmProjects\\DRL\\practice2\\Shastin_practice2_2.ipynb Cell 10\u001b[0m line \u001b[0;36m2\n\u001b[0;32m     <a href='vscode-notebook-cell:/g%3A/PycharmProjects/DRL/practice2/Shastin_practice2_2.ipynb#X12sZmlsZQ%3D%3D?line=20'>21</a>\u001b[0m \u001b[39mdef\u001b[39;00m \u001b[39mforward\u001b[39m(\u001b[39mself\u001b[39m, _input):\n\u001b[1;32m---> <a href='vscode-notebook-cell:/g%3A/PycharmProjects/DRL/practice2/Shastin_practice2_2.ipynb#X12sZmlsZQ%3D%3D?line=21'>22</a>\u001b[0m     \u001b[39mreturn\u001b[39;00m \u001b[39mself\u001b[39;49m\u001b[39m.\u001b[39;49mnetwork(_input)\n",
      "File \u001b[1;32mg:\\PycharmProjects\\DRL\\env\\lib\\site-packages\\torch\\nn\\modules\\module.py:1518\u001b[0m, in \u001b[0;36mModule._wrapped_call_impl\u001b[1;34m(self, *args, **kwargs)\u001b[0m\n\u001b[0;32m   1516\u001b[0m     \u001b[39mreturn\u001b[39;00m \u001b[39mself\u001b[39m\u001b[39m.\u001b[39m_compiled_call_impl(\u001b[39m*\u001b[39margs, \u001b[39m*\u001b[39m\u001b[39m*\u001b[39mkwargs)  \u001b[39m# type: ignore[misc]\u001b[39;00m\n\u001b[0;32m   1517\u001b[0m \u001b[39melse\u001b[39;00m:\n\u001b[1;32m-> 1518\u001b[0m     \u001b[39mreturn\u001b[39;00m \u001b[39mself\u001b[39m\u001b[39m.\u001b[39m_call_impl(\u001b[39m*\u001b[39margs, \u001b[39m*\u001b[39m\u001b[39m*\u001b[39mkwargs)\n",
      "File \u001b[1;32mg:\\PycharmProjects\\DRL\\env\\lib\\site-packages\\torch\\nn\\modules\\module.py:1527\u001b[0m, in \u001b[0;36mModule._call_impl\u001b[1;34m(self, *args, **kwargs)\u001b[0m\n\u001b[0;32m   1522\u001b[0m \u001b[39m# If we don't have any hooks, we want to skip the rest of the logic in\u001b[39;00m\n\u001b[0;32m   1523\u001b[0m \u001b[39m# this function, and just call forward.\u001b[39;00m\n\u001b[0;32m   1524\u001b[0m \u001b[39mif\u001b[39;00m \u001b[39mnot\u001b[39;00m (\u001b[39mself\u001b[39m\u001b[39m.\u001b[39m_backward_hooks \u001b[39mor\u001b[39;00m \u001b[39mself\u001b[39m\u001b[39m.\u001b[39m_backward_pre_hooks \u001b[39mor\u001b[39;00m \u001b[39mself\u001b[39m\u001b[39m.\u001b[39m_forward_hooks \u001b[39mor\u001b[39;00m \u001b[39mself\u001b[39m\u001b[39m.\u001b[39m_forward_pre_hooks\n\u001b[0;32m   1525\u001b[0m         \u001b[39mor\u001b[39;00m _global_backward_pre_hooks \u001b[39mor\u001b[39;00m _global_backward_hooks\n\u001b[0;32m   1526\u001b[0m         \u001b[39mor\u001b[39;00m _global_forward_hooks \u001b[39mor\u001b[39;00m _global_forward_pre_hooks):\n\u001b[1;32m-> 1527\u001b[0m     \u001b[39mreturn\u001b[39;00m forward_call(\u001b[39m*\u001b[39margs, \u001b[39m*\u001b[39m\u001b[39m*\u001b[39mkwargs)\n\u001b[0;32m   1529\u001b[0m \u001b[39mtry\u001b[39;00m:\n\u001b[0;32m   1530\u001b[0m     result \u001b[39m=\u001b[39m \u001b[39mNone\u001b[39;00m\n",
      "File \u001b[1;32mg:\\PycharmProjects\\DRL\\env\\lib\\site-packages\\torch\\nn\\modules\\container.py:215\u001b[0m, in \u001b[0;36mSequential.forward\u001b[1;34m(self, input)\u001b[0m\n\u001b[0;32m    213\u001b[0m \u001b[39mdef\u001b[39;00m \u001b[39mforward\u001b[39m(\u001b[39mself\u001b[39m, \u001b[39minput\u001b[39m):\n\u001b[0;32m    214\u001b[0m     \u001b[39mfor\u001b[39;00m module \u001b[39min\u001b[39;00m \u001b[39mself\u001b[39m:\n\u001b[1;32m--> 215\u001b[0m         \u001b[39minput\u001b[39m \u001b[39m=\u001b[39m module(\u001b[39minput\u001b[39;49m)\n\u001b[0;32m    216\u001b[0m     \u001b[39mreturn\u001b[39;00m \u001b[39minput\u001b[39m\n",
      "File \u001b[1;32mg:\\PycharmProjects\\DRL\\env\\lib\\site-packages\\torch\\nn\\modules\\module.py:1518\u001b[0m, in \u001b[0;36mModule._wrapped_call_impl\u001b[1;34m(self, *args, **kwargs)\u001b[0m\n\u001b[0;32m   1516\u001b[0m     \u001b[39mreturn\u001b[39;00m \u001b[39mself\u001b[39m\u001b[39m.\u001b[39m_compiled_call_impl(\u001b[39m*\u001b[39margs, \u001b[39m*\u001b[39m\u001b[39m*\u001b[39mkwargs)  \u001b[39m# type: ignore[misc]\u001b[39;00m\n\u001b[0;32m   1517\u001b[0m \u001b[39melse\u001b[39;00m:\n\u001b[1;32m-> 1518\u001b[0m     \u001b[39mreturn\u001b[39;00m \u001b[39mself\u001b[39m\u001b[39m.\u001b[39m_call_impl(\u001b[39m*\u001b[39margs, \u001b[39m*\u001b[39m\u001b[39m*\u001b[39mkwargs)\n",
      "File \u001b[1;32mg:\\PycharmProjects\\DRL\\env\\lib\\site-packages\\torch\\nn\\modules\\module.py:1527\u001b[0m, in \u001b[0;36mModule._call_impl\u001b[1;34m(self, *args, **kwargs)\u001b[0m\n\u001b[0;32m   1522\u001b[0m \u001b[39m# If we don't have any hooks, we want to skip the rest of the logic in\u001b[39;00m\n\u001b[0;32m   1523\u001b[0m \u001b[39m# this function, and just call forward.\u001b[39;00m\n\u001b[0;32m   1524\u001b[0m \u001b[39mif\u001b[39;00m \u001b[39mnot\u001b[39;00m (\u001b[39mself\u001b[39m\u001b[39m.\u001b[39m_backward_hooks \u001b[39mor\u001b[39;00m \u001b[39mself\u001b[39m\u001b[39m.\u001b[39m_backward_pre_hooks \u001b[39mor\u001b[39;00m \u001b[39mself\u001b[39m\u001b[39m.\u001b[39m_forward_hooks \u001b[39mor\u001b[39;00m \u001b[39mself\u001b[39m\u001b[39m.\u001b[39m_forward_pre_hooks\n\u001b[0;32m   1525\u001b[0m         \u001b[39mor\u001b[39;00m _global_backward_pre_hooks \u001b[39mor\u001b[39;00m _global_backward_hooks\n\u001b[0;32m   1526\u001b[0m         \u001b[39mor\u001b[39;00m _global_forward_hooks \u001b[39mor\u001b[39;00m _global_forward_pre_hooks):\n\u001b[1;32m-> 1527\u001b[0m     \u001b[39mreturn\u001b[39;00m forward_call(\u001b[39m*\u001b[39margs, \u001b[39m*\u001b[39m\u001b[39m*\u001b[39mkwargs)\n\u001b[0;32m   1529\u001b[0m \u001b[39mtry\u001b[39;00m:\n\u001b[0;32m   1530\u001b[0m     result \u001b[39m=\u001b[39m \u001b[39mNone\u001b[39;00m\n",
      "File \u001b[1;32mg:\\PycharmProjects\\DRL\\env\\lib\\site-packages\\torch\\nn\\modules\\linear.py:114\u001b[0m, in \u001b[0;36mLinear.forward\u001b[1;34m(self, input)\u001b[0m\n\u001b[0;32m    113\u001b[0m \u001b[39mdef\u001b[39;00m \u001b[39mforward\u001b[39m(\u001b[39mself\u001b[39m, \u001b[39minput\u001b[39m: Tensor) \u001b[39m-\u001b[39m\u001b[39m>\u001b[39m Tensor:\n\u001b[1;32m--> 114\u001b[0m     \u001b[39mreturn\u001b[39;00m F\u001b[39m.\u001b[39;49mlinear(\u001b[39minput\u001b[39;49m, \u001b[39mself\u001b[39;49m\u001b[39m.\u001b[39;49mweight, \u001b[39mself\u001b[39;49m\u001b[39m.\u001b[39;49mbias)\n",
      "\u001b[1;31mKeyboardInterrupt\u001b[0m: "
     ]
    }
   ],
   "source": [
    "Q = 0.6\n",
    "lr = 1e-2\n",
    "eps = 0\n",
    "\n",
    "agent_two_layer = CEMTwoLayer(state_dim, action_n, hidden1=128, hidden2=0, lr=lr)\n",
    "\n",
    "for i in range(MAX_ITER):\n",
    "    # agent_two_layer.eps * 0.99\n",
    "    batch_states, batch_actions, batch_rewards = generate_batch(env, agent_two_layer, BATCH_SIZE, TRAJECTORY_LEN)\n",
    "    elite_states, elite_actions = get_elite_states(batch_states, batch_actions, batch_rewards, Q)\n",
    "    mean_reward = np.mean(batch_rewards)\n",
    "    best_model_total_rewards.append({'agent': 'two_layer_16_16', 'epoch': i, 'q': Q, 'reward': mean_reward})\n",
    "    if elite_states:\n",
    "        agent_two_layer.update_policy(elite_states, elite_actions)\n",
    "    print(f'{i}: mean_reward={mean_reward}')\n",
    "\n",
    "time_end = time.time()"
   ]
  },
  {
   "cell_type": "markdown",
   "metadata": {},
   "source": [
    "Ничего не получилось. Сдаюсь"
   ]
  },
  {
   "cell_type": "markdown",
   "metadata": {},
   "source": []
  }
 ],
 "metadata": {
  "kernelspec": {
   "display_name": "env",
   "language": "python",
   "name": "python3"
  },
  "language_info": {
   "codemirror_mode": {
    "name": "ipython",
    "version": 3
   },
   "file_extension": ".py",
   "mimetype": "text/x-python",
   "name": "python",
   "nbconvert_exporter": "python",
   "pygments_lexer": "ipython3",
   "version": "3.10.11"
  }
 },
 "nbformat": 4,
 "nbformat_minor": 2
}
