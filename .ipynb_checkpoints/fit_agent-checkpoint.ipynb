{
 "cells": [
  {
   "cell_type": "code",
   "execution_count": 2,
   "id": "27d6f584-5173-4a47-b006-48294ed6228d",
   "metadata": {},
   "outputs": [
    {
     "name": "stderr",
     "output_type": "stream",
     "text": [
      "Warning: Gym version v0.24.0 has a number of critical issues with `gym.make` such that the `reset` and `step` functions are called before returning the environment. It is recommend to downgrading to v0.23.1 or upgrading to v0.25.1\n"
     ]
    }
   ],
   "source": [
    "from hw1 import *\n",
    "import plotly.express as px\n",
    "import pandas as pd\n",
    "from IPython import display"
   ]
  },
  {
   "cell_type": "code",
   "execution_count": 33,
   "id": "0eeed7a4",
   "metadata": {},
   "outputs": [],
   "source": [
    "agent_params = dict(\n",
    "        action_n = 6,\n",
    "        state_n = 500,\n",
    "        smoothing_type = None,\n",
    "        l_value = 0.1\n",
    "    )\n",
    "\n",
    "fit_params = dict(\n",
    "        n_iterations = 30,\n",
    "        n_trajectories = 100,\n",
    "        n_packs = 20,\n",
    "        n_steps = 200,\n",
    "        stochastic_env = False,\n",
    "        q = 0.6,\n",
    "    )"
   ]
  },
  {
   "cell_type": "markdown",
   "id": "0f9d278d",
   "metadata": {},
   "source": [
    "ДЗ 1. Алгоритм Cross-Entropy без сглаживания"
   ]
  },
  {
   "cell_type": "code",
   "execution_count": 70,
   "id": "5630e28b",
   "metadata": {},
   "outputs": [
    {
     "name": "stdout",
     "output_type": "stream",
     "text": [
      "n_trajectories=1000 l_val=5 q_val=0.9\n",
      "iteration: 0/30\n",
      "iteration: 10/30\n",
      "iteration: 20/30\n"
     ]
    }
   ],
   "source": [
    "no_smoothing_rewards = []\n",
    "smoothing = 'no_smoothing'\n",
    "for n_trajectories in [100, 300, 500, 1000]:\n",
    "    for l_val in [1, 2, 3, 4, 5]:\n",
    "        for q_val in [0.5, 0.7, 0.9]:\n",
    "            print(f'n_trajectories={n_trajectories} l_val={l_val} q_val={q_val}')\n",
    "            agent_params['l_value'] = l_val\n",
    "            agent_params['smoothing_type'] = None\n",
    "            \n",
    "            fit_params['n_trajectories'] = n_trajectories\n",
    "            fit_params['q'] = q_val\n",
    "            \n",
    "            env = gym.make('Taxi-v3')\n",
    "            agent = CrossEntropyAgent(**agent_params)\n",
    "\n",
    "            fit_rewards = fit(env, agent, **fit_params)\n",
    "            reward_records = [{'smoothing': smoothing, 'l_value': l_val, 'q_value': q_val, 'n_trajectories': n_trajectories,\n",
    "                            'iteration': i, 'reward': r} for i, r in enumerate(fit_rewards)]\n",
    "            no_smoothing_rewards.extend(reward_records)\n",
    "            \n",
    "            display.clear_output(wait=True)"
   ]
  },
  {
   "cell_type": "code",
   "execution_count": 71,
   "id": "d7b31304",
   "metadata": {},
   "outputs": [],
   "source": [
    "df = pd.DataFrame.from_records(no_smoothing_rewards)"
   ]
  },
  {
   "cell_type": "code",
   "execution_count": 81,
   "id": "24612952",
   "metadata": {},
   "outputs": [
    {
     "data": {
      "application/vnd.plotly.v1+json": {
       "config": {
        "plotlyServerURL": "https://plot.ly"
       },
       "data": [
        {
         "hovertemplate": "n_trajectories=50<br>iteration=%{x}<br>reward=%{y}<extra></extra>",
         "legendgroup": "50",
         "line": {
          "color": "#636efa",
          "dash": "solid"
         },
         "marker": {
          "symbol": "circle"
         },
         "mode": "lines",
         "name": "50",
         "orientation": "v",
         "showlegend": true,
         "type": "scatter",
         "x": [
          0,
          1,
          2,
          3,
          4,
          5,
          6,
          7,
          8,
          9,
          10,
          11,
          12,
          13,
          14,
          15,
          16,
          17,
          18,
          19,
          20,
          21,
          22,
          23,
          24,
          25,
          26,
          27,
          28,
          29
         ],
         "xaxis": "x",
         "y": [
          -770.3253333333333,
          -720.7213333333333,
          -646.7213333333333,
          -584.2333333333333,
          -537.6253333333333,
          -492.9373333333333,
          -480.928,
          -467.33466666666664,
          -444.748,
          -420.152,
          -409.8706666666667,
          -393.8946666666667,
          -411.9053333333333,
          -418.35333333333335,
          -395.4306666666667,
          -391.768,
          -415.5226666666667,
          -407.916,
          -387.47333333333336,
          -389.652,
          -399.6373333333333,
          -393.2866666666667,
          -393.0853333333333,
          -387.32,
          -409.65066666666667,
          -388.992,
          -383.972,
          -387.7906666666667,
          -380.96933333333334,
          -389.028
         ],
         "yaxis": "y"
        },
        {
         "hovertemplate": "n_trajectories=100<br>iteration=%{x}<br>reward=%{y}<extra></extra>",
         "legendgroup": "100",
         "line": {
          "color": "#EF553B",
          "dash": "solid"
         },
         "marker": {
          "symbol": "circle"
         },
         "mode": "lines",
         "name": "100",
         "orientation": "v",
         "showlegend": true,
         "type": "scatter",
         "x": [
          0,
          1,
          2,
          3,
          4,
          5,
          6,
          7,
          8,
          9,
          10,
          11,
          12,
          13,
          14,
          15,
          16,
          17,
          18,
          19,
          20,
          21,
          22,
          23,
          24,
          25,
          26,
          27,
          28,
          29
         ],
         "xaxis": "x",
         "y": [
          -766.8086666666666,
          -688.6253333333333,
          -599.1686666666667,
          -518.5273333333333,
          -462.53066666666666,
          -428.8213333333333,
          -407.37466666666666,
          -385.1813333333333,
          -366.4566666666667,
          -358.45533333333333,
          -347.906,
          -343.7853333333333,
          -342.0866666666667,
          -344.8066666666667,
          -332.1993333333333,
          -322.70799999999997,
          -336.6193333333333,
          -328.03333333333336,
          -325.02933333333334,
          -326.858,
          -319.004,
          -319.21200000000005,
          -324.934,
          -319.11466666666666,
          -325.68733333333336,
          -309.92199999999997,
          -320.29866666666663,
          -316.7246666666667,
          -319.972,
          -312.84000000000003
         ],
         "yaxis": "y"
        },
        {
         "hovertemplate": "n_trajectories=300<br>iteration=%{x}<br>reward=%{y}<extra></extra>",
         "legendgroup": "300",
         "line": {
          "color": "#00cc96",
          "dash": "solid"
         },
         "marker": {
          "symbol": "circle"
         },
         "mode": "lines",
         "name": "300",
         "orientation": "v",
         "showlegend": true,
         "type": "scatter",
         "x": [
          0,
          1,
          2,
          3,
          4,
          5,
          6,
          7,
          8,
          9,
          10,
          11,
          12,
          13,
          14,
          15,
          16,
          17,
          18,
          19,
          20,
          21,
          22,
          23,
          24,
          25,
          26,
          27,
          28,
          29
         ],
         "xaxis": "x",
         "y": [
          -772.2071111111111,
          -653.2891111111111,
          -525.1606666666667,
          -408.69533333333334,
          -330.4917777777778,
          -270.1333333333333,
          -227.48999999999998,
          -204.40644444444445,
          -182.64533333333333,
          -160.22155555555554,
          -154.20577777777777,
          -150.74066666666667,
          -151.1408888888889,
          -150.85888888888888,
          -140.94022222222222,
          -142.07644444444443,
          -142.8008888888889,
          -145.6448888888889,
          -139.65488888888888,
          -141.74422222222222,
          -140.29888888888888,
          -140.53533333333334,
          -143.81622222222222,
          -135.81555555555556,
          -135.69,
          -141.11311111111112,
          -136.3962222222222,
          -137.454,
          -141.3493333333333,
          -137.17844444444444
         ],
         "yaxis": "y"
        },
        {
         "hovertemplate": "n_trajectories=500<br>iteration=%{x}<br>reward=%{y}<extra></extra>",
         "legendgroup": "500",
         "line": {
          "color": "#ab63fa",
          "dash": "solid"
         },
         "marker": {
          "symbol": "circle"
         },
         "mode": "lines",
         "name": "500",
         "orientation": "v",
         "showlegend": true,
         "type": "scatter",
         "x": [
          0,
          1,
          2,
          3,
          4,
          5,
          6,
          7,
          8,
          9,
          10,
          11,
          12,
          13,
          14,
          15,
          16,
          17,
          18,
          19,
          20,
          21,
          22,
          23,
          24,
          25,
          26,
          27,
          28,
          29
         ],
         "xaxis": "x",
         "y": [
          -770.7264,
          -648.5128000000001,
          -510.17293333333333,
          -396.35040000000004,
          -290.9162666666667,
          -219.0884,
          -168.02413333333334,
          -129.972,
          -103.81013333333334,
          -92.7356,
          -83.36946666666667,
          -73.756,
          -74.91000000000001,
          -72.80066666666667,
          -72.29266666666666,
          -71.77066666666666,
          -71.14933333333333,
          -73.41120000000001,
          -70.89373333333333,
          -71.58253333333333,
          -73.77666666666667,
          -75.74693333333333,
          -71.11586666666668,
          -73.5372,
          -66.398,
          -71.31946666666666,
          -72.67613333333334,
          -70.5896,
          -73.73333333333333,
          -76.6564
         ],
         "yaxis": "y"
        },
        {
         "hovertemplate": "n_trajectories=1000<br>iteration=%{x}<br>reward=%{y}<extra></extra>",
         "legendgroup": "1000",
         "line": {
          "color": "#FFA15A",
          "dash": "solid"
         },
         "marker": {
          "symbol": "circle"
         },
         "mode": "lines",
         "name": "1000",
         "orientation": "v",
         "showlegend": true,
         "type": "scatter",
         "x": [
          0,
          1,
          2,
          3,
          4,
          5,
          6,
          7,
          8,
          9,
          10,
          11,
          12,
          13,
          14,
          15,
          16,
          17,
          18,
          19,
          20,
          21,
          22,
          23,
          24,
          25,
          26,
          27,
          28,
          29
         ],
         "xaxis": "x",
         "y": [
          -770.4331999999999,
          -655.8425333333333,
          -489.35040000000004,
          -357.44066666666663,
          -238.3582,
          -159.0924,
          -99.29333333333334,
          -63.74980000000001,
          -42.480333333333334,
          -29.885133333333332,
          -21.831799999999998,
          -18.272,
          -18.05826666666667,
          -16.414666666666665,
          -15.093466666666666,
          -14.3,
          -16.061533333333333,
          -14.897933333333334,
          -14.075666666666667,
          -13.6298,
          -13.969466666666667,
          -14.393466666666665,
          -14.098666666666666,
          -15.1714,
          -14.432066666666667,
          -14.757399999999999,
          -14.360000000000001,
          -14.536933333333332,
          -13.292066666666665,
          -15.014933333333333
         ],
         "yaxis": "y"
        }
       ],
       "layout": {
        "autosize": true,
        "legend": {
         "title": {
          "text": "n_trajectories"
         },
         "tracegroupgap": 0
        },
        "margin": {
         "t": 60
        },
        "template": {
         "data": {
          "bar": [
           {
            "error_x": {
             "color": "#2a3f5f"
            },
            "error_y": {
             "color": "#2a3f5f"
            },
            "marker": {
             "line": {
              "color": "#E5ECF6",
              "width": 0.5
             },
             "pattern": {
              "fillmode": "overlay",
              "size": 10,
              "solidity": 0.2
             }
            },
            "type": "bar"
           }
          ],
          "barpolar": [
           {
            "marker": {
             "line": {
              "color": "#E5ECF6",
              "width": 0.5
             },
             "pattern": {
              "fillmode": "overlay",
              "size": 10,
              "solidity": 0.2
             }
            },
            "type": "barpolar"
           }
          ],
          "carpet": [
           {
            "aaxis": {
             "endlinecolor": "#2a3f5f",
             "gridcolor": "white",
             "linecolor": "white",
             "minorgridcolor": "white",
             "startlinecolor": "#2a3f5f"
            },
            "baxis": {
             "endlinecolor": "#2a3f5f",
             "gridcolor": "white",
             "linecolor": "white",
             "minorgridcolor": "white",
             "startlinecolor": "#2a3f5f"
            },
            "type": "carpet"
           }
          ],
          "choropleth": [
           {
            "colorbar": {
             "outlinewidth": 0,
             "ticks": ""
            },
            "type": "choropleth"
           }
          ],
          "contour": [
           {
            "colorbar": {
             "outlinewidth": 0,
             "ticks": ""
            },
            "colorscale": [
             [
              0,
              "#0d0887"
             ],
             [
              0.1111111111111111,
              "#46039f"
             ],
             [
              0.2222222222222222,
              "#7201a8"
             ],
             [
              0.3333333333333333,
              "#9c179e"
             ],
             [
              0.4444444444444444,
              "#bd3786"
             ],
             [
              0.5555555555555556,
              "#d8576b"
             ],
             [
              0.6666666666666666,
              "#ed7953"
             ],
             [
              0.7777777777777778,
              "#fb9f3a"
             ],
             [
              0.8888888888888888,
              "#fdca26"
             ],
             [
              1,
              "#f0f921"
             ]
            ],
            "type": "contour"
           }
          ],
          "contourcarpet": [
           {
            "colorbar": {
             "outlinewidth": 0,
             "ticks": ""
            },
            "type": "contourcarpet"
           }
          ],
          "heatmap": [
           {
            "colorbar": {
             "outlinewidth": 0,
             "ticks": ""
            },
            "colorscale": [
             [
              0,
              "#0d0887"
             ],
             [
              0.1111111111111111,
              "#46039f"
             ],
             [
              0.2222222222222222,
              "#7201a8"
             ],
             [
              0.3333333333333333,
              "#9c179e"
             ],
             [
              0.4444444444444444,
              "#bd3786"
             ],
             [
              0.5555555555555556,
              "#d8576b"
             ],
             [
              0.6666666666666666,
              "#ed7953"
             ],
             [
              0.7777777777777778,
              "#fb9f3a"
             ],
             [
              0.8888888888888888,
              "#fdca26"
             ],
             [
              1,
              "#f0f921"
             ]
            ],
            "type": "heatmap"
           }
          ],
          "heatmapgl": [
           {
            "colorbar": {
             "outlinewidth": 0,
             "ticks": ""
            },
            "colorscale": [
             [
              0,
              "#0d0887"
             ],
             [
              0.1111111111111111,
              "#46039f"
             ],
             [
              0.2222222222222222,
              "#7201a8"
             ],
             [
              0.3333333333333333,
              "#9c179e"
             ],
             [
              0.4444444444444444,
              "#bd3786"
             ],
             [
              0.5555555555555556,
              "#d8576b"
             ],
             [
              0.6666666666666666,
              "#ed7953"
             ],
             [
              0.7777777777777778,
              "#fb9f3a"
             ],
             [
              0.8888888888888888,
              "#fdca26"
             ],
             [
              1,
              "#f0f921"
             ]
            ],
            "type": "heatmapgl"
           }
          ],
          "histogram": [
           {
            "marker": {
             "pattern": {
              "fillmode": "overlay",
              "size": 10,
              "solidity": 0.2
             }
            },
            "type": "histogram"
           }
          ],
          "histogram2d": [
           {
            "colorbar": {
             "outlinewidth": 0,
             "ticks": ""
            },
            "colorscale": [
             [
              0,
              "#0d0887"
             ],
             [
              0.1111111111111111,
              "#46039f"
             ],
             [
              0.2222222222222222,
              "#7201a8"
             ],
             [
              0.3333333333333333,
              "#9c179e"
             ],
             [
              0.4444444444444444,
              "#bd3786"
             ],
             [
              0.5555555555555556,
              "#d8576b"
             ],
             [
              0.6666666666666666,
              "#ed7953"
             ],
             [
              0.7777777777777778,
              "#fb9f3a"
             ],
             [
              0.8888888888888888,
              "#fdca26"
             ],
             [
              1,
              "#f0f921"
             ]
            ],
            "type": "histogram2d"
           }
          ],
          "histogram2dcontour": [
           {
            "colorbar": {
             "outlinewidth": 0,
             "ticks": ""
            },
            "colorscale": [
             [
              0,
              "#0d0887"
             ],
             [
              0.1111111111111111,
              "#46039f"
             ],
             [
              0.2222222222222222,
              "#7201a8"
             ],
             [
              0.3333333333333333,
              "#9c179e"
             ],
             [
              0.4444444444444444,
              "#bd3786"
             ],
             [
              0.5555555555555556,
              "#d8576b"
             ],
             [
              0.6666666666666666,
              "#ed7953"
             ],
             [
              0.7777777777777778,
              "#fb9f3a"
             ],
             [
              0.8888888888888888,
              "#fdca26"
             ],
             [
              1,
              "#f0f921"
             ]
            ],
            "type": "histogram2dcontour"
           }
          ],
          "mesh3d": [
           {
            "colorbar": {
             "outlinewidth": 0,
             "ticks": ""
            },
            "type": "mesh3d"
           }
          ],
          "parcoords": [
           {
            "line": {
             "colorbar": {
              "outlinewidth": 0,
              "ticks": ""
             }
            },
            "type": "parcoords"
           }
          ],
          "pie": [
           {
            "automargin": true,
            "type": "pie"
           }
          ],
          "scatter": [
           {
            "fillpattern": {
             "fillmode": "overlay",
             "size": 10,
             "solidity": 0.2
            },
            "type": "scatter"
           }
          ],
          "scatter3d": [
           {
            "line": {
             "colorbar": {
              "outlinewidth": 0,
              "ticks": ""
             }
            },
            "marker": {
             "colorbar": {
              "outlinewidth": 0,
              "ticks": ""
             }
            },
            "type": "scatter3d"
           }
          ],
          "scattercarpet": [
           {
            "marker": {
             "colorbar": {
              "outlinewidth": 0,
              "ticks": ""
             }
            },
            "type": "scattercarpet"
           }
          ],
          "scattergeo": [
           {
            "marker": {
             "colorbar": {
              "outlinewidth": 0,
              "ticks": ""
             }
            },
            "type": "scattergeo"
           }
          ],
          "scattergl": [
           {
            "marker": {
             "colorbar": {
              "outlinewidth": 0,
              "ticks": ""
             }
            },
            "type": "scattergl"
           }
          ],
          "scattermapbox": [
           {
            "marker": {
             "colorbar": {
              "outlinewidth": 0,
              "ticks": ""
             }
            },
            "type": "scattermapbox"
           }
          ],
          "scatterpolar": [
           {
            "marker": {
             "colorbar": {
              "outlinewidth": 0,
              "ticks": ""
             }
            },
            "type": "scatterpolar"
           }
          ],
          "scatterpolargl": [
           {
            "marker": {
             "colorbar": {
              "outlinewidth": 0,
              "ticks": ""
             }
            },
            "type": "scatterpolargl"
           }
          ],
          "scatterternary": [
           {
            "marker": {
             "colorbar": {
              "outlinewidth": 0,
              "ticks": ""
             }
            },
            "type": "scatterternary"
           }
          ],
          "surface": [
           {
            "colorbar": {
             "outlinewidth": 0,
             "ticks": ""
            },
            "colorscale": [
             [
              0,
              "#0d0887"
             ],
             [
              0.1111111111111111,
              "#46039f"
             ],
             [
              0.2222222222222222,
              "#7201a8"
             ],
             [
              0.3333333333333333,
              "#9c179e"
             ],
             [
              0.4444444444444444,
              "#bd3786"
             ],
             [
              0.5555555555555556,
              "#d8576b"
             ],
             [
              0.6666666666666666,
              "#ed7953"
             ],
             [
              0.7777777777777778,
              "#fb9f3a"
             ],
             [
              0.8888888888888888,
              "#fdca26"
             ],
             [
              1,
              "#f0f921"
             ]
            ],
            "type": "surface"
           }
          ],
          "table": [
           {
            "cells": {
             "fill": {
              "color": "#EBF0F8"
             },
             "line": {
              "color": "white"
             }
            },
            "header": {
             "fill": {
              "color": "#C8D4E3"
             },
             "line": {
              "color": "white"
             }
            },
            "type": "table"
           }
          ]
         },
         "layout": {
          "annotationdefaults": {
           "arrowcolor": "#2a3f5f",
           "arrowhead": 0,
           "arrowwidth": 1
          },
          "autotypenumbers": "strict",
          "coloraxis": {
           "colorbar": {
            "outlinewidth": 0,
            "ticks": ""
           }
          },
          "colorscale": {
           "diverging": [
            [
             0,
             "#8e0152"
            ],
            [
             0.1,
             "#c51b7d"
            ],
            [
             0.2,
             "#de77ae"
            ],
            [
             0.3,
             "#f1b6da"
            ],
            [
             0.4,
             "#fde0ef"
            ],
            [
             0.5,
             "#f7f7f7"
            ],
            [
             0.6,
             "#e6f5d0"
            ],
            [
             0.7,
             "#b8e186"
            ],
            [
             0.8,
             "#7fbc41"
            ],
            [
             0.9,
             "#4d9221"
            ],
            [
             1,
             "#276419"
            ]
           ],
           "sequential": [
            [
             0,
             "#0d0887"
            ],
            [
             0.1111111111111111,
             "#46039f"
            ],
            [
             0.2222222222222222,
             "#7201a8"
            ],
            [
             0.3333333333333333,
             "#9c179e"
            ],
            [
             0.4444444444444444,
             "#bd3786"
            ],
            [
             0.5555555555555556,
             "#d8576b"
            ],
            [
             0.6666666666666666,
             "#ed7953"
            ],
            [
             0.7777777777777778,
             "#fb9f3a"
            ],
            [
             0.8888888888888888,
             "#fdca26"
            ],
            [
             1,
             "#f0f921"
            ]
           ],
           "sequentialminus": [
            [
             0,
             "#0d0887"
            ],
            [
             0.1111111111111111,
             "#46039f"
            ],
            [
             0.2222222222222222,
             "#7201a8"
            ],
            [
             0.3333333333333333,
             "#9c179e"
            ],
            [
             0.4444444444444444,
             "#bd3786"
            ],
            [
             0.5555555555555556,
             "#d8576b"
            ],
            [
             0.6666666666666666,
             "#ed7953"
            ],
            [
             0.7777777777777778,
             "#fb9f3a"
            ],
            [
             0.8888888888888888,
             "#fdca26"
            ],
            [
             1,
             "#f0f921"
            ]
           ]
          },
          "colorway": [
           "#636efa",
           "#EF553B",
           "#00cc96",
           "#ab63fa",
           "#FFA15A",
           "#19d3f3",
           "#FF6692",
           "#B6E880",
           "#FF97FF",
           "#FECB52"
          ],
          "font": {
           "color": "#2a3f5f"
          },
          "geo": {
           "bgcolor": "white",
           "lakecolor": "white",
           "landcolor": "#E5ECF6",
           "showlakes": true,
           "showland": true,
           "subunitcolor": "white"
          },
          "hoverlabel": {
           "align": "left"
          },
          "hovermode": "closest",
          "mapbox": {
           "style": "light"
          },
          "paper_bgcolor": "white",
          "plot_bgcolor": "#E5ECF6",
          "polar": {
           "angularaxis": {
            "gridcolor": "white",
            "linecolor": "white",
            "ticks": ""
           },
           "bgcolor": "#E5ECF6",
           "radialaxis": {
            "gridcolor": "white",
            "linecolor": "white",
            "ticks": ""
           }
          },
          "scene": {
           "xaxis": {
            "backgroundcolor": "#E5ECF6",
            "gridcolor": "white",
            "gridwidth": 2,
            "linecolor": "white",
            "showbackground": true,
            "ticks": "",
            "zerolinecolor": "white"
           },
           "yaxis": {
            "backgroundcolor": "#E5ECF6",
            "gridcolor": "white",
            "gridwidth": 2,
            "linecolor": "white",
            "showbackground": true,
            "ticks": "",
            "zerolinecolor": "white"
           },
           "zaxis": {
            "backgroundcolor": "#E5ECF6",
            "gridcolor": "white",
            "gridwidth": 2,
            "linecolor": "white",
            "showbackground": true,
            "ticks": "",
            "zerolinecolor": "white"
           }
          },
          "shapedefaults": {
           "line": {
            "color": "#2a3f5f"
           }
          },
          "ternary": {
           "aaxis": {
            "gridcolor": "white",
            "linecolor": "white",
            "ticks": ""
           },
           "baxis": {
            "gridcolor": "white",
            "linecolor": "white",
            "ticks": ""
           },
           "bgcolor": "#E5ECF6",
           "caxis": {
            "gridcolor": "white",
            "linecolor": "white",
            "ticks": ""
           }
          },
          "title": {
           "x": 0.05
          },
          "xaxis": {
           "automargin": true,
           "gridcolor": "white",
           "linecolor": "white",
           "ticks": "",
           "title": {
            "standoff": 15
           },
           "zerolinecolor": "white",
           "zerolinewidth": 2
          },
          "yaxis": {
           "automargin": true,
           "gridcolor": "white",
           "linecolor": "white",
           "ticks": "",
           "title": {
            "standoff": 15
           },
           "zerolinecolor": "white",
           "zerolinewidth": 2
          }
         }
        },
        "title": {
         "text": "Влияние количества траекторий на среднюю награду"
        },
        "xaxis": {
         "anchor": "y",
         "autorange": true,
         "domain": [
          0,
          1
         ],
         "range": [
          0,
          29
         ],
         "title": {
          "text": "Итерация"
         },
         "type": "linear"
        },
        "yaxis": {
         "anchor": "x",
         "autorange": true,
         "domain": [
          0,
          1
         ],
         "range": [
          -814.3690580246913,
          28.86988024691358
         ],
         "title": {
          "text": "Средняя награда"
         },
         "type": "linear"
        }
       }
      },
      "image/png": "[encoded data removed]"
     },
     "metadata": {},
     "output_type": "display_data"
    }
   ],
   "source": [
    "df_grpd = df.groupby(['n_trajectories', 'iteration']).agg({'reward': 'mean'}).reset_index()\n",
    "fig = px.line(df_grpd, x='iteration', y='reward', color='n_trajectories')\n",
    "fig.update_layout(\n",
    "    title = 'Влияние количества траекторий на среднюю награду',\n",
    "    xaxis_title = 'Итерация',\n",
    "    yaxis_title = 'Средняя награда'\n",
    ")"
   ]
  },
  {
   "cell_type": "markdown",
   "id": "5f49b01c",
   "metadata": {},
   "source": [
    "По графикам награды видно, что количество траекторий, участвующих в обучении, оказывает ключевую роль в увеличении средней награды. При этом уже на 10-й итерации величина награды практически достигает своего пика."
   ]
  },
  {
   "cell_type": "code",
   "execution_count": 87,
   "id": "2f31b3aa",
   "metadata": {},
   "outputs": [
    {
     "data": {
      "application/vnd.plotly.v1+json": {
       "config": {
        "plotlyServerURL": "https://plot.ly"
       },
       "data": [
        {
         "hovertemplate": "q_value=0.5<br>iteration=%{x}<br>reward=%{y}<extra></extra>",
         "legendgroup": "0.5",
         "line": {
          "color": "#636efa",
          "dash": "solid"
         },
         "marker": {
          "symbol": "circle"
         },
         "mode": "lines",
         "name": "0.5",
         "orientation": "v",
         "showlegend": true,
         "type": "scatter",
         "x": [
          0,
          1,
          2,
          3,
          4,
          5,
          6,
          7,
          8,
          9,
          10,
          11,
          12,
          13,
          14,
          15,
          16,
          17,
          18,
          19,
          20,
          21,
          22,
          23,
          24,
          25,
          26,
          27,
          28,
          29
         ],
         "xaxis": "x",
         "y": [
          -770.4508,
          -709.9598,
          -637.316,
          -554.9399999999999,
          -455.2554,
          -333.0514,
          -207.4866,
          -123.3124,
          -73.3822,
          -40.949,
          -19.0796,
          -6.4144000000000005,
          1.2424,
          4.5725999999999996,
          5.929399999999999,
          6.6494,
          6.9548000000000005,
          7.1896,
          7.417,
          7.399600000000001,
          7.4914000000000005,
          7.5122,
          7.5725999999999996,
          7.5952,
          7.549799999999999,
          7.5578,
          7.5408,
          7.505599999999999,
          7.625400000000001,
          7.6415999999999995
         ],
         "yaxis": "y"
        },
        {
         "hovertemplate": "q_value=0.7<br>iteration=%{x}<br>reward=%{y}<extra></extra>",
         "legendgroup": "0.7",
         "line": {
          "color": "#EF553B",
          "dash": "solid"
         },
         "marker": {
          "symbol": "circle"
         },
         "mode": "lines",
         "name": "0.7",
         "orientation": "v",
         "showlegend": true,
         "type": "scatter",
         "x": [
          0,
          1,
          2,
          3,
          4,
          5,
          6,
          7,
          8,
          9,
          10,
          11,
          12,
          13,
          14,
          15,
          16,
          17,
          18,
          19,
          20,
          21,
          22,
          23,
          24,
          25,
          26,
          27,
          28,
          29
         ],
         "xaxis": "x",
         "y": [
          -771.8648000000001,
          -679.3334,
          -557.9858,
          -381.8088,
          -186.3028,
          -82.48060000000001,
          -34.7746,
          -10.096599999999999,
          1.3399999999999999,
          4.4466,
          5.5816,
          6.1692,
          6.082800000000001,
          6.1411999999999995,
          6.3404,
          6.445,
          6.431399999999999,
          6.3666,
          6.3100000000000005,
          6.4626,
          6.4048,
          6.5466,
          6.4706,
          6.2274,
          6.3686,
          6.232,
          6.414199999999999,
          6.367,
          6.501,
          6.4878
         ],
         "yaxis": "y"
        },
        {
         "hovertemplate": "q_value=0.9<br>iteration=%{x}<br>reward=%{y}<extra></extra>",
         "legendgroup": "0.9",
         "line": {
          "color": "#00cc96",
          "dash": "solid"
         },
         "marker": {
          "symbol": "circle"
         },
         "mode": "lines",
         "name": "0.9",
         "orientation": "v",
         "showlegend": true,
         "type": "scatter",
         "x": [
          0,
          1,
          2,
          3,
          4,
          5,
          6,
          7,
          8,
          9,
          10,
          11,
          12,
          13,
          14,
          15,
          16,
          17,
          18,
          19,
          20,
          21,
          22,
          23,
          24,
          25,
          26,
          27,
          28,
          29
         ],
         "xaxis": "x",
         "y": [
          -768.984,
          -578.2344,
          -272.74940000000004,
          -135.57319999999999,
          -73.5164,
          -61.7452,
          -55.6188,
          -57.8404,
          -55.39880000000001,
          -53.153,
          -51.99739999999999,
          -54.5708,
          -61.5,
          -59.9578,
          -57.5502,
          -55.9944,
          -61.5708,
          -58.25,
          -55.95399999999999,
          -54.751599999999996,
          -55.80460000000001,
          -57.239200000000004,
          -56.33919999999999,
          -59.3368,
          -57.214600000000004,
          -58.062,
          -57.035000000000004,
          -57.483399999999996,
          -54.002599999999994,
          -59.1742
         ],
         "yaxis": "y"
        }
       ],
       "layout": {
        "autosize": true,
        "legend": {
         "title": {
          "text": "q_value"
         },
         "tracegroupgap": 0
        },
        "margin": {
         "t": 60
        },
        "template": {
         "data": {
          "bar": [
           {
            "error_x": {
             "color": "#2a3f5f"
            },
            "error_y": {
             "color": "#2a3f5f"
            },
            "marker": {
             "line": {
              "color": "#E5ECF6",
              "width": 0.5
             },
             "pattern": {
              "fillmode": "overlay",
              "size": 10,
              "solidity": 0.2
             }
            },
            "type": "bar"
           }
          ],
          "barpolar": [
           {
            "marker": {
             "line": {
              "color": "#E5ECF6",
              "width": 0.5
             },
             "pattern": {
              "fillmode": "overlay",
              "size": 10,
              "solidity": 0.2
             }
            },
            "type": "barpolar"
           }
          ],
          "carpet": [
           {
            "aaxis": {
             "endlinecolor": "#2a3f5f",
             "gridcolor": "white",
             "linecolor": "white",
             "minorgridcolor": "white",
             "startlinecolor": "#2a3f5f"
            },
            "baxis": {
             "endlinecolor": "#2a3f5f",
             "gridcolor": "white",
             "linecolor": "white",
             "minorgridcolor": "white",
             "startlinecolor": "#2a3f5f"
            },
            "type": "carpet"
           }
          ],
          "choropleth": [
           {
            "colorbar": {
             "outlinewidth": 0,
             "ticks": ""
            },
            "type": "choropleth"
           }
          ],
          "contour": [
           {
            "colorbar": {
             "outlinewidth": 0,
             "ticks": ""
            },
            "colorscale": [
             [
              0,
              "#0d0887"
             ],
             [
              0.1111111111111111,
              "#46039f"
             ],
             [
              0.2222222222222222,
              "#7201a8"
             ],
             [
              0.3333333333333333,
              "#9c179e"
             ],
             [
              0.4444444444444444,
              "#bd3786"
             ],
             [
              0.5555555555555556,
              "#d8576b"
             ],
             [
              0.6666666666666666,
              "#ed7953"
             ],
             [
              0.7777777777777778,
              "#fb9f3a"
             ],
             [
              0.8888888888888888,
              "#fdca26"
             ],
             [
              1,
              "#f0f921"
             ]
            ],
            "type": "contour"
           }
          ],
          "contourcarpet": [
           {
            "colorbar": {
             "outlinewidth": 0,
             "ticks": ""
            },
            "type": "contourcarpet"
           }
          ],
          "heatmap": [
           {
            "colorbar": {
             "outlinewidth": 0,
             "ticks": ""
            },
            "colorscale": [
             [
              0,
              "#0d0887"
             ],
             [
              0.1111111111111111,
              "#46039f"
             ],
             [
              0.2222222222222222,
              "#7201a8"
             ],
             [
              0.3333333333333333,
              "#9c179e"
             ],
             [
              0.4444444444444444,
              "#bd3786"
             ],
             [
              0.5555555555555556,
              "#d8576b"
             ],
             [
              0.6666666666666666,
              "#ed7953"
             ],
             [
              0.7777777777777778,
              "#fb9f3a"
             ],
             [
              0.8888888888888888,
              "#fdca26"
             ],
             [
              1,
              "#f0f921"
             ]
            ],
            "type": "heatmap"
           }
          ],
          "heatmapgl": [
           {
            "colorbar": {
             "outlinewidth": 0,
             "ticks": ""
            },
            "colorscale": [
             [
              0,
              "#0d0887"
             ],
             [
              0.1111111111111111,
              "#46039f"
             ],
             [
              0.2222222222222222,
              "#7201a8"
             ],
             [
              0.3333333333333333,
              "#9c179e"
             ],
             [
              0.4444444444444444,
              "#bd3786"
             ],
             [
              0.5555555555555556,
              "#d8576b"
             ],
             [
              0.6666666666666666,
              "#ed7953"
             ],
             [
              0.7777777777777778,
              "#fb9f3a"
             ],
             [
              0.8888888888888888,
              "#fdca26"
             ],
             [
              1,
              "#f0f921"
             ]
            ],
            "type": "heatmapgl"
           }
          ],
          "histogram": [
           {
            "marker": {
             "pattern": {
              "fillmode": "overlay",
              "size": 10,
              "solidity": 0.2
             }
            },
            "type": "histogram"
           }
          ],
          "histogram2d": [
           {
            "colorbar": {
             "outlinewidth": 0,
             "ticks": ""
            },
            "colorscale": [
             [
              0,
              "#0d0887"
             ],
             [
              0.1111111111111111,
              "#46039f"
             ],
             [
              0.2222222222222222,
              "#7201a8"
             ],
             [
              0.3333333333333333,
              "#9c179e"
             ],
             [
              0.4444444444444444,
              "#bd3786"
             ],
             [
              0.5555555555555556,
              "#d8576b"
             ],
             [
              0.6666666666666666,
              "#ed7953"
             ],
             [
              0.7777777777777778,
              "#fb9f3a"
             ],
             [
              0.8888888888888888,
              "#fdca26"
             ],
             [
              1,
              "#f0f921"
             ]
            ],
            "type": "histogram2d"
           }
          ],
          "histogram2dcontour": [
           {
            "colorbar": {
             "outlinewidth": 0,
             "ticks": ""
            },
            "colorscale": [
             [
              0,
              "#0d0887"
             ],
             [
              0.1111111111111111,
              "#46039f"
             ],
             [
              0.2222222222222222,
              "#7201a8"
             ],
             [
              0.3333333333333333,
              "#9c179e"
             ],
             [
              0.4444444444444444,
              "#bd3786"
             ],
             [
              0.5555555555555556,
              "#d8576b"
             ],
             [
              0.6666666666666666,
              "#ed7953"
             ],
             [
              0.7777777777777778,
              "#fb9f3a"
             ],
             [
              0.8888888888888888,
              "#fdca26"
             ],
             [
              1,
              "#f0f921"
             ]
            ],
            "type": "histogram2dcontour"
           }
          ],
          "mesh3d": [
           {
            "colorbar": {
             "outlinewidth": 0,
             "ticks": ""
            },
            "type": "mesh3d"
           }
          ],
          "parcoords": [
           {
            "line": {
             "colorbar": {
              "outlinewidth": 0,
              "ticks": ""
             }
            },
            "type": "parcoords"
           }
          ],
          "pie": [
           {
            "automargin": true,
            "type": "pie"
           }
          ],
          "scatter": [
           {
            "fillpattern": {
             "fillmode": "overlay",
             "size": 10,
             "solidity": 0.2
            },
            "type": "scatter"
           }
          ],
          "scatter3d": [
           {
            "line": {
             "colorbar": {
              "outlinewidth": 0,
              "ticks": ""
             }
            },
            "marker": {
             "colorbar": {
              "outlinewidth": 0,
              "ticks": ""
             }
            },
            "type": "scatter3d"
           }
          ],
          "scattercarpet": [
           {
            "marker": {
             "colorbar": {
              "outlinewidth": 0,
              "ticks": ""
             }
            },
            "type": "scattercarpet"
           }
          ],
          "scattergeo": [
           {
            "marker": {
             "colorbar": {
              "outlinewidth": 0,
              "ticks": ""
             }
            },
            "type": "scattergeo"
           }
          ],
          "scattergl": [
           {
            "marker": {
             "colorbar": {
              "outlinewidth": 0,
              "ticks": ""
             }
            },
            "type": "scattergl"
           }
          ],
          "scattermapbox": [
           {
            "marker": {
             "colorbar": {
              "outlinewidth": 0,
              "ticks": ""
             }
            },
            "type": "scattermapbox"
           }
          ],
          "scatterpolar": [
           {
            "marker": {
             "colorbar": {
              "outlinewidth": 0,
              "ticks": ""
             }
            },
            "type": "scatterpolar"
           }
          ],
          "scatterpolargl": [
           {
            "marker": {
             "colorbar": {
              "outlinewidth": 0,
              "ticks": ""
             }
            },
            "type": "scatterpolargl"
           }
          ],
          "scatterternary": [
           {
            "marker": {
             "colorbar": {
              "outlinewidth": 0,
              "ticks": ""
             }
            },
            "type": "scatterternary"
           }
          ],
          "surface": [
           {
            "colorbar": {
             "outlinewidth": 0,
             "ticks": ""
            },
            "colorscale": [
             [
              0,
              "#0d0887"
             ],
             [
              0.1111111111111111,
              "#46039f"
             ],
             [
              0.2222222222222222,
              "#7201a8"
             ],
             [
              0.3333333333333333,
              "#9c179e"
             ],
             [
              0.4444444444444444,
              "#bd3786"
             ],
             [
              0.5555555555555556,
              "#d8576b"
             ],
             [
              0.6666666666666666,
              "#ed7953"
             ],
             [
              0.7777777777777778,
              "#fb9f3a"
             ],
             [
              0.8888888888888888,
              "#fdca26"
             ],
             [
              1,
              "#f0f921"
             ]
            ],
            "type": "surface"
           }
          ],
          "table": [
           {
            "cells": {
             "fill": {
              "color": "#EBF0F8"
             },
             "line": {
              "color": "white"
             }
            },
            "header": {
             "fill": {
              "color": "#C8D4E3"
             },
             "line": {
              "color": "white"
             }
            },
            "type": "table"
           }
          ]
         },
         "layout": {
          "annotationdefaults": {
           "arrowcolor": "#2a3f5f",
           "arrowhead": 0,
           "arrowwidth": 1
          },
          "autotypenumbers": "strict",
          "coloraxis": {
           "colorbar": {
            "outlinewidth": 0,
            "ticks": ""
           }
          },
          "colorscale": {
           "diverging": [
            [
             0,
             "#8e0152"
            ],
            [
             0.1,
             "#c51b7d"
            ],
            [
             0.2,
             "#de77ae"
            ],
            [
             0.3,
             "#f1b6da"
            ],
            [
             0.4,
             "#fde0ef"
            ],
            [
             0.5,
             "#f7f7f7"
            ],
            [
             0.6,
             "#e6f5d0"
            ],
            [
             0.7,
             "#b8e186"
            ],
            [
             0.8,
             "#7fbc41"
            ],
            [
             0.9,
             "#4d9221"
            ],
            [
             1,
             "#276419"
            ]
           ],
           "sequential": [
            [
             0,
             "#0d0887"
            ],
            [
             0.1111111111111111,
             "#46039f"
            ],
            [
             0.2222222222222222,
             "#7201a8"
            ],
            [
             0.3333333333333333,
             "#9c179e"
            ],
            [
             0.4444444444444444,
             "#bd3786"
            ],
            [
             0.5555555555555556,
             "#d8576b"
            ],
            [
             0.6666666666666666,
             "#ed7953"
            ],
            [
             0.7777777777777778,
             "#fb9f3a"
            ],
            [
             0.8888888888888888,
             "#fdca26"
            ],
            [
             1,
             "#f0f921"
            ]
           ],
           "sequentialminus": [
            [
             0,
             "#0d0887"
            ],
            [
             0.1111111111111111,
             "#46039f"
            ],
            [
             0.2222222222222222,
             "#7201a8"
            ],
            [
             0.3333333333333333,
             "#9c179e"
            ],
            [
             0.4444444444444444,
             "#bd3786"
            ],
            [
             0.5555555555555556,
             "#d8576b"
            ],
            [
             0.6666666666666666,
             "#ed7953"
            ],
            [
             0.7777777777777778,
             "#fb9f3a"
            ],
            [
             0.8888888888888888,
             "#fdca26"
            ],
            [
             1,
             "#f0f921"
            ]
           ]
          },
          "colorway": [
           "#636efa",
           "#EF553B",
           "#00cc96",
           "#ab63fa",
           "#FFA15A",
           "#19d3f3",
           "#FF6692",
           "#B6E880",
           "#FF97FF",
           "#FECB52"
          ],
          "font": {
           "color": "#2a3f5f"
          },
          "geo": {
           "bgcolor": "white",
           "lakecolor": "white",
           "landcolor": "#E5ECF6",
           "showlakes": true,
           "showland": true,
           "subunitcolor": "white"
          },
          "hoverlabel": {
           "align": "left"
          },
          "hovermode": "closest",
          "mapbox": {
           "style": "light"
          },
          "paper_bgcolor": "white",
          "plot_bgcolor": "#E5ECF6",
          "polar": {
           "angularaxis": {
            "gridcolor": "white",
            "linecolor": "white",
            "ticks": ""
           },
           "bgcolor": "#E5ECF6",
           "radialaxis": {
            "gridcolor": "white",
            "linecolor": "white",
            "ticks": ""
           }
          },
          "scene": {
           "xaxis": {
            "backgroundcolor": "#E5ECF6",
            "gridcolor": "white",
            "gridwidth": 2,
            "linecolor": "white",
            "showbackground": true,
            "ticks": "",
            "zerolinecolor": "white"
           },
           "yaxis": {
            "backgroundcolor": "#E5ECF6",
            "gridcolor": "white",
            "gridwidth": 2,
            "linecolor": "white",
            "showbackground": true,
            "ticks": "",
            "zerolinecolor": "white"
           },
           "zaxis": {
            "backgroundcolor": "#E5ECF6",
            "gridcolor": "white",
            "gridwidth": 2,
            "linecolor": "white",
            "showbackground": true,
            "ticks": "",
            "zerolinecolor": "white"
           }
          },
          "shapedefaults": {
           "line": {
            "color": "#2a3f5f"
           }
          },
          "ternary": {
           "aaxis": {
            "gridcolor": "white",
            "linecolor": "white",
            "ticks": ""
           },
           "baxis": {
            "gridcolor": "white",
            "linecolor": "white",
            "ticks": ""
           },
           "bgcolor": "#E5ECF6",
           "caxis": {
            "gridcolor": "white",
            "linecolor": "white",
            "ticks": ""
           }
          },
          "title": {
           "x": 0.05
          },
          "xaxis": {
           "automargin": true,
           "gridcolor": "white",
           "linecolor": "white",
           "ticks": "",
           "title": {
            "standoff": 15
           },
           "zerolinecolor": "white",
           "zerolinewidth": 2
          },
          "yaxis": {
           "automargin": true,
           "gridcolor": "white",
           "linecolor": "white",
           "ticks": "",
           "title": {
            "standoff": 15
           },
           "zerolinecolor": "white",
           "zerolinewidth": 2
          }
         }
        },
        "title": {
         "text": "Скорость и качество обучения, в зависимости от параметра q (100 траекторий)"
        },
        "xaxis": {
         "anchor": "y",
         "autorange": true,
         "domain": [
          0,
          1
         ],
         "range": [
          0,
          29
         ],
         "title": {
          "text": "Итерация"
         },
         "type": "linear"
        },
        "yaxis": {
         "anchor": "x",
         "autorange": true,
         "domain": [
          0,
          1
         ],
         "range": [
          -815.1707111111111,
          50.94751111111111
         ],
         "title": {
          "text": "Средняя награда"
         },
         "type": "linear"
        }
       }
      },
      "image/png": "[encoded data removed]"
     },
     "metadata": {},
     "output_type": "display_data"
    }
   ],
   "source": [
    "df_grpd = df.groupby(['n_trajectories', 'iteration', 'q_value']).agg({'reward': 'mean'}).reset_index()\n",
    "fig = px.line(df_grpd[df_grpd['n_trajectories'] == 1000], x='iteration', y='reward', color='q_value')\n",
    "fig.update_layout(\n",
    "    title = 'Скорость и качество обучения, в зависимости от параметра q (100 траекторий)',\n",
    "    xaxis_title = 'Итерация',\n",
    "    yaxis_title = 'Средняя награда'\n",
    ")"
   ]
  },
  {
   "cell_type": "markdown",
   "id": "f7f4c209",
   "metadata": {},
   "source": [
    "Высокий параметр q негативно влияет на величину награды, сильно уменьшая количество траекторий для обучения. C q == 0.5 агент обучается медленее, но достигает более высокой награды.\n",
    "Исходя из того, что и увеличение количества траекторий, и уменьшение q приводит к росту награды, можно сделать выводы, что количество элитных траекторий, применяемых для обучения, играет решающую роль, позволяя при обучении использовать большее разнообразие."
   ]
  },
  {
   "cell_type": "markdown",
   "id": "82505bd6",
   "metadata": {},
   "source": [
    "ДЗ 2. Алгоритм Кросс-Энтропии с типами сглаживания \"policy\" и \"laplace\""
   ]
  },
  {
   "cell_type": "markdown",
   "id": "b62f99b1",
   "metadata": {},
   "source": [
    "Обучение с применением сглаживания требует больше итераций. С n_trajectories=500, l_val=0.1 и q_val=0.7 достаточно 100 итераций.\n",
    "Пробую подбирать другие параметры."
   ]
  },
  {
   "cell_type": "code",
   "execution_count": 102,
   "id": "1aeea390",
   "metadata": {},
   "outputs": [
    {
     "name": "stdout",
     "output_type": "stream",
     "text": [
      "n_trajectories=1000 l_val=0.5 q_val=0.7\n",
      "iteration: 0/100\n",
      "iteration: 10/100\n",
      "iteration: 20/100\n",
      "iteration: 30/100\n",
      "iteration: 40/100\n",
      "iteration: 50/100\n",
      "iteration: 60/100\n",
      "iteration: 70/100\n",
      "iteration: 80/100\n",
      "iteration: 90/100\n"
     ]
    }
   ],
   "source": [
    "policy_rewards = []\n",
    "smoothing = 'policy'\n",
    "for n_iter in [100]:\n",
    "    for n_trajectories in [100, 500, 1000]:\n",
    "        for l_val in [0.01, 0.1, 0.5]:\n",
    "            for q_val in [0.5, 0.7]:\n",
    "                print(f'n_trajectories={n_trajectories} l_val={l_val} q_val={q_val}')\n",
    "                agent_params['l_value'] = l_val\n",
    "                agent_params['smoothing_type'] = smoothing\n",
    "                fit_params['q'] = q_val\n",
    "                fit_params['n_trajectories'] = n_trajectories\n",
    "                fit_params['n_iterations'] = n_iter\n",
    "                \n",
    "                env = gym.make('Taxi-v3')\n",
    "                agent = CrossEntropyAgent(**agent_params)\n",
    "\n",
    "                fit_rewards = fit(env, agent, **fit_params)\n",
    "                reward_records = [{'smoothing': smoothing, 'l_value': l_val, 'q_value': q_val, 'n_trajectories': n_trajectories,\n",
    "                                'iteration': i, 'reward': r} for i, r in enumerate(fit_rewards)]\n",
    "                policy_rewards.extend(reward_records)\n",
    "                \n",
    "                display.clear_output(wait=True)"
   ]
  },
  {
   "cell_type": "code",
   "execution_count": 103,
   "id": "460679ea",
   "metadata": {},
   "outputs": [],
   "source": [
    "df2 = pd.DataFrame.from_records(policy_rewards)"
   ]
  },
  {
   "cell_type": "code",
   "execution_count": 108,
   "id": "ef7833d9",
   "metadata": {},
   "outputs": [
    {
     "data": {
      "application/vnd.plotly.v1+json": {
       "config": {
        "plotlyServerURL": "https://plot.ly"
       },
       "data": [
        {
         "hovertemplate": "n_trajectories=100<br>l_value=0.01<br>iteration=%{x}<br>reward=%{y}<extra></extra>",
         "legendgroup": "100",
         "line": {
          "color": "#636efa",
          "dash": "solid"
         },
         "marker": {
          "symbol": "circle"
         },
         "mode": "lines",
         "name": "100",
         "orientation": "v",
         "showlegend": true,
         "type": "scatter",
         "x": [
          0,
          1,
          2,
          3,
          4,
          5,
          6,
          7,
          8,
          9,
          10,
          11,
          12,
          13,
          14,
          15,
          16,
          17,
          18,
          19,
          20,
          21,
          22,
          23,
          24,
          25,
          26,
          27,
          28,
          29,
          30,
          31,
          32,
          33,
          34,
          35,
          36,
          37,
          38,
          39,
          40,
          41,
          42,
          43,
          44,
          45,
          46,
          47,
          48,
          49,
          50,
          51,
          52,
          53,
          54,
          55,
          56,
          57,
          58,
          59,
          60,
          61,
          62,
          63,
          64,
          65,
          66,
          67,
          68,
          69,
          70,
          71,
          72,
          73,
          74,
          75,
          76,
          77,
          78,
          79,
          80,
          81,
          82,
          83,
          84,
          85,
          86,
          87,
          88,
          89,
          90,
          91,
          92,
          93,
          94,
          95,
          96,
          97,
          98,
          99
         ],
         "xaxis": "x",
         "y": [
          -778.085,
          -771.565,
          -761.0150000000001,
          -766.54,
          -752.645,
          -764.19,
          -761.345,
          -768.825,
          -758.88,
          -759.325,
          -755.74,
          -763.095,
          -750.325,
          -737.36,
          -738.8900000000001,
          -759.435,
          -756.615,
          -769.335,
          -746.275,
          -756.065,
          -754.81,
          -757.415,
          -736.98,
          -751.3050000000001,
          -737.995,
          -736.585,
          -724.4749999999999,
          -743.55,
          -728.725,
          -727.1800000000001,
          -728.125,
          -743.745,
          -733.165,
          -740.2,
          -735.72,
          -721.73,
          -723.495,
          -728.4,
          -712.91,
          -696.125,
          -724.05,
          -707.305,
          -710.325,
          -705.0050000000001,
          -698.815,
          -719.3,
          -707.85,
          -715.24,
          -711.75,
          -695.845,
          -693.895,
          -707.925,
          -707.105,
          -687.7149999999999,
          -700.9549999999999,
          -712.67,
          -676.4449999999999,
          -681.19,
          -697.54,
          -666.445,
          -676.71,
          -686.56,
          -682.24,
          -673.605,
          -685.995,
          -667.34,
          -697.37,
          -690.93,
          -673.205,
          -682.395,
          -647.565,
          -654.3499999999999,
          -666.835,
          -656.06,
          -656.0250000000001,
          -652.0550000000001,
          -656.455,
          -637.2950000000001,
          -649.125,
          -629.9200000000001,
          -667.92,
          -660.2850000000001,
          -645.665,
          -650.1949999999999,
          -627.1600000000001,
          -627.11,
          -642.485,
          -634.075,
          -623.7049999999999,
          -633.365,
          -642.24,
          -616.1700000000001,
          -619.345,
          -643.34,
          -627.73,
          -609.125,
          -618.1800000000001,
          -599.4449999999999,
          -612.145,
          -603.015
         ],
         "yaxis": "y"
        },
        {
         "hovertemplate": "n_trajectories=100<br>l_value=0.1<br>iteration=%{x}<br>reward=%{y}<extra></extra>",
         "legendgroup": "100",
         "line": {
          "color": "#636efa",
          "dash": "solid"
         },
         "marker": {
          "symbol": "circle"
         },
         "mode": "lines",
         "name": "100",
         "orientation": "v",
         "showlegend": false,
         "type": "scatter",
         "x": [
          0,
          1,
          2,
          3,
          4,
          5,
          6,
          7,
          8,
          9,
          10,
          11,
          12,
          13,
          14,
          15,
          16,
          17,
          18,
          19,
          20,
          21,
          22,
          23,
          24,
          25,
          26,
          27,
          28,
          29,
          30,
          31,
          32,
          33,
          34,
          35,
          36,
          37,
          38,
          39,
          40,
          41,
          42,
          43,
          44,
          45,
          46,
          47,
          48,
          49,
          50,
          51,
          52,
          53,
          54,
          55,
          56,
          57,
          58,
          59,
          60,
          61,
          62,
          63,
          64,
          65,
          66,
          67,
          68,
          69,
          70,
          71,
          72,
          73,
          74,
          75,
          76,
          77,
          78,
          79,
          80,
          81,
          82,
          83,
          84,
          85,
          86,
          87,
          88,
          89,
          90,
          91,
          92,
          93,
          94,
          95,
          96,
          97,
          98,
          99
         ],
         "xaxis": "x",
         "y": [
          -779.23,
          -761.6949999999999,
          -746.755,
          -727.595,
          -738.24,
          -718.4749999999999,
          -693.975,
          -685.99,
          -652.875,
          -650.95,
          -614.9200000000001,
          -592.2,
          -551.775,
          -568.575,
          -512.735,
          -507.86,
          -497.765,
          -454.975,
          -409.065,
          -386.495,
          -362.21000000000004,
          -363.01,
          -316.815,
          -301.945,
          -277.755,
          -248.39,
          -241.60500000000002,
          -219.29999999999998,
          -204.78,
          -188.225,
          -178.87,
          -149.76,
          -146.995,
          -144.41,
          -123.33,
          -127.03,
          -107.29500000000002,
          -108.715,
          -102.07499999999999,
          -107.14500000000001,
          -89.36,
          -85.095,
          -82.055,
          -72.6,
          -75.525,
          -73.305,
          -69.66,
          -62.68,
          -49.489999999999995,
          -56.675,
          -50.49,
          -53.64,
          -42.965,
          -37.705,
          -40.644999999999996,
          -30.285,
          -27.865000000000002,
          -51.97,
          -45.625,
          -35.1,
          -38.769999999999996,
          -30.595,
          -25.08,
          -20.384999999999998,
          -35.98,
          -22.185,
          -28.064999999999998,
          -16.74,
          -24.990000000000002,
          -23.61,
          -28.625,
          -40.155,
          -20.945,
          -19.815,
          -20.765,
          -25.404999999999998,
          -17.009999999999998,
          -28.104999999999997,
          -28.915,
          -21.98,
          -19.605,
          -15.875,
          -19.084999999999997,
          -19.36,
          -26.985000000000003,
          -16.34,
          -11.475,
          -9.834999999999999,
          -9.475000000000001,
          -13.66,
          -11.785,
          -7.915000000000001,
          -4.635,
          -7.639999999999999,
          -15.545,
          -12.469999999999999,
          -6.869999999999999,
          -8.695,
          -13.815,
          -17.14
         ],
         "yaxis": "y"
        },
        {
         "hovertemplate": "n_trajectories=100<br>l_value=0.5<br>iteration=%{x}<br>reward=%{y}<extra></extra>",
         "legendgroup": "100",
         "line": {
          "color": "#636efa",
          "dash": "solid"
         },
         "marker": {
          "symbol": "circle"
         },
         "mode": "lines",
         "name": "100",
         "orientation": "v",
         "showlegend": false,
         "type": "scatter",
         "x": [
          0,
          1,
          2,
          3,
          4,
          5,
          6,
          7,
          8,
          9,
          10,
          11,
          12,
          13,
          14,
          15,
          16,
          17,
          18,
          19,
          20,
          21,
          22,
          23,
          24,
          25,
          26,
          27,
          28,
          29,
          30,
          31,
          32,
          33,
          34,
          35,
          36,
          37,
          38,
          39,
          40,
          41,
          42,
          43,
          44,
          45,
          46,
          47,
          48,
          49,
          50,
          51,
          52,
          53,
          54,
          55,
          56,
          57,
          58,
          59,
          60,
          61,
          62,
          63,
          64,
          65,
          66,
          67,
          68,
          69,
          70,
          71,
          72,
          73,
          74,
          75,
          76,
          77,
          78,
          79,
          80,
          81,
          82,
          83,
          84,
          85,
          86,
          87,
          88,
          89,
          90,
          91,
          92,
          93,
          94,
          95,
          96,
          97,
          98,
          99
         ],
         "xaxis": "x",
         "y": [
          -771.415,
          -713.865,
          -649.02,
          -563.025,
          -495.66999999999996,
          -406.265,
          -349.87,
          -250.935,
          -229.61,
          -207.465,
          -170.155,
          -179.36499999999998,
          -130.83,
          -137.09,
          -127.16499999999999,
          -110.88999999999999,
          -101.05499999999999,
          -98.74,
          -102.875,
          -81.67,
          -97.45500000000001,
          -105.46,
          -87.94,
          -86.59,
          -76.81500000000001,
          -66.41499999999999,
          -83.895,
          -85.315,
          -78.215,
          -107.705,
          -104.715,
          -115.62,
          -118.4,
          -60.125,
          -103.895,
          -78.71,
          -101.295,
          -83.07000000000001,
          -68.94,
          -93.15,
          -85.66499999999999,
          -51.934999999999995,
          -76.05,
          -63.355,
          -83.79,
          -86.72,
          -55.43,
          -62.379999999999995,
          -93.905,
          -84.51,
          -63.72,
          -74.7,
          -82.71000000000001,
          -75.03999999999999,
          -81.06500000000001,
          -69.56,
          -78.83999999999999,
          -67.95500000000001,
          -54.76,
          -96.14,
          -72.66,
          -62.480000000000004,
          -88.41,
          -82.475,
          -76.33,
          -76.01,
          -76.205,
          -67.655,
          -94.94,
          -70.745,
          -58.89,
          -71.28500000000001,
          -56.050000000000004,
          -92.88,
          -97.71499999999999,
          -55.5,
          -53.72,
          -89.03,
          -74.985,
          -46.315000000000005,
          -74.2,
          -52.970000000000006,
          -47.76,
          -74.26,
          -62.675000000000004,
          -67.485,
          -71.455,
          -43.66,
          -48.06,
          -63.949999999999996,
          -60.870000000000005,
          -49.64,
          -69.36,
          -77.85,
          -59.394999999999996,
          -77.395,
          -48.875,
          -47.099999999999994,
          -52.315000000000005,
          -57.015
         ],
         "yaxis": "y"
        },
        {
         "hovertemplate": "n_trajectories=500<br>l_value=0.01<br>iteration=%{x}<br>reward=%{y}<extra></extra>",
         "legendgroup": "500",
         "line": {
          "color": "#EF553B",
          "dash": "solid"
         },
         "marker": {
          "symbol": "circle"
         },
         "mode": "lines",
         "name": "500",
         "orientation": "v",
         "showlegend": true,
         "type": "scatter",
         "x": [
          0,
          1,
          2,
          3,
          4,
          5,
          6,
          7,
          8,
          9,
          10,
          11,
          12,
          13,
          14,
          15,
          16,
          17,
          18,
          19,
          20,
          21,
          22,
          23,
          24,
          25,
          26,
          27,
          28,
          29,
          30,
          31,
          32,
          33,
          34,
          35,
          36,
          37,
          38,
          39,
          40,
          41,
          42,
          43,
          44,
          45,
          46,
          47,
          48,
          49,
          50,
          51,
          52,
          53,
          54,
          55,
          56,
          57,
          58,
          59,
          60,
          61,
          62,
          63,
          64,
          65,
          66,
          67,
          68,
          69,
          70,
          71,
          72,
          73,
          74,
          75,
          76,
          77,
          78,
          79,
          80,
          81,
          82,
          83,
          84,
          85,
          86,
          87,
          88,
          89,
          90,
          91,
          92,
          93,
          94,
          95,
          96,
          97,
          98,
          99
         ],
         "xaxis": "x",
         "y": [
          -767.172,
          -766.811,
          -761.456,
          -764.996,
          -762.028,
          -762.696,
          -767.056,
          -763.762,
          -765.9770000000001,
          -763.0989999999999,
          -763.485,
          -758.607,
          -760.399,
          -760.848,
          -757.081,
          -764.927,
          -754.048,
          -749.0360000000001,
          -753.505,
          -750.687,
          -753.488,
          -749.9570000000001,
          -749.8710000000001,
          -755.163,
          -751.597,
          -746.881,
          -741.4739999999999,
          -751.6790000000001,
          -749.899,
          -747.092,
          -739.908,
          -747.958,
          -745.409,
          -736.146,
          -738.139,
          -742.626,
          -734.26,
          -737.858,
          -737.682,
          -736.829,
          -729.277,
          -731.6500000000001,
          -734.3489999999999,
          -731.634,
          -728.675,
          -722.764,
          -730.1510000000001,
          -727.168,
          -728.2270000000001,
          -729.746,
          -725.177,
          -725.796,
          -717.828,
          -723.138,
          -716.573,
          -715.607,
          -718.6289999999999,
          -716.155,
          -722.928,
          -722.671,
          -713.547,
          -710.6959999999999,
          -714.4110000000001,
          -707.379,
          -713.498,
          -710.946,
          -706.447,
          -711.729,
          -702.556,
          -703.0999999999999,
          -708.985,
          -703.107,
          -703.377,
          -699.8,
          -702.561,
          -699.4380000000001,
          -690.579,
          -695.3710000000001,
          -697.29,
          -691.695,
          -696.742,
          -692.75,
          -696.6959999999999,
          -698.029,
          -684.645,
          -683.975,
          -691.784,
          -688.503,
          -688.8710000000001,
          -677.572,
          -681.886,
          -681.984,
          -683.303,
          -687.092,
          -683.019,
          -672.287,
          -675.767,
          -673.415,
          -676.1769999999999,
          -672.0350000000001
         ],
         "yaxis": "y"
        },
        {
         "hovertemplate": "n_trajectories=500<br>l_value=0.1<br>iteration=%{x}<br>reward=%{y}<extra></extra>",
         "legendgroup": "500",
         "line": {
          "color": "#EF553B",
          "dash": "solid"
         },
         "marker": {
          "symbol": "circle"
         },
         "mode": "lines",
         "name": "500",
         "orientation": "v",
         "showlegend": false,
         "type": "scatter",
         "x": [
          0,
          1,
          2,
          3,
          4,
          5,
          6,
          7,
          8,
          9,
          10,
          11,
          12,
          13,
          14,
          15,
          16,
          17,
          18,
          19,
          20,
          21,
          22,
          23,
          24,
          25,
          26,
          27,
          28,
          29,
          30,
          31,
          32,
          33,
          34,
          35,
          36,
          37,
          38,
          39,
          40,
          41,
          42,
          43,
          44,
          45,
          46,
          47,
          48,
          49,
          50,
          51,
          52,
          53,
          54,
          55,
          56,
          57,
          58,
          59,
          60,
          61,
          62,
          63,
          64,
          65,
          66,
          67,
          68,
          69,
          70,
          71,
          72,
          73,
          74,
          75,
          76,
          77,
          78,
          79,
          80,
          81,
          82,
          83,
          84,
          85,
          86,
          87,
          88,
          89,
          90,
          91,
          92,
          93,
          94,
          95,
          96,
          97,
          98,
          99
         ],
         "xaxis": "x",
         "y": [
          -771.663,
          -764.134,
          -751.606,
          -743.716,
          -729.547,
          -727.709,
          -709.8240000000001,
          -706.1179999999999,
          -692.751,
          -681.783,
          -674.637,
          -655.565,
          -648.6569999999999,
          -630.712,
          -621.742,
          -602.307,
          -587.5540000000001,
          -565.545,
          -553.3779999999999,
          -524.1800000000001,
          -513.439,
          -483.97,
          -466.212,
          -449.15200000000004,
          -429.05400000000003,
          -402.043,
          -391.989,
          -370.818,
          -353.341,
          -341.608,
          -325.586,
          -305.807,
          -301.779,
          -288.779,
          -274.615,
          -264.55600000000004,
          -249.15599999999998,
          -231.717,
          -224.298,
          -210.87199999999999,
          -193.261,
          -184.03300000000002,
          -172.50900000000001,
          -158.237,
          -153.454,
          -141.675,
          -136.796,
          -124.654,
          -116.422,
          -110.26400000000001,
          -99.426,
          -94.193,
          -85.086,
          -81.573,
          -77.2,
          -71.199,
          -68.539,
          -61.678,
          -58.518,
          -52.921,
          -52.075,
          -47.845,
          -43.934999999999995,
          -41.138999999999996,
          -39.937999999999995,
          -34.508,
          -32.553,
          -29.872,
          -28.971,
          -27.275,
          -23.285999999999998,
          -22.433,
          -19.958000000000002,
          -20.486,
          -18.721999999999998,
          -17.243,
          -15.199000000000002,
          -14.248000000000001,
          -12.727,
          -12.431999999999999,
          -10.721,
          -9.302,
          -8.442,
          -7.891,
          -7.323,
          -5.497000000000001,
          -5.918,
          -4.731,
          -3.498,
          -3.1260000000000003,
          -2.4670000000000005,
          -1.8780000000000001,
          -1.347,
          -1.0220000000000002,
          -0.2469999999999999,
          0.5029999999999997,
          0.5009999999999999,
          1.246,
          1.333,
          2.119
         ],
         "yaxis": "y"
        },
        {
         "hovertemplate": "n_trajectories=500<br>l_value=0.5<br>iteration=%{x}<br>reward=%{y}<extra></extra>",
         "legendgroup": "500",
         "line": {
          "color": "#EF553B",
          "dash": "solid"
         },
         "marker": {
          "symbol": "circle"
         },
         "mode": "lines",
         "name": "500",
         "orientation": "v",
         "showlegend": false,
         "type": "scatter",
         "x": [
          0,
          1,
          2,
          3,
          4,
          5,
          6,
          7,
          8,
          9,
          10,
          11,
          12,
          13,
          14,
          15,
          16,
          17,
          18,
          19,
          20,
          21,
          22,
          23,
          24,
          25,
          26,
          27,
          28,
          29,
          30,
          31,
          32,
          33,
          34,
          35,
          36,
          37,
          38,
          39,
          40,
          41,
          42,
          43,
          44,
          45,
          46,
          47,
          48,
          49,
          50,
          51,
          52,
          53,
          54,
          55,
          56,
          57,
          58,
          59,
          60,
          61,
          62,
          63,
          64,
          65,
          66,
          67,
          68,
          69,
          70,
          71,
          72,
          73,
          74,
          75,
          76,
          77,
          78,
          79,
          80,
          81,
          82,
          83,
          84,
          85,
          86,
          87,
          88,
          89,
          90,
          91,
          92,
          93,
          94,
          95,
          96,
          97,
          98,
          99
         ],
         "xaxis": "x",
         "y": [
          -772.642,
          -723.062,
          -681.3689999999999,
          -611.952,
          -551.4830000000001,
          -461.953,
          -367.461,
          -292.207,
          -227.31,
          -169.935,
          -124.469,
          -90.935,
          -65.75399999999999,
          -47.653000000000006,
          -33.475,
          -24.339000000000002,
          -16.084,
          -10.699,
          -5.497,
          -2.099,
          0.609,
          2.7350000000000003,
          4.208,
          4.6899999999999995,
          5.216,
          5.7330000000000005,
          5.945,
          6.256,
          5.9239999999999995,
          5.9510000000000005,
          6.439,
          6.024,
          6.686,
          6.621,
          6.23,
          6.679,
          6.754,
          6.47,
          6.692,
          6.757,
          6.7379999999999995,
          6.688,
          6.563000000000001,
          6.8580000000000005,
          6.834,
          6.593,
          6.779,
          6.792,
          6.897,
          6.809,
          7.072,
          7.152,
          6.393000000000001,
          6.38,
          6.808,
          6.7219999999999995,
          6.589,
          6.927,
          6.872,
          6.888,
          6.609999999999999,
          6.928,
          6.890000000000001,
          6.922000000000001,
          6.628,
          6.231,
          6.5920000000000005,
          6.5280000000000005,
          6.721,
          7.253,
          6.868,
          6.871,
          6.574999999999999,
          6.914,
          6.511,
          6.852,
          6.991,
          6.508,
          6.573,
          6.757,
          6.795999999999999,
          7.209,
          6.705,
          6.911,
          6.852,
          6.742,
          6.662000000000001,
          6.755,
          7.086,
          7.155,
          6.616,
          6.598,
          6.709,
          6.38,
          6.84,
          6.879,
          6.757,
          6.720000000000001,
          6.769,
          6.83
         ],
         "yaxis": "y"
        },
        {
         "hovertemplate": "n_trajectories=1000<br>l_value=0.01<br>iteration=%{x}<br>reward=%{y}<extra></extra>",
         "legendgroup": "1000",
         "line": {
          "color": "#00cc96",
          "dash": "solid"
         },
         "marker": {
          "symbol": "circle"
         },
         "mode": "lines",
         "name": "1000",
         "orientation": "v",
         "showlegend": true,
         "type": "scatter",
         "x": [
          0,
          1,
          2,
          3,
          4,
          5,
          6,
          7,
          8,
          9,
          10,
          11,
          12,
          13,
          14,
          15,
          16,
          17,
          18,
          19,
          20,
          21,
          22,
          23,
          24,
          25,
          26,
          27,
          28,
          29,
          30,
          31,
          32,
          33,
          34,
          35,
          36,
          37,
          38,
          39,
          40,
          41,
          42,
          43,
          44,
          45,
          46,
          47,
          48,
          49,
          50,
          51,
          52,
          53,
          54,
          55,
          56,
          57,
          58,
          59,
          60,
          61,
          62,
          63,
          64,
          65,
          66,
          67,
          68,
          69,
          70,
          71,
          72,
          73,
          74,
          75,
          76,
          77,
          78,
          79,
          80,
          81,
          82,
          83,
          84,
          85,
          86,
          87,
          88,
          89,
          90,
          91,
          92,
          93,
          94,
          95,
          96,
          97,
          98,
          99
         ],
         "xaxis": "x",
         "y": [
          -774.6005,
          -769.557,
          -766.5830000000001,
          -766.8065,
          -769.1655000000001,
          -766.3885,
          -766.1875,
          -763.5440000000001,
          -763.2995000000001,
          -765.9314999999999,
          -763.116,
          -760.4304999999999,
          -760.7795000000001,
          -761.7940000000001,
          -759.1495,
          -761.297,
          -758.203,
          -757.929,
          -751.162,
          -754.174,
          -749.9105,
          -752.049,
          -755.845,
          -749.9165,
          -751.3695,
          -753.4545,
          -748.4325,
          -748.8164999999999,
          -743.193,
          -748.252,
          -746.867,
          -741.782,
          -743.397,
          -743.7405,
          -743.235,
          -746.2995000000001,
          -739.7615000000001,
          -737.345,
          -737.5875,
          -738.1365000000001,
          -735.8515,
          -738.6685,
          -734.645,
          -733.4945,
          -734.7185,
          -734.815,
          -729.533,
          -730.232,
          -732.604,
          -727.7470000000001,
          -729.6285,
          -729.0305000000001,
          -728.018,
          -729.0325,
          -723.706,
          -725.4135,
          -721.039,
          -722.6165,
          -723.7015,
          -715.5554999999999,
          -720.831,
          -717.01,
          -719.5705,
          -717.4055000000001,
          -717.9155000000001,
          -715.346,
          -713.5515,
          -712.56,
          -711.8934999999999,
          -713.2845,
          -712.9225,
          -707.598,
          -708.0605,
          -702.909,
          -708.0785000000001,
          -704.071,
          -700.875,
          -705.726,
          -700.6144999999999,
          -703.297,
          -703.2335,
          -699.819,
          -699.2255,
          -696.999,
          -694.5419999999999,
          -695.6925,
          -697.108,
          -685.558,
          -689.9835,
          -689.2909999999999,
          -690.535,
          -685.7729999999999,
          -691.0835,
          -685.898,
          -682.6345,
          -680.5925,
          -680.9975,
          -687.019,
          -683.3745,
          -681.897
         ],
         "yaxis": "y"
        },
        {
         "hovertemplate": "n_trajectories=1000<br>l_value=0.1<br>iteration=%{x}<br>reward=%{y}<extra></extra>",
         "legendgroup": "1000",
         "line": {
          "color": "#00cc96",
          "dash": "solid"
         },
         "marker": {
          "symbol": "circle"
         },
         "mode": "lines",
         "name": "1000",
         "orientation": "v",
         "showlegend": false,
         "type": "scatter",
         "x": [
          0,
          1,
          2,
          3,
          4,
          5,
          6,
          7,
          8,
          9,
          10,
          11,
          12,
          13,
          14,
          15,
          16,
          17,
          18,
          19,
          20,
          21,
          22,
          23,
          24,
          25,
          26,
          27,
          28,
          29,
          30,
          31,
          32,
          33,
          34,
          35,
          36,
          37,
          38,
          39,
          40,
          41,
          42,
          43,
          44,
          45,
          46,
          47,
          48,
          49,
          50,
          51,
          52,
          53,
          54,
          55,
          56,
          57,
          58,
          59,
          60,
          61,
          62,
          63,
          64,
          65,
          66,
          67,
          68,
          69,
          70,
          71,
          72,
          73,
          74,
          75,
          76,
          77,
          78,
          79,
          80,
          81,
          82,
          83,
          84,
          85,
          86,
          87,
          88,
          89,
          90,
          91,
          92,
          93,
          94,
          95,
          96,
          97,
          98,
          99
         ],
         "xaxis": "x",
         "y": [
          -770.5730000000001,
          -765.3865,
          -757.995,
          -749.0835,
          -733.6814999999999,
          -730.5575,
          -721.4915000000001,
          -709.5165,
          -694.832,
          -688.4145000000001,
          -679.569,
          -664.0830000000001,
          -659.1535,
          -643.019,
          -636.817,
          -625.6075000000001,
          -611.4390000000001,
          -591.9085,
          -572.234,
          -562.8595,
          -542.957,
          -528.587,
          -504.7385,
          -487.3875,
          -465.698,
          -443.55100000000004,
          -418.8695,
          -411.24649999999997,
          -383.4355,
          -377.2405,
          -351.387,
          -339.34950000000003,
          -328.14599999999996,
          -314.766,
          -295.2615,
          -285.247,
          -265.753,
          -259.3005,
          -245.216,
          -237.238,
          -212.6155,
          -210.0495,
          -196.82,
          -182.835,
          -168.2095,
          -162.614,
          -150.1575,
          -142.6815,
          -133.2695,
          -125.49600000000001,
          -112.94300000000001,
          -111.63199999999999,
          -102.1955,
          -95.169,
          -87.7855,
          -84.4195,
          -78.33449999999999,
          -73.68299999999999,
          -67.3435,
          -62.695499999999996,
          -61.193,
          -57.656499999999994,
          -50.4945,
          -49.9225,
          -47.0745,
          -43.3795,
          -40.337999999999994,
          -37.9715,
          -34.555,
          -33.028,
          -30.9525,
          -29.378,
          -26.344,
          -24.544999999999998,
          -22.884999999999998,
          -20.2425,
          -19.6325,
          -17.5535,
          -17.199,
          -16.073,
          -13.914,
          -12.790000000000001,
          -11.448500000000001,
          -10.633500000000002,
          -9.51,
          -8.399000000000001,
          -8.275,
          -6.937500000000001,
          -6.460999999999999,
          -5.626000000000001,
          -4.474,
          -3.882,
          -3.172,
          -2.322,
          -1.8184999999999998,
          -0.9060000000000006,
          -0.6669999999999998,
          -0.5680000000000001,
          0.3770000000000002,
          1.1545
         ],
         "yaxis": "y"
        },
        {
         "hovertemplate": "n_trajectories=1000<br>l_value=0.5<br>iteration=%{x}<br>reward=%{y}<extra></extra>",
         "legendgroup": "1000",
         "line": {
          "color": "#00cc96",
          "dash": "solid"
         },
         "marker": {
          "symbol": "circle"
         },
         "mode": "lines",
         "name": "1000",
         "orientation": "v",
         "showlegend": false,
         "type": "scatter",
         "x": [
          0,
          1,
          2,
          3,
          4,
          5,
          6,
          7,
          8,
          9,
          10,
          11,
          12,
          13,
          14,
          15,
          16,
          17,
          18,
          19,
          20,
          21,
          22,
          23,
          24,
          25,
          26,
          27,
          28,
          29,
          30,
          31,
          32,
          33,
          34,
          35,
          36,
          37,
          38,
          39,
          40,
          41,
          42,
          43,
          44,
          45,
          46,
          47,
          48,
          49,
          50,
          51,
          52,
          53,
          54,
          55,
          56,
          57,
          58,
          59,
          60,
          61,
          62,
          63,
          64,
          65,
          66,
          67,
          68,
          69,
          70,
          71,
          72,
          73,
          74,
          75,
          76,
          77,
          78,
          79,
          80,
          81,
          82,
          83,
          84,
          85,
          86,
          87,
          88,
          89,
          90,
          91,
          92,
          93,
          94,
          95,
          96,
          97,
          98,
          99
         ],
         "xaxis": "x",
         "y": [
          -771.5705,
          -732.8575,
          -690.9190000000001,
          -632.6045,
          -573.0015000000001,
          -487.25350000000003,
          -406.71849999999995,
          -321.754,
          -266.8875,
          -210.553,
          -155.4125,
          -115.7085,
          -83.5375,
          -61.554,
          -43.3285,
          -31.331500000000002,
          -22.325000000000003,
          -14.9555,
          -8.9665,
          -5.0185,
          -1.7020000000000004,
          1.0565000000000002,
          3.1585,
          4.632,
          5.487,
          6.0905000000000005,
          6.224,
          6.589499999999999,
          6.7059999999999995,
          6.886,
          7.056,
          7.0120000000000005,
          7.1215,
          7.2275,
          7.0344999999999995,
          7.1675,
          7.314,
          7.3495,
          7.244999999999999,
          7.336,
          7.3035,
          7.3205,
          7.4295,
          7.3795,
          7.289,
          7.285,
          7.3365,
          7.330500000000001,
          7.4965,
          7.4719999999999995,
          7.413,
          7.4665,
          7.449,
          7.349,
          7.538,
          7.338,
          7.232,
          7.3575,
          7.3405000000000005,
          7.2555,
          7.339,
          7.464,
          7.434,
          7.398,
          7.454000000000001,
          7.451499999999999,
          7.4605,
          7.3605,
          7.445,
          7.395,
          7.2225,
          7.443,
          7.4495000000000005,
          7.2835,
          7.4505,
          7.4745,
          7.461,
          7.3495,
          7.4544999999999995,
          7.4725,
          7.398,
          7.4,
          7.4855,
          7.3759999999999994,
          7.436999999999999,
          7.2915,
          7.3885000000000005,
          7.3385,
          7.3614999999999995,
          7.3625,
          7.326499999999999,
          7.385,
          7.465999999999999,
          7.3475,
          7.622,
          7.531000000000001,
          7.3004999999999995,
          7.473,
          7.568,
          7.385
         ],
         "yaxis": "y"
        }
       ],
       "layout": {
        "autosize": true,
        "legend": {
         "title": {
          "text": "n_trajectories"
         },
         "tracegroupgap": 0
        },
        "margin": {
         "t": 60
        },
        "template": {
         "data": {
          "bar": [
           {
            "error_x": {
             "color": "#2a3f5f"
            },
            "error_y": {
             "color": "#2a3f5f"
            },
            "marker": {
             "line": {
              "color": "#E5ECF6",
              "width": 0.5
             },
             "pattern": {
              "fillmode": "overlay",
              "size": 10,
              "solidity": 0.2
             }
            },
            "type": "bar"
           }
          ],
          "barpolar": [
           {
            "marker": {
             "line": {
              "color": "#E5ECF6",
              "width": 0.5
             },
             "pattern": {
              "fillmode": "overlay",
              "size": 10,
              "solidity": 0.2
             }
            },
            "type": "barpolar"
           }
          ],
          "carpet": [
           {
            "aaxis": {
             "endlinecolor": "#2a3f5f",
             "gridcolor": "white",
             "linecolor": "white",
             "minorgridcolor": "white",
             "startlinecolor": "#2a3f5f"
            },
            "baxis": {
             "endlinecolor": "#2a3f5f",
             "gridcolor": "white",
             "linecolor": "white",
             "minorgridcolor": "white",
             "startlinecolor": "#2a3f5f"
            },
            "type": "carpet"
           }
          ],
          "choropleth": [
           {
            "colorbar": {
             "outlinewidth": 0,
             "ticks": ""
            },
            "type": "choropleth"
           }
          ],
          "contour": [
           {
            "colorbar": {
             "outlinewidth": 0,
             "ticks": ""
            },
            "colorscale": [
             [
              0,
              "#0d0887"
             ],
             [
              0.1111111111111111,
              "#46039f"
             ],
             [
              0.2222222222222222,
              "#7201a8"
             ],
             [
              0.3333333333333333,
              "#9c179e"
             ],
             [
              0.4444444444444444,
              "#bd3786"
             ],
             [
              0.5555555555555556,
              "#d8576b"
             ],
             [
              0.6666666666666666,
              "#ed7953"
             ],
             [
              0.7777777777777778,
              "#fb9f3a"
             ],
             [
              0.8888888888888888,
              "#fdca26"
             ],
             [
              1,
              "#f0f921"
             ]
            ],
            "type": "contour"
           }
          ],
          "contourcarpet": [
           {
            "colorbar": {
             "outlinewidth": 0,
             "ticks": ""
            },
            "type": "contourcarpet"
           }
          ],
          "heatmap": [
           {
            "colorbar": {
             "outlinewidth": 0,
             "ticks": ""
            },
            "colorscale": [
             [
              0,
              "#0d0887"
             ],
             [
              0.1111111111111111,
              "#46039f"
             ],
             [
              0.2222222222222222,
              "#7201a8"
             ],
             [
              0.3333333333333333,
              "#9c179e"
             ],
             [
              0.4444444444444444,
              "#bd3786"
             ],
             [
              0.5555555555555556,
              "#d8576b"
             ],
             [
              0.6666666666666666,
              "#ed7953"
             ],
             [
              0.7777777777777778,
              "#fb9f3a"
             ],
             [
              0.8888888888888888,
              "#fdca26"
             ],
             [
              1,
              "#f0f921"
             ]
            ],
            "type": "heatmap"
           }
          ],
          "heatmapgl": [
           {
            "colorbar": {
             "outlinewidth": 0,
             "ticks": ""
            },
            "colorscale": [
             [
              0,
              "#0d0887"
             ],
             [
              0.1111111111111111,
              "#46039f"
             ],
             [
              0.2222222222222222,
              "#7201a8"
             ],
             [
              0.3333333333333333,
              "#9c179e"
             ],
             [
              0.4444444444444444,
              "#bd3786"
             ],
             [
              0.5555555555555556,
              "#d8576b"
             ],
             [
              0.6666666666666666,
              "#ed7953"
             ],
             [
              0.7777777777777778,
              "#fb9f3a"
             ],
             [
              0.8888888888888888,
              "#fdca26"
             ],
             [
              1,
              "#f0f921"
             ]
            ],
            "type": "heatmapgl"
           }
          ],
          "histogram": [
           {
            "marker": {
             "pattern": {
              "fillmode": "overlay",
              "size": 10,
              "solidity": 0.2
             }
            },
            "type": "histogram"
           }
          ],
          "histogram2d": [
           {
            "colorbar": {
             "outlinewidth": 0,
             "ticks": ""
            },
            "colorscale": [
             [
              0,
              "#0d0887"
             ],
             [
              0.1111111111111111,
              "#46039f"
             ],
             [
              0.2222222222222222,
              "#7201a8"
             ],
             [
              0.3333333333333333,
              "#9c179e"
             ],
             [
              0.4444444444444444,
              "#bd3786"
             ],
             [
              0.5555555555555556,
              "#d8576b"
             ],
             [
              0.6666666666666666,
              "#ed7953"
             ],
             [
              0.7777777777777778,
              "#fb9f3a"
             ],
             [
              0.8888888888888888,
              "#fdca26"
             ],
             [
              1,
              "#f0f921"
             ]
            ],
            "type": "histogram2d"
           }
          ],
          "histogram2dcontour": [
           {
            "colorbar": {
             "outlinewidth": 0,
             "ticks": ""
            },
            "colorscale": [
             [
              0,
              "#0d0887"
             ],
             [
              0.1111111111111111,
              "#46039f"
             ],
             [
              0.2222222222222222,
              "#7201a8"
             ],
             [
              0.3333333333333333,
              "#9c179e"
             ],
             [
              0.4444444444444444,
              "#bd3786"
             ],
             [
              0.5555555555555556,
              "#d8576b"
             ],
             [
              0.6666666666666666,
              "#ed7953"
             ],
             [
              0.7777777777777778,
              "#fb9f3a"
             ],
             [
              0.8888888888888888,
              "#fdca26"
             ],
             [
              1,
              "#f0f921"
             ]
            ],
            "type": "histogram2dcontour"
           }
          ],
          "mesh3d": [
           {
            "colorbar": {
             "outlinewidth": 0,
             "ticks": ""
            },
            "type": "mesh3d"
           }
          ],
          "parcoords": [
           {
            "line": {
             "colorbar": {
              "outlinewidth": 0,
              "ticks": ""
             }
            },
            "type": "parcoords"
           }
          ],
          "pie": [
           {
            "automargin": true,
            "type": "pie"
           }
          ],
          "scatter": [
           {
            "fillpattern": {
             "fillmode": "overlay",
             "size": 10,
             "solidity": 0.2
            },
            "type": "scatter"
           }
          ],
          "scatter3d": [
           {
            "line": {
             "colorbar": {
              "outlinewidth": 0,
              "ticks": ""
             }
            },
            "marker": {
             "colorbar": {
              "outlinewidth": 0,
              "ticks": ""
             }
            },
            "type": "scatter3d"
           }
          ],
          "scattercarpet": [
           {
            "marker": {
             "colorbar": {
              "outlinewidth": 0,
              "ticks": ""
             }
            },
            "type": "scattercarpet"
           }
          ],
          "scattergeo": [
           {
            "marker": {
             "colorbar": {
              "outlinewidth": 0,
              "ticks": ""
             }
            },
            "type": "scattergeo"
           }
          ],
          "scattergl": [
           {
            "marker": {
             "colorbar": {
              "outlinewidth": 0,
              "ticks": ""
             }
            },
            "type": "scattergl"
           }
          ],
          "scattermapbox": [
           {
            "marker": {
             "colorbar": {
              "outlinewidth": 0,
              "ticks": ""
             }
            },
            "type": "scattermapbox"
           }
          ],
          "scatterpolar": [
           {
            "marker": {
             "colorbar": {
              "outlinewidth": 0,
              "ticks": ""
             }
            },
            "type": "scatterpolar"
           }
          ],
          "scatterpolargl": [
           {
            "marker": {
             "colorbar": {
              "outlinewidth": 0,
              "ticks": ""
             }
            },
            "type": "scatterpolargl"
           }
          ],
          "scatterternary": [
           {
            "marker": {
             "colorbar": {
              "outlinewidth": 0,
              "ticks": ""
             }
            },
            "type": "scatterternary"
           }
          ],
          "surface": [
           {
            "colorbar": {
             "outlinewidth": 0,
             "ticks": ""
            },
            "colorscale": [
             [
              0,
              "#0d0887"
             ],
             [
              0.1111111111111111,
              "#46039f"
             ],
             [
              0.2222222222222222,
              "#7201a8"
             ],
             [
              0.3333333333333333,
              "#9c179e"
             ],
             [
              0.4444444444444444,
              "#bd3786"
             ],
             [
              0.5555555555555556,
              "#d8576b"
             ],
             [
              0.6666666666666666,
              "#ed7953"
             ],
             [
              0.7777777777777778,
              "#fb9f3a"
             ],
             [
              0.8888888888888888,
              "#fdca26"
             ],
             [
              1,
              "#f0f921"
             ]
            ],
            "type": "surface"
           }
          ],
          "table": [
           {
            "cells": {
             "fill": {
              "color": "#EBF0F8"
             },
             "line": {
              "color": "white"
             }
            },
            "header": {
             "fill": {
              "color": "#C8D4E3"
             },
             "line": {
              "color": "white"
             }
            },
            "type": "table"
           }
          ]
         },
         "layout": {
          "annotationdefaults": {
           "arrowcolor": "#2a3f5f",
           "arrowhead": 0,
           "arrowwidth": 1
          },
          "autotypenumbers": "strict",
          "coloraxis": {
           "colorbar": {
            "outlinewidth": 0,
            "ticks": ""
           }
          },
          "colorscale": {
           "diverging": [
            [
             0,
             "#8e0152"
            ],
            [
             0.1,
             "#c51b7d"
            ],
            [
             0.2,
             "#de77ae"
            ],
            [
             0.3,
             "#f1b6da"
            ],
            [
             0.4,
             "#fde0ef"
            ],
            [
             0.5,
             "#f7f7f7"
            ],
            [
             0.6,
             "#e6f5d0"
            ],
            [
             0.7,
             "#b8e186"
            ],
            [
             0.8,
             "#7fbc41"
            ],
            [
             0.9,
             "#4d9221"
            ],
            [
             1,
             "#276419"
            ]
           ],
           "sequential": [
            [
             0,
             "#0d0887"
            ],
            [
             0.1111111111111111,
             "#46039f"
            ],
            [
             0.2222222222222222,
             "#7201a8"
            ],
            [
             0.3333333333333333,
             "#9c179e"
            ],
            [
             0.4444444444444444,
             "#bd3786"
            ],
            [
             0.5555555555555556,
             "#d8576b"
            ],
            [
             0.6666666666666666,
             "#ed7953"
            ],
            [
             0.7777777777777778,
             "#fb9f3a"
            ],
            [
             0.8888888888888888,
             "#fdca26"
            ],
            [
             1,
             "#f0f921"
            ]
           ],
           "sequentialminus": [
            [
             0,
             "#0d0887"
            ],
            [
             0.1111111111111111,
             "#46039f"
            ],
            [
             0.2222222222222222,
             "#7201a8"
            ],
            [
             0.3333333333333333,
             "#9c179e"
            ],
            [
             0.4444444444444444,
             "#bd3786"
            ],
            [
             0.5555555555555556,
             "#d8576b"
            ],
            [
             0.6666666666666666,
             "#ed7953"
            ],
            [
             0.7777777777777778,
             "#fb9f3a"
            ],
            [
             0.8888888888888888,
             "#fdca26"
            ],
            [
             1,
             "#f0f921"
            ]
           ]
          },
          "colorway": [
           "#636efa",
           "#EF553B",
           "#00cc96",
           "#ab63fa",
           "#FFA15A",
           "#19d3f3",
           "#FF6692",
           "#B6E880",
           "#FF97FF",
           "#FECB52"
          ],
          "font": {
           "color": "#2a3f5f"
          },
          "geo": {
           "bgcolor": "white",
           "lakecolor": "white",
           "landcolor": "#E5ECF6",
           "showlakes": true,
           "showland": true,
           "subunitcolor": "white"
          },
          "hoverlabel": {
           "align": "left"
          },
          "hovermode": "closest",
          "mapbox": {
           "style": "light"
          },
          "paper_bgcolor": "white",
          "plot_bgcolor": "#E5ECF6",
          "polar": {
           "angularaxis": {
            "gridcolor": "white",
            "linecolor": "white",
            "ticks": ""
           },
           "bgcolor": "#E5ECF6",
           "radialaxis": {
            "gridcolor": "white",
            "linecolor": "white",
            "ticks": ""
           }
          },
          "scene": {
           "xaxis": {
            "backgroundcolor": "#E5ECF6",
            "gridcolor": "white",
            "gridwidth": 2,
            "linecolor": "white",
            "showbackground": true,
            "ticks": "",
            "zerolinecolor": "white"
           },
           "yaxis": {
            "backgroundcolor": "#E5ECF6",
            "gridcolor": "white",
            "gridwidth": 2,
            "linecolor": "white",
            "showbackground": true,
            "ticks": "",
            "zerolinecolor": "white"
           },
           "zaxis": {
            "backgroundcolor": "#E5ECF6",
            "gridcolor": "white",
            "gridwidth": 2,
            "linecolor": "white",
            "showbackground": true,
            "ticks": "",
            "zerolinecolor": "white"
           }
          },
          "shapedefaults": {
           "line": {
            "color": "#2a3f5f"
           }
          },
          "ternary": {
           "aaxis": {
            "gridcolor": "white",
            "linecolor": "white",
            "ticks": ""
           },
           "baxis": {
            "gridcolor": "white",
            "linecolor": "white",
            "ticks": ""
           },
           "bgcolor": "#E5ECF6",
           "caxis": {
            "gridcolor": "white",
            "linecolor": "white",
            "ticks": ""
           }
          },
          "title": {
           "x": 0.05
          },
          "xaxis": {
           "automargin": true,
           "gridcolor": "white",
           "linecolor": "white",
           "ticks": "",
           "title": {
            "standoff": 15
           },
           "zerolinecolor": "white",
           "zerolinewidth": 2
          },
          "yaxis": {
           "automargin": true,
           "gridcolor": "white",
           "linecolor": "white",
           "ticks": "",
           "title": {
            "standoff": 15
           },
           "zerolinecolor": "white",
           "zerolinewidth": 2
          }
         }
        },
        "title": {
         "text": "Влияние количества траекторий на среднюю награду"
        },
        "xaxis": {
         "anchor": "y",
         "autorange": true,
         "domain": [
          0,
          1
         ],
         "range": [
          0,
          99
         ],
         "title": {
          "text": "Итерация"
         },
         "type": "linear"
        },
        "yaxis": {
         "anchor": "x",
         "autorange": true,
         "domain": [
          0,
          1
         ],
         "range": [
          -822.944,
          51.336
         ],
         "title": {
          "text": "Средняя награда"
         },
         "type": "linear"
        }
       }
      },
      "image/png": "[encoded data removed]"
     },
     "metadata": {},
     "output_type": "display_data"
    }
   ],
   "source": [
    "df_grpd = df2.groupby(['n_trajectories', 'iteration', 'l_value']).agg({'reward': 'mean'}).reset_index()\n",
    "fig = px.line(df_grpd, x='iteration', y='reward', line_group='l_value', color='n_trajectories')\n",
    "fig.update_layout(\n",
    "    title = 'Влияние количества траекторий и l_value на среднюю награду',\n",
    "    xaxis_title = 'Итерация',\n",
    "    yaxis_title = 'Средняя награда',\n",
    ")"
   ]
  },
  {
   "cell_type": "markdown",
   "id": "bfb2c6af",
   "metadata": {},
   "source": [
    "Из графика обучения можно сделать вывод, что при обучении с policy_smoothing количество траекторий играет уже не такую не решающую роль как без сглаживания. l_value сильно влияет на скорость обучения. Видно, что при l=0.01 модель за 100 итераций практически не обучилась.\n",
    "В качестве оптимального можно брать 500 траекторий и l = 0.25.\n",
    "Проанализируем влияние q:"
   ]
  },
  {
   "cell_type": "code",
   "execution_count": 114,
   "id": "6e5a9a43",
   "metadata": {},
   "outputs": [
    {
     "data": {
      "application/vnd.plotly.v1+json": {
       "config": {
        "plotlyServerURL": "https://plot.ly"
       },
       "data": [
        {
         "hovertemplate": "q_value=0.5<br>iteration=%{x}<br>reward=%{y}<extra></extra>",
         "legendgroup": "0.5",
         "line": {
          "color": "#636efa",
          "dash": "solid"
         },
         "marker": {
          "symbol": "circle"
         },
         "mode": "lines",
         "name": "0.5",
         "orientation": "v",
         "showlegend": true,
         "type": "scatter",
         "x": [
          0,
          1,
          2,
          3,
          4,
          5,
          6,
          7,
          8,
          9,
          10,
          11,
          12,
          13,
          14,
          15,
          16,
          17,
          18,
          19,
          20,
          21,
          22,
          23,
          24,
          25,
          26,
          27,
          28,
          29,
          30,
          31,
          32,
          33,
          34,
          35,
          36,
          37,
          38,
          39,
          40,
          41,
          42,
          43,
          44,
          45,
          46,
          47,
          48,
          49,
          50,
          51,
          52,
          53,
          54,
          55,
          56,
          57,
          58,
          59,
          60,
          61,
          62,
          63,
          64,
          65,
          66,
          67,
          68,
          69,
          70,
          71,
          72,
          73,
          74,
          75,
          76,
          77,
          78,
          79,
          80,
          81,
          82,
          83,
          84,
          85,
          86,
          87,
          88,
          89,
          90,
          91,
          92,
          93,
          94,
          95,
          96,
          97,
          98,
          99
         ],
         "xaxis": "x",
         "y": [
          -767.418,
          -728.546,
          -700.78,
          -638.48,
          -604.022,
          -553.29,
          -491.73,
          -427.892,
          -354.932,
          -270.876,
          -204.444,
          -156.316,
          -114.46,
          -88.278,
          -64.078,
          -49.88,
          -34.89,
          -25.07,
          -15.636,
          -9.266,
          -3.774,
          -0.116,
          2.616,
          3.848,
          4.94,
          5.612,
          5.958,
          6.512,
          6.528,
          6.702,
          6.904,
          7.124,
          7.428,
          7.328,
          7.232,
          7.33,
          7.486,
          7.262,
          7.44,
          7.682,
          7.694,
          7.27,
          7.658,
          7.416,
          7.456,
          7.672,
          7.586,
          7.486,
          7.768,
          7.54,
          7.486,
          7.63,
          7.62,
          7.372,
          7.612,
          7.326,
          7.56,
          7.48,
          7.558,
          7.528,
          7.532,
          7.498,
          7.692,
          7.612,
          7.348,
          7.294,
          7.638,
          7.638,
          7.71,
          7.596,
          7.612,
          7.672,
          7.566,
          7.54,
          7.408,
          7.706,
          7.404,
          7.564,
          7.508,
          7.514,
          7.842,
          7.768,
          7.514,
          7.626,
          7.796,
          7.356,
          7.682,
          7.56,
          7.508,
          7.892,
          7.582,
          7.632,
          7.572,
          7.41,
          7.668,
          7.584,
          7.46,
          7.458,
          7.514,
          7.514
         ],
         "yaxis": "y"
        },
        {
         "hovertemplate": "q_value=0.7<br>iteration=%{x}<br>reward=%{y}<extra></extra>",
         "legendgroup": "0.7",
         "line": {
          "color": "#EF553B",
          "dash": "solid"
         },
         "marker": {
          "symbol": "circle"
         },
         "mode": "lines",
         "name": "0.7",
         "orientation": "v",
         "showlegend": true,
         "type": "scatter",
         "x": [
          0,
          1,
          2,
          3,
          4,
          5,
          6,
          7,
          8,
          9,
          10,
          11,
          12,
          13,
          14,
          15,
          16,
          17,
          18,
          19,
          20,
          21,
          22,
          23,
          24,
          25,
          26,
          27,
          28,
          29,
          30,
          31,
          32,
          33,
          34,
          35,
          36,
          37,
          38,
          39,
          40,
          41,
          42,
          43,
          44,
          45,
          46,
          47,
          48,
          49,
          50,
          51,
          52,
          53,
          54,
          55,
          56,
          57,
          58,
          59,
          60,
          61,
          62,
          63,
          64,
          65,
          66,
          67,
          68,
          69,
          70,
          71,
          72,
          73,
          74,
          75,
          76,
          77,
          78,
          79,
          80,
          81,
          82,
          83,
          84,
          85,
          86,
          87,
          88,
          89,
          90,
          91,
          92,
          93,
          94,
          95,
          96,
          97,
          98,
          99
         ],
         "xaxis": "x",
         "y": [
          -777.866,
          -717.578,
          -661.958,
          -585.424,
          -498.944,
          -370.616,
          -243.192,
          -156.522,
          -99.688,
          -68.994,
          -44.494,
          -25.554,
          -17.048,
          -7.028,
          -2.872,
          1.202,
          2.722,
          3.672,
          4.642,
          5.068,
          4.992,
          5.586,
          5.8,
          5.532,
          5.492,
          5.854,
          5.932,
          6,
          5.32,
          5.2,
          5.974,
          4.924,
          5.944,
          5.914,
          5.228,
          6.028,
          6.022,
          5.678,
          5.944,
          5.832,
          5.782,
          6.106,
          5.468,
          6.3,
          6.212,
          5.514,
          5.972,
          6.098,
          6.026,
          6.078,
          6.658,
          6.674,
          5.166,
          5.388,
          6.004,
          6.118,
          5.618,
          6.374,
          6.186,
          6.248,
          5.688,
          6.358,
          6.088,
          6.232,
          5.908,
          5.168,
          5.546,
          5.418,
          5.732,
          6.91,
          6.124,
          6.07,
          5.584,
          6.288,
          5.614,
          5.998,
          6.578,
          5.452,
          5.638,
          6,
          5.75,
          6.65,
          5.896,
          6.196,
          5.908,
          6.128,
          5.642,
          5.95,
          6.664,
          6.418,
          5.65,
          5.564,
          5.846,
          5.35,
          6.012,
          6.174,
          6.054,
          5.982,
          6.024,
          6.146
         ],
         "yaxis": "y"
        }
       ],
       "layout": {
        "autosize": true,
        "legend": {
         "title": {
          "text": "q_value"
         },
         "tracegroupgap": 0
        },
        "margin": {
         "t": 60
        },
        "template": {
         "data": {
          "bar": [
           {
            "error_x": {
             "color": "#2a3f5f"
            },
            "error_y": {
             "color": "#2a3f5f"
            },
            "marker": {
             "line": {
              "color": "#E5ECF6",
              "width": 0.5
             },
             "pattern": {
              "fillmode": "overlay",
              "size": 10,
              "solidity": 0.2
             }
            },
            "type": "bar"
           }
          ],
          "barpolar": [
           {
            "marker": {
             "line": {
              "color": "#E5ECF6",
              "width": 0.5
             },
             "pattern": {
              "fillmode": "overlay",
              "size": 10,
              "solidity": 0.2
             }
            },
            "type": "barpolar"
           }
          ],
          "carpet": [
           {
            "aaxis": {
             "endlinecolor": "#2a3f5f",
             "gridcolor": "white",
             "linecolor": "white",
             "minorgridcolor": "white",
             "startlinecolor": "#2a3f5f"
            },
            "baxis": {
             "endlinecolor": "#2a3f5f",
             "gridcolor": "white",
             "linecolor": "white",
             "minorgridcolor": "white",
             "startlinecolor": "#2a3f5f"
            },
            "type": "carpet"
           }
          ],
          "choropleth": [
           {
            "colorbar": {
             "outlinewidth": 0,
             "ticks": ""
            },
            "type": "choropleth"
           }
          ],
          "contour": [
           {
            "colorbar": {
             "outlinewidth": 0,
             "ticks": ""
            },
            "colorscale": [
             [
              0,
              "#0d0887"
             ],
             [
              0.1111111111111111,
              "#46039f"
             ],
             [
              0.2222222222222222,
              "#7201a8"
             ],
             [
              0.3333333333333333,
              "#9c179e"
             ],
             [
              0.4444444444444444,
              "#bd3786"
             ],
             [
              0.5555555555555556,
              "#d8576b"
             ],
             [
              0.6666666666666666,
              "#ed7953"
             ],
             [
              0.7777777777777778,
              "#fb9f3a"
             ],
             [
              0.8888888888888888,
              "#fdca26"
             ],
             [
              1,
              "#f0f921"
             ]
            ],
            "type": "contour"
           }
          ],
          "contourcarpet": [
           {
            "colorbar": {
             "outlinewidth": 0,
             "ticks": ""
            },
            "type": "contourcarpet"
           }
          ],
          "heatmap": [
           {
            "colorbar": {
             "outlinewidth": 0,
             "ticks": ""
            },
            "colorscale": [
             [
              0,
              "#0d0887"
             ],
             [
              0.1111111111111111,
              "#46039f"
             ],
             [
              0.2222222222222222,
              "#7201a8"
             ],
             [
              0.3333333333333333,
              "#9c179e"
             ],
             [
              0.4444444444444444,
              "#bd3786"
             ],
             [
              0.5555555555555556,
              "#d8576b"
             ],
             [
              0.6666666666666666,
              "#ed7953"
             ],
             [
              0.7777777777777778,
              "#fb9f3a"
             ],
             [
              0.8888888888888888,
              "#fdca26"
             ],
             [
              1,
              "#f0f921"
             ]
            ],
            "type": "heatmap"
           }
          ],
          "heatmapgl": [
           {
            "colorbar": {
             "outlinewidth": 0,
             "ticks": ""
            },
            "colorscale": [
             [
              0,
              "#0d0887"
             ],
             [
              0.1111111111111111,
              "#46039f"
             ],
             [
              0.2222222222222222,
              "#7201a8"
             ],
             [
              0.3333333333333333,
              "#9c179e"
             ],
             [
              0.4444444444444444,
              "#bd3786"
             ],
             [
              0.5555555555555556,
              "#d8576b"
             ],
             [
              0.6666666666666666,
              "#ed7953"
             ],
             [
              0.7777777777777778,
              "#fb9f3a"
             ],
             [
              0.8888888888888888,
              "#fdca26"
             ],
             [
              1,
              "#f0f921"
             ]
            ],
            "type": "heatmapgl"
           }
          ],
          "histogram": [
           {
            "marker": {
             "pattern": {
              "fillmode": "overlay",
              "size": 10,
              "solidity": 0.2
             }
            },
            "type": "histogram"
           }
          ],
          "histogram2d": [
           {
            "colorbar": {
             "outlinewidth": 0,
             "ticks": ""
            },
            "colorscale": [
             [
              0,
              "#0d0887"
             ],
             [
              0.1111111111111111,
              "#46039f"
             ],
             [
              0.2222222222222222,
              "#7201a8"
             ],
             [
              0.3333333333333333,
              "#9c179e"
             ],
             [
              0.4444444444444444,
              "#bd3786"
             ],
             [
              0.5555555555555556,
              "#d8576b"
             ],
             [
              0.6666666666666666,
              "#ed7953"
             ],
             [
              0.7777777777777778,
              "#fb9f3a"
             ],
             [
              0.8888888888888888,
              "#fdca26"
             ],
             [
              1,
              "#f0f921"
             ]
            ],
            "type": "histogram2d"
           }
          ],
          "histogram2dcontour": [
           {
            "colorbar": {
             "outlinewidth": 0,
             "ticks": ""
            },
            "colorscale": [
             [
              0,
              "#0d0887"
             ],
             [
              0.1111111111111111,
              "#46039f"
             ],
             [
              0.2222222222222222,
              "#7201a8"
             ],
             [
              0.3333333333333333,
              "#9c179e"
             ],
             [
              0.4444444444444444,
              "#bd3786"
             ],
             [
              0.5555555555555556,
              "#d8576b"
             ],
             [
              0.6666666666666666,
              "#ed7953"
             ],
             [
              0.7777777777777778,
              "#fb9f3a"
             ],
             [
              0.8888888888888888,
              "#fdca26"
             ],
             [
              1,
              "#f0f921"
             ]
            ],
            "type": "histogram2dcontour"
           }
          ],
          "mesh3d": [
           {
            "colorbar": {
             "outlinewidth": 0,
             "ticks": ""
            },
            "type": "mesh3d"
           }
          ],
          "parcoords": [
           {
            "line": {
             "colorbar": {
              "outlinewidth": 0,
              "ticks": ""
             }
            },
            "type": "parcoords"
           }
          ],
          "pie": [
           {
            "automargin": true,
            "type": "pie"
           }
          ],
          "scatter": [
           {
            "fillpattern": {
             "fillmode": "overlay",
             "size": 10,
             "solidity": 0.2
            },
            "type": "scatter"
           }
          ],
          "scatter3d": [
           {
            "line": {
             "colorbar": {
              "outlinewidth": 0,
              "ticks": ""
             }
            },
            "marker": {
             "colorbar": {
              "outlinewidth": 0,
              "ticks": ""
             }
            },
            "type": "scatter3d"
           }
          ],
          "scattercarpet": [
           {
            "marker": {
             "colorbar": {
              "outlinewidth": 0,
              "ticks": ""
             }
            },
            "type": "scattercarpet"
           }
          ],
          "scattergeo": [
           {
            "marker": {
             "colorbar": {
              "outlinewidth": 0,
              "ticks": ""
             }
            },
            "type": "scattergeo"
           }
          ],
          "scattergl": [
           {
            "marker": {
             "colorbar": {
              "outlinewidth": 0,
              "ticks": ""
             }
            },
            "type": "scattergl"
           }
          ],
          "scattermapbox": [
           {
            "marker": {
             "colorbar": {
              "outlinewidth": 0,
              "ticks": ""
             }
            },
            "type": "scattermapbox"
           }
          ],
          "scatterpolar": [
           {
            "marker": {
             "colorbar": {
              "outlinewidth": 0,
              "ticks": ""
             }
            },
            "type": "scatterpolar"
           }
          ],
          "scatterpolargl": [
           {
            "marker": {
             "colorbar": {
              "outlinewidth": 0,
              "ticks": ""
             }
            },
            "type": "scatterpolargl"
           }
          ],
          "scatterternary": [
           {
            "marker": {
             "colorbar": {
              "outlinewidth": 0,
              "ticks": ""
             }
            },
            "type": "scatterternary"
           }
          ],
          "surface": [
           {
            "colorbar": {
             "outlinewidth": 0,
             "ticks": ""
            },
            "colorscale": [
             [
              0,
              "#0d0887"
             ],
             [
              0.1111111111111111,
              "#46039f"
             ],
             [
              0.2222222222222222,
              "#7201a8"
             ],
             [
              0.3333333333333333,
              "#9c179e"
             ],
             [
              0.4444444444444444,
              "#bd3786"
             ],
             [
              0.5555555555555556,
              "#d8576b"
             ],
             [
              0.6666666666666666,
              "#ed7953"
             ],
             [
              0.7777777777777778,
              "#fb9f3a"
             ],
             [
              0.8888888888888888,
              "#fdca26"
             ],
             [
              1,
              "#f0f921"
             ]
            ],
            "type": "surface"
           }
          ],
          "table": [
           {
            "cells": {
             "fill": {
              "color": "#EBF0F8"
             },
             "line": {
              "color": "white"
             }
            },
            "header": {
             "fill": {
              "color": "#C8D4E3"
             },
             "line": {
              "color": "white"
             }
            },
            "type": "table"
           }
          ]
         },
         "layout": {
          "annotationdefaults": {
           "arrowcolor": "#2a3f5f",
           "arrowhead": 0,
           "arrowwidth": 1
          },
          "autotypenumbers": "strict",
          "coloraxis": {
           "colorbar": {
            "outlinewidth": 0,
            "ticks": ""
           }
          },
          "colorscale": {
           "diverging": [
            [
             0,
             "#8e0152"
            ],
            [
             0.1,
             "#c51b7d"
            ],
            [
             0.2,
             "#de77ae"
            ],
            [
             0.3,
             "#f1b6da"
            ],
            [
             0.4,
             "#fde0ef"
            ],
            [
             0.5,
             "#f7f7f7"
            ],
            [
             0.6,
             "#e6f5d0"
            ],
            [
             0.7,
             "#b8e186"
            ],
            [
             0.8,
             "#7fbc41"
            ],
            [
             0.9,
             "#4d9221"
            ],
            [
             1,
             "#276419"
            ]
           ],
           "sequential": [
            [
             0,
             "#0d0887"
            ],
            [
             0.1111111111111111,
             "#46039f"
            ],
            [
             0.2222222222222222,
             "#7201a8"
            ],
            [
             0.3333333333333333,
             "#9c179e"
            ],
            [
             0.4444444444444444,
             "#bd3786"
            ],
            [
             0.5555555555555556,
             "#d8576b"
            ],
            [
             0.6666666666666666,
             "#ed7953"
            ],
            [
             0.7777777777777778,
             "#fb9f3a"
            ],
            [
             0.8888888888888888,
             "#fdca26"
            ],
            [
             1,
             "#f0f921"
            ]
           ],
           "sequentialminus": [
            [
             0,
             "#0d0887"
            ],
            [
             0.1111111111111111,
             "#46039f"
            ],
            [
             0.2222222222222222,
             "#7201a8"
            ],
            [
             0.3333333333333333,
             "#9c179e"
            ],
            [
             0.4444444444444444,
             "#bd3786"
            ],
            [
             0.5555555555555556,
             "#d8576b"
            ],
            [
             0.6666666666666666,
             "#ed7953"
            ],
            [
             0.7777777777777778,
             "#fb9f3a"
            ],
            [
             0.8888888888888888,
             "#fdca26"
            ],
            [
             1,
             "#f0f921"
            ]
           ]
          },
          "colorway": [
           "#636efa",
           "#EF553B",
           "#00cc96",
           "#ab63fa",
           "#FFA15A",
           "#19d3f3",
           "#FF6692",
           "#B6E880",
           "#FF97FF",
           "#FECB52"
          ],
          "font": {
           "color": "#2a3f5f"
          },
          "geo": {
           "bgcolor": "white",
           "lakecolor": "white",
           "landcolor": "#E5ECF6",
           "showlakes": true,
           "showland": true,
           "subunitcolor": "white"
          },
          "hoverlabel": {
           "align": "left"
          },
          "hovermode": "closest",
          "mapbox": {
           "style": "light"
          },
          "paper_bgcolor": "white",
          "plot_bgcolor": "#E5ECF6",
          "polar": {
           "angularaxis": {
            "gridcolor": "white",
            "linecolor": "white",
            "ticks": ""
           },
           "bgcolor": "#E5ECF6",
           "radialaxis": {
            "gridcolor": "white",
            "linecolor": "white",
            "ticks": ""
           }
          },
          "scene": {
           "xaxis": {
            "backgroundcolor": "#E5ECF6",
            "gridcolor": "white",
            "gridwidth": 2,
            "linecolor": "white",
            "showbackground": true,
            "ticks": "",
            "zerolinecolor": "white"
           },
           "yaxis": {
            "backgroundcolor": "#E5ECF6",
            "gridcolor": "white",
            "gridwidth": 2,
            "linecolor": "white",
            "showbackground": true,
            "ticks": "",
            "zerolinecolor": "white"
           },
           "zaxis": {
            "backgroundcolor": "#E5ECF6",
            "gridcolor": "white",
            "gridwidth": 2,
            "linecolor": "white",
            "showbackground": true,
            "ticks": "",
            "zerolinecolor": "white"
           }
          },
          "shapedefaults": {
           "line": {
            "color": "#2a3f5f"
           }
          },
          "ternary": {
           "aaxis": {
            "gridcolor": "white",
            "linecolor": "white",
            "ticks": ""
           },
           "baxis": {
            "gridcolor": "white",
            "linecolor": "white",
            "ticks": ""
           },
           "bgcolor": "#E5ECF6",
           "caxis": {
            "gridcolor": "white",
            "linecolor": "white",
            "ticks": ""
           }
          },
          "title": {
           "x": 0.05
          },
          "xaxis": {
           "automargin": true,
           "gridcolor": "white",
           "linecolor": "white",
           "ticks": "",
           "title": {
            "standoff": 15
           },
           "zerolinecolor": "white",
           "zerolinewidth": 2
          },
          "yaxis": {
           "automargin": true,
           "gridcolor": "white",
           "linecolor": "white",
           "ticks": "",
           "title": {
            "standoff": 15
           },
           "zerolinecolor": "white",
           "zerolinewidth": 2
          }
         }
        },
        "title": {
         "text": "Влияние количества траекторий на среднюю награду"
        },
        "xaxis": {
         "anchor": "y",
         "autorange": true,
         "domain": [
          0,
          1
         ],
         "range": [
          0,
          99
         ],
         "title": {
          "text": "Итерация"
         },
         "type": "linear"
        },
        "yaxis": {
         "anchor": "x",
         "autorange": true,
         "domain": [
          0,
          1
         ],
         "range": [
          -821.5192222222222,
          51.54522222222223
         ],
         "title": {
          "text": "Средняя награда"
         },
         "type": "linear"
        }
       }
      },
      "image/png": "[encoded data removed]"
     },
     "metadata": {},
     "output_type": "display_data"
    }
   ],
   "source": [
    "df_grpd = df2.groupby(['n_trajectories', 'iteration', 'l_value', 'q_value']).agg({'reward': 'mean'}).reset_index()\n",
    "fig = px.line(df_grpd[(df_grpd['l_value'] == 0.5) & (df_grpd['n_trajectories'] == 500)], \n",
    "              x='iteration', y='reward', color='q_value')\n",
    "fig.update_layout(\n",
    "    title = 'Влияние q-value на среднюю награду',\n",
    "    xaxis_title = 'Итерация',\n",
    "    yaxis_title = 'Средняя награда',\n",
    ")"
   ]
  },
  {
   "cell_type": "markdown",
   "id": "bd6e72cc",
   "metadata": {},
   "source": [
    "меньший q_value, как и в обучении без сглаживания, показывает лучшие результаты "
   ]
  },
  {
   "cell_type": "code",
   "execution_count": 115,
   "id": "b3e6d8ab",
   "metadata": {},
   "outputs": [
    {
     "name": "stdout",
     "output_type": "stream",
     "text": [
      "n_trajectories=1000 l_val=2 q_val=0.5\n",
      "iteration: 0/100\n",
      "iteration: 10/100\n",
      "iteration: 20/100\n",
      "iteration: 30/100\n",
      "iteration: 40/100\n",
      "iteration: 50/100\n",
      "iteration: 60/100\n",
      "iteration: 70/100\n",
      "iteration: 80/100\n",
      "iteration: 90/100\n"
     ]
    }
   ],
   "source": [
    "laplace_rewards = []\n",
    "smoothing = 'laplace'\n",
    "for n_trajectories in [300, 500, 1000]:\n",
    "    for l_val in [0.1, 0.5, 1, 2]:\n",
    "        for q_val in [0.5]:\n",
    "            print(f'n_trajectories={n_trajectories} l_val={l_val} q_val={q_val}')\n",
    "            agent_params['l_value'] = l_val\n",
    "            agent_params['smoothing_type'] = smoothing\n",
    "            fit_params['q'] = q_val\n",
    "            fit_params['n_trajectories'] = n_trajectories\n",
    "            \n",
    "            env = gym.make('Taxi-v3')\n",
    "            agent = CrossEntropyAgent(**agent_params)\n",
    "\n",
    "            fit_rewards = fit(env, agent, **fit_params)\n",
    "            reward_records = [{'smoothing': smoothing, 'l_value': l_val, 'q_value': q_val, 'n_trajectories': n_trajectories,\n",
    "                            'iteration': i, 'reward': r} for i, r in enumerate(fit_rewards)]\n",
    "            laplace_rewards.extend(reward_records)\n",
    "\n",
    "            display.clear_output(wait=True)"
   ]
  },
  {
   "cell_type": "code",
   "execution_count": 116,
   "id": "b9eabbd3",
   "metadata": {},
   "outputs": [
    {
     "data": {
      "application/vnd.plotly.v1+json": {
       "config": {
        "plotlyServerURL": "https://plot.ly"
       },
       "data": [
        {
         "hovertemplate": "n_trajectories=300<br>l_value=0.1<br>iteration=%{x}<br>reward=%{y}<extra></extra>",
         "legendgroup": "300",
         "line": {
          "color": "#636efa",
          "dash": "solid"
         },
         "marker": {
          "symbol": "circle"
         },
         "mode": "lines",
         "name": "300",
         "showlegend": true,
         "type": "scattergl",
         "x": [
          0,
          1,
          2,
          3,
          4,
          5,
          6,
          7,
          8,
          9,
          10,
          11,
          12,
          13,
          14,
          15,
          16,
          17,
          18,
          19,
          20,
          21,
          22,
          23,
          24,
          25,
          26,
          27,
          28,
          29,
          30,
          31,
          32,
          33,
          34,
          35,
          36,
          37,
          38,
          39,
          40,
          41,
          42,
          43,
          44,
          45,
          46,
          47,
          48,
          49,
          50,
          51,
          52,
          53,
          54,
          55,
          56,
          57,
          58,
          59,
          60,
          61,
          62,
          63,
          64,
          65,
          66,
          67,
          68,
          69,
          70,
          71,
          72,
          73,
          74,
          75,
          76,
          77,
          78,
          79,
          80,
          81,
          82,
          83,
          84,
          85,
          86,
          87,
          88,
          89,
          90,
          91,
          92,
          93,
          94,
          95,
          96,
          97,
          98,
          99
         ],
         "xaxis": "x",
         "y": [
          -772.0566666666666,
          -707.4566666666667,
          -638.37,
          -540.84,
          -451.63,
          -328.00666666666666,
          -246.76333333333332,
          -177.47,
          -138.70333333333335,
          -106.37,
          -71.31,
          -63.63,
          -60.25333333333333,
          -57.57,
          -47.31666666666667,
          -38.89,
          -39.24,
          -37.11333333333334,
          -37.60666666666667,
          -50.10666666666667,
          -41.25333333333333,
          -34.723333333333336,
          -30.263333333333332,
          -39.61666666666667,
          -48.37,
          -39.63333333333333,
          -31.39,
          -29.163333333333334,
          -27.973333333333333,
          -41.63666666666666,
          -36.34,
          -38.58,
          -32.973333333333336,
          -32.083333333333336,
          -31.173333333333332,
          -47.27,
          -25.28,
          -24.623333333333335,
          -39.13,
          -47.74,
          -53.79333333333334,
          -34.95666666666666,
          -27.33,
          -27.24,
          -40.46,
          -32.06666666666667,
          -32.56666666666667,
          -28.466666666666665,
          -35.79666666666667,
          -26.126666666666665,
          -30.326666666666668,
          -38.57333333333333,
          -33.00333333333333,
          -35.32,
          -28.97,
          -42.04,
          -38.43,
          -31.413333333333334,
          -34.75666666666667,
          -30.776666666666667,
          -39.57333333333333,
          -29.85,
          -20.736666666666668,
          -21.773333333333333,
          -13.08,
          -23.653333333333332,
          -23.263333333333332,
          -24.253333333333334,
          -10.213333333333333,
          -8.226666666666667,
          -18.233333333333334,
          -12.96,
          -7.88,
          -13.14,
          -11.513333333333334,
          -7.1866666666666665,
          -7.79,
          -6.443333333333333,
          -2.11,
          -4.636666666666667,
          -3.493333333333333,
          -2.1966666666666668,
          -3.8,
          -2.1466666666666665,
          -3.04,
          -1.8933333333333333,
          -2.36,
          -1.8733333333333333,
          -1.1,
          0.47333333333333333,
          -0.9233333333333333,
          -2.1033333333333335,
          -1.6333333333333333,
          -1.3066666666666666,
          -1.3166666666666667,
          -0.6733333333333333,
          -1.5366666666666666,
          -0.5533333333333333,
          -0.6166666666666667,
          -0.4633333333333333
         ],
         "yaxis": "y"
        },
        {
         "hovertemplate": "n_trajectories=300<br>l_value=0.5<br>iteration=%{x}<br>reward=%{y}<extra></extra>",
         "legendgroup": "300",
         "line": {
          "color": "#636efa",
          "dash": "solid"
         },
         "marker": {
          "symbol": "circle"
         },
         "mode": "lines",
         "name": "300",
         "showlegend": false,
         "type": "scattergl",
         "x": [
          0,
          1,
          2,
          3,
          4,
          5,
          6,
          7,
          8,
          9,
          10,
          11,
          12,
          13,
          14,
          15,
          16,
          17,
          18,
          19,
          20,
          21,
          22,
          23,
          24,
          25,
          26,
          27,
          28,
          29,
          30,
          31,
          32,
          33,
          34,
          35,
          36,
          37,
          38,
          39,
          40,
          41,
          42,
          43,
          44,
          45,
          46,
          47,
          48,
          49,
          50,
          51,
          52,
          53,
          54,
          55,
          56,
          57,
          58,
          59,
          60,
          61,
          62,
          63,
          64,
          65,
          66,
          67,
          68,
          69,
          70,
          71,
          72,
          73,
          74,
          75,
          76,
          77,
          78,
          79,
          80,
          81,
          82,
          83,
          84,
          85,
          86,
          87,
          88,
          89,
          90,
          91,
          92,
          93,
          94,
          95,
          96,
          97,
          98,
          99
         ],
         "xaxis": "x",
         "y": [
          -760.8033333333333,
          -706.3566666666667,
          -645.7433333333333,
          -582.2166666666667,
          -501.7966666666667,
          -421.9033333333333,
          -321.6933333333333,
          -255.62333333333333,
          -197.79666666666665,
          -188.58,
          -148.19666666666666,
          -132.13333333333333,
          -114.61333333333333,
          -105.15,
          -100.59,
          -97.74666666666667,
          -90.8,
          -93.26333333333334,
          -86.01,
          -82.80333333333333,
          -79.44333333333333,
          -81.51333333333334,
          -82.55333333333333,
          -82.74,
          -78.47666666666667,
          -82.16,
          -75.19666666666667,
          -74.50333333333333,
          -80.35666666666667,
          -79.60333333333334,
          -89.01666666666667,
          -92.86666666666666,
          -82.27,
          -82.82333333333334,
          -81.04,
          -81.04666666666667,
          -80.32333333333334,
          -76.71666666666667,
          -80.64333333333333,
          -70.33,
          -69.04,
          -71.13333333333334,
          -63.263333333333335,
          -66.76666666666667,
          -68.96333333333334,
          -67.37666666666667,
          -73.29,
          -73.68,
          -72.38,
          -79.35333333333334,
          -75.61333333333333,
          -74.49333333333334,
          -72.86,
          -72.48666666666666,
          -68.84333333333333,
          -77.67666666666666,
          -69.81,
          -69.36,
          -68.23333333333333,
          -67.76,
          -82.75666666666666,
          -71.22,
          -66.07333333333334,
          -79.81333333333333,
          -72.74333333333334,
          -78.74666666666667,
          -75.82666666666667,
          -78.35,
          -66.14666666666666,
          -77.91,
          -70.60333333333334,
          -79.89666666666666,
          -73.09,
          -69.53666666666666,
          -70.68333333333334,
          -69.80333333333333,
          -74.32666666666667,
          -75.21,
          -76.56333333333333,
          -75.79666666666667,
          -77.25,
          -68.69,
          -67.93666666666667,
          -88.08666666666667,
          -83.05,
          -81.20333333333333,
          -83.36,
          -70.8,
          -88.70333333333333,
          -75.96,
          -82.17333333333333,
          -78.86666666666666,
          -76.05333333333333,
          -73.61333333333333,
          -71.11666666666666,
          -72.51666666666667,
          -81.89333333333333,
          -78.19666666666667,
          -81.49333333333334,
          -86.72666666666667
         ],
         "yaxis": "y"
        },
        {
         "hovertemplate": "n_trajectories=300<br>l_value=1.0<br>iteration=%{x}<br>reward=%{y}<extra></extra>",
         "legendgroup": "300",
         "line": {
          "color": "#636efa",
          "dash": "solid"
         },
         "marker": {
          "symbol": "circle"
         },
         "mode": "lines",
         "name": "300",
         "showlegend": false,
         "type": "scattergl",
         "x": [
          0,
          1,
          2,
          3,
          4,
          5,
          6,
          7,
          8,
          9,
          10,
          11,
          12,
          13,
          14,
          15,
          16,
          17,
          18,
          19,
          20,
          21,
          22,
          23,
          24,
          25,
          26,
          27,
          28,
          29,
          30,
          31,
          32,
          33,
          34,
          35,
          36,
          37,
          38,
          39,
          40,
          41,
          42,
          43,
          44,
          45,
          46,
          47,
          48,
          49,
          50,
          51,
          52,
          53,
          54,
          55,
          56,
          57,
          58,
          59,
          60,
          61,
          62,
          63,
          64,
          65,
          66,
          67,
          68,
          69,
          70,
          71,
          72,
          73,
          74,
          75,
          76,
          77,
          78,
          79,
          80,
          81,
          82,
          83,
          84,
          85,
          86,
          87,
          88,
          89,
          90,
          91,
          92,
          93,
          94,
          95,
          96,
          97,
          98,
          99
         ],
         "xaxis": "x",
         "y": [
          -765.5966666666667,
          -708.87,
          -642.0366666666666,
          -559.57,
          -526.6,
          -449.7033333333333,
          -395.62,
          -336.16333333333336,
          -280.4166666666667,
          -242.28333333333333,
          -217.14666666666668,
          -205.11666666666667,
          -217.11,
          -230.05,
          -181.71333333333334,
          -185.42,
          -198.39333333333335,
          -188.69333333333333,
          -203.81333333333333,
          -179.57666666666665,
          -195.41666666666666,
          -187.69666666666666,
          -175.95,
          -178.47,
          -170.67,
          -156.63,
          -155.52333333333334,
          -178.72666666666666,
          -157.5,
          -183.33333333333334,
          -158.32333333333332,
          -170.89,
          -152.51,
          -168.88333333333333,
          -150.05333333333334,
          -173.87,
          -189.57666666666665,
          -186.99666666666667,
          -183.63666666666666,
          -183.09666666666666,
          -164.05,
          -171.17333333333335,
          -176.72333333333333,
          -160.93333333333334,
          -177.58,
          -168.48,
          -177.38666666666666,
          -182.64,
          -161.19,
          -178.72333333333333,
          -166.56333333333333,
          -168.89333333333335,
          -183.14666666666668,
          -182.26333333333332,
          -172.83,
          -183.77,
          -175.33333333333334,
          -185.29333333333332,
          -190.06666666666666,
          -174.79,
          -167.69333333333333,
          -165.76666666666668,
          -165.45666666666668,
          -179.04666666666665,
          -174.51,
          -183.49333333333334,
          -173.24,
          -188.09333333333333,
          -177.89666666666668,
          -177.40666666666667,
          -184.49,
          -171.80333333333334,
          -184.44666666666666,
          -190.67333333333335,
          -173.15,
          -193.2,
          -198.71333333333334,
          -181.62,
          -189.07333333333332,
          -171.67666666666668,
          -182.2,
          -195.98,
          -204.15,
          -198.23333333333332,
          -195.80666666666667,
          -183.10666666666665,
          -182.58333333333334,
          -166.67666666666668,
          -168.73,
          -175.89,
          -160.70666666666668,
          -170.57333333333332,
          -192.28,
          -177.33666666666667,
          -172.13333333333333,
          -181.95,
          -184.1,
          -177.79,
          -173.33666666666667,
          -154.47
         ],
         "yaxis": "y"
        },
        {
         "hovertemplate": "n_trajectories=300<br>l_value=2.0<br>iteration=%{x}<br>reward=%{y}<extra></extra>",
         "legendgroup": "300",
         "line": {
          "color": "#636efa",
          "dash": "solid"
         },
         "marker": {
          "symbol": "circle"
         },
         "mode": "lines",
         "name": "300",
         "showlegend": false,
         "type": "scattergl",
         "x": [
          0,
          1,
          2,
          3,
          4,
          5,
          6,
          7,
          8,
          9,
          10,
          11,
          12,
          13,
          14,
          15,
          16,
          17,
          18,
          19,
          20,
          21,
          22,
          23,
          24,
          25,
          26,
          27,
          28,
          29,
          30,
          31,
          32,
          33,
          34,
          35,
          36,
          37,
          38,
          39,
          40,
          41,
          42,
          43,
          44,
          45,
          46,
          47,
          48,
          49,
          50,
          51,
          52,
          53,
          54,
          55,
          56,
          57,
          58,
          59,
          60,
          61,
          62,
          63,
          64,
          65,
          66,
          67,
          68,
          69,
          70,
          71,
          72,
          73,
          74,
          75,
          76,
          77,
          78,
          79,
          80,
          81,
          82,
          83,
          84,
          85,
          86,
          87,
          88,
          89,
          90,
          91,
          92,
          93,
          94,
          95,
          96,
          97,
          98,
          99
         ],
         "xaxis": "x",
         "y": [
          -761.96,
          -712.7266666666667,
          -659.8966666666666,
          -614.1366666666667,
          -576.2333333333333,
          -511.13,
          -466.3666666666667,
          -444.01,
          -394.94,
          -371.28333333333336,
          -389.56333333333333,
          -362.5466666666667,
          -359.1766666666667,
          -339.2033333333333,
          -333.04333333333335,
          -349.22333333333336,
          -312.81333333333333,
          -313.28333333333336,
          -311.16,
          -324.81,
          -339.6566666666667,
          -323.76,
          -332.87666666666667,
          -334.41333333333336,
          -334.25333333333333,
          -341.18333333333334,
          -318.74,
          -365.64,
          -344.5133333333333,
          -368.62,
          -336.93666666666667,
          -313.53,
          -307.23333333333335,
          -325.8333333333333,
          -316.92,
          -312.28333333333336,
          -319.6666666666667,
          -321.83,
          -330.50333333333333,
          -305.09,
          -312.43333333333334,
          -347.42,
          -338.7133333333333,
          -328.68333333333334,
          -338.95666666666665,
          -345.21,
          -333.82,
          -335.4866666666667,
          -326.97333333333336,
          -348.2,
          -321.1166666666667,
          -329.7733333333333,
          -350.93,
          -334.74333333333334,
          -324.72333333333336,
          -332.5833333333333,
          -336.2966666666667,
          -291.96666666666664,
          -328.2733333333333,
          -336.9266666666667,
          -305.0833333333333,
          -313.44,
          -295.97333333333336,
          -294.1433333333333,
          -294.96,
          -326.83,
          -302.70666666666665,
          -320.93,
          -318.14,
          -328.18333333333334,
          -346.7366666666667,
          -320.18666666666667,
          -336.06333333333333,
          -352.42333333333335,
          -322.5366666666667,
          -317.31666666666666,
          -341.06666666666666,
          -343.72333333333336,
          -317.0966666666667,
          -297.5133333333333,
          -318.23,
          -302.67333333333335,
          -314.24,
          -318.78333333333336,
          -322.73333333333335,
          -314.17333333333335,
          -343.97333333333336,
          -318.98,
          -311.75666666666666,
          -316.18333333333334,
          -335.24,
          -310.8066666666667,
          -332.45666666666665,
          -337.2966666666667,
          -320.95,
          -318.42,
          -309.87666666666667,
          -320.86333333333334,
          -326.39,
          -338.4533333333333
         ],
         "yaxis": "y"
        },
        {
         "hovertemplate": "n_trajectories=500<br>l_value=0.1<br>iteration=%{x}<br>reward=%{y}<extra></extra>",
         "legendgroup": "500",
         "line": {
          "color": "#EF553B",
          "dash": "solid"
         },
         "marker": {
          "symbol": "circle"
         },
         "mode": "lines",
         "name": "500",
         "showlegend": true,
         "type": "scattergl",
         "x": [
          0,
          1,
          2,
          3,
          4,
          5,
          6,
          7,
          8,
          9,
          10,
          11,
          12,
          13,
          14,
          15,
          16,
          17,
          18,
          19,
          20,
          21,
          22,
          23,
          24,
          25,
          26,
          27,
          28,
          29,
          30,
          31,
          32,
          33,
          34,
          35,
          36,
          37,
          38,
          39,
          40,
          41,
          42,
          43,
          44,
          45,
          46,
          47,
          48,
          49,
          50,
          51,
          52,
          53,
          54,
          55,
          56,
          57,
          58,
          59,
          60,
          61,
          62,
          63,
          64,
          65,
          66,
          67,
          68,
          69,
          70,
          71,
          72,
          73,
          74,
          75,
          76,
          77,
          78,
          79,
          80,
          81,
          82,
          83,
          84,
          85,
          86,
          87,
          88,
          89,
          90,
          91,
          92,
          93,
          94,
          95,
          96,
          97,
          98,
          99
         ],
         "xaxis": "x",
         "y": [
          -763.054,
          -697.37,
          -624.152,
          -544.992,
          -450.852,
          -336.882,
          -203.234,
          -122.202,
          -72.392,
          -45.142,
          -27.388,
          -14.418,
          -8.626,
          -4.52,
          -2.06,
          -2.184,
          -1.412,
          -0.054,
          -0.072,
          0.328,
          -0.128,
          0.14,
          0.606,
          1.144,
          1.212,
          2.874,
          0.82,
          2.182,
          2.17,
          1.252,
          2.286,
          0.124,
          0.644,
          0.864,
          0.048,
          0.83,
          0.634,
          0.892,
          0.488,
          1.43,
          1.916,
          0.238,
          1.63,
          0.492,
          1.952,
          2.034,
          1.114,
          0.934,
          1.898,
          1.46,
          0.778,
          0.536,
          1.286,
          1.126,
          1.698,
          1.362,
          1.1,
          1.648,
          1.966,
          1.346,
          1.618,
          2.594,
          -0.424,
          2.14,
          0.996,
          1.96,
          0.954,
          0.876,
          0.162,
          1.998,
          0.944,
          1.632,
          1.268,
          0.448,
          1.824,
          0.372,
          2.236,
          0.626,
          0.648,
          1.094,
          1.502,
          1.164,
          1.056,
          1.634,
          1.938,
          0.458,
          0.398,
          2.288,
          1.51,
          1.018,
          1.82,
          1.336,
          1.238,
          0.598,
          1.126,
          1.7,
          0.412,
          1.364,
          0.906,
          1.906
         ],
         "yaxis": "y"
        },
        {
         "hovertemplate": "n_trajectories=500<br>l_value=0.5<br>iteration=%{x}<br>reward=%{y}<extra></extra>",
         "legendgroup": "500",
         "line": {
          "color": "#EF553B",
          "dash": "solid"
         },
         "marker": {
          "symbol": "circle"
         },
         "mode": "lines",
         "name": "500",
         "showlegend": false,
         "type": "scattergl",
         "x": [
          0,
          1,
          2,
          3,
          4,
          5,
          6,
          7,
          8,
          9,
          10,
          11,
          12,
          13,
          14,
          15,
          16,
          17,
          18,
          19,
          20,
          21,
          22,
          23,
          24,
          25,
          26,
          27,
          28,
          29,
          30,
          31,
          32,
          33,
          34,
          35,
          36,
          37,
          38,
          39,
          40,
          41,
          42,
          43,
          44,
          45,
          46,
          47,
          48,
          49,
          50,
          51,
          52,
          53,
          54,
          55,
          56,
          57,
          58,
          59,
          60,
          61,
          62,
          63,
          64,
          65,
          66,
          67,
          68,
          69,
          70,
          71,
          72,
          73,
          74,
          75,
          76,
          77,
          78,
          79,
          80,
          81,
          82,
          83,
          84,
          85,
          86,
          87,
          88,
          89,
          90,
          91,
          92,
          93,
          94,
          95,
          96,
          97,
          98,
          99
         ],
         "xaxis": "x",
         "y": [
          -774.196,
          -723.938,
          -667.08,
          -605.27,
          -521.392,
          -440.082,
          -325.426,
          -237.238,
          -168.028,
          -126.466,
          -99.176,
          -85.63,
          -68.784,
          -55.78,
          -51.798,
          -42.518,
          -41.66,
          -39.384,
          -39.038,
          -36.53,
          -36.952,
          -41.462,
          -37.052,
          -34.836,
          -37.046,
          -34.522,
          -34.606,
          -35.38,
          -40.772,
          -37.038,
          -39.426,
          -40.488,
          -38.016,
          -35.088,
          -37.488,
          -36.29,
          -36.862,
          -39.454,
          -37.122,
          -37.702,
          -41.824,
          -38.586,
          -34.136,
          -38.164,
          -34.19,
          -41.552,
          -36.316,
          -45.888,
          -41.584,
          -37.286,
          -40.59,
          -37.66,
          -34.982,
          -42.916,
          -38.08,
          -41.048,
          -39.806,
          -39.548,
          -35.828,
          -37.44,
          -30.62,
          -32.344,
          -38.052,
          -35.26,
          -35.698,
          -37.672,
          -36.296,
          -33.104,
          -35.966,
          -32.79,
          -36.342,
          -38.916,
          -38.776,
          -33.86,
          -34.682,
          -33.768,
          -34.698,
          -35.668,
          -36.902,
          -38.652,
          -39.698,
          -37.49,
          -39.312,
          -35.302,
          -37.782,
          -36.416,
          -33.178,
          -38.244,
          -35.008,
          -38.828,
          -40,
          -37.714,
          -40.042,
          -40.094,
          -35.26,
          -37.024,
          -40.574,
          -41.38,
          -32.168,
          -34.66
         ],
         "yaxis": "y"
        },
        {
         "hovertemplate": "n_trajectories=500<br>l_value=1.0<br>iteration=%{x}<br>reward=%{y}<extra></extra>",
         "legendgroup": "500",
         "line": {
          "color": "#EF553B",
          "dash": "solid"
         },
         "marker": {
          "symbol": "circle"
         },
         "mode": "lines",
         "name": "500",
         "showlegend": false,
         "type": "scattergl",
         "x": [
          0,
          1,
          2,
          3,
          4,
          5,
          6,
          7,
          8,
          9,
          10,
          11,
          12,
          13,
          14,
          15,
          16,
          17,
          18,
          19,
          20,
          21,
          22,
          23,
          24,
          25,
          26,
          27,
          28,
          29,
          30,
          31,
          32,
          33,
          34,
          35,
          36,
          37,
          38,
          39,
          40,
          41,
          42,
          43,
          44,
          45,
          46,
          47,
          48,
          49,
          50,
          51,
          52,
          53,
          54,
          55,
          56,
          57,
          58,
          59,
          60,
          61,
          62,
          63,
          64,
          65,
          66,
          67,
          68,
          69,
          70,
          71,
          72,
          73,
          74,
          75,
          76,
          77,
          78,
          79,
          80,
          81,
          82,
          83,
          84,
          85,
          86,
          87,
          88,
          89,
          90,
          91,
          92,
          93,
          94,
          95,
          96,
          97,
          98,
          99
         ],
         "xaxis": "x",
         "y": [
          -772.678,
          -711.918,
          -644.544,
          -577.144,
          -509.302,
          -428.356,
          -361.646,
          -275.422,
          -209.972,
          -167.624,
          -148.646,
          -141.454,
          -128.184,
          -131.85,
          -126.792,
          -115.458,
          -117.722,
          -125.152,
          -116.632,
          -105.594,
          -88.328,
          -102.37,
          -103.722,
          -96.598,
          -107.428,
          -107.412,
          -93.068,
          -95.214,
          -91.55,
          -98.554,
          -96.156,
          -96.2,
          -94.062,
          -100.084,
          -105.93,
          -104.774,
          -104.424,
          -104.062,
          -104.324,
          -109.842,
          -96.124,
          -105.09,
          -105.708,
          -94.486,
          -103.432,
          -101.278,
          -101.2,
          -99.95,
          -107.428,
          -97.882,
          -102.478,
          -110.154,
          -100.494,
          -99.166,
          -107.24,
          -93.362,
          -94.31,
          -101.048,
          -100.166,
          -102.738,
          -109.128,
          -91.612,
          -99.162,
          -94.842,
          -97.136,
          -91.414,
          -96.076,
          -96.398,
          -100.3,
          -100.946,
          -106.786,
          -101.922,
          -109.152,
          -95.728,
          -99.042,
          -102.474,
          -100.182,
          -96.154,
          -96.862,
          -98.518,
          -101.14,
          -97.688,
          -104.248,
          -95.094,
          -94.976,
          -95.446,
          -98.994,
          -101.064,
          -90.324,
          -98.846,
          -93.108,
          -101.72,
          -86.768,
          -84.31,
          -97.624,
          -107.55,
          -115.874,
          -104.56,
          -114.018,
          -104.94
         ],
         "yaxis": "y"
        },
        {
         "hovertemplate": "n_trajectories=500<br>l_value=2.0<br>iteration=%{x}<br>reward=%{y}<extra></extra>",
         "legendgroup": "500",
         "line": {
          "color": "#EF553B",
          "dash": "solid"
         },
         "marker": {
          "symbol": "circle"
         },
         "mode": "lines",
         "name": "500",
         "showlegend": false,
         "type": "scattergl",
         "x": [
          0,
          1,
          2,
          3,
          4,
          5,
          6,
          7,
          8,
          9,
          10,
          11,
          12,
          13,
          14,
          15,
          16,
          17,
          18,
          19,
          20,
          21,
          22,
          23,
          24,
          25,
          26,
          27,
          28,
          29,
          30,
          31,
          32,
          33,
          34,
          35,
          36,
          37,
          38,
          39,
          40,
          41,
          42,
          43,
          44,
          45,
          46,
          47,
          48,
          49,
          50,
          51,
          52,
          53,
          54,
          55,
          56,
          57,
          58,
          59,
          60,
          61,
          62,
          63,
          64,
          65,
          66,
          67,
          68,
          69,
          70,
          71,
          72,
          73,
          74,
          75,
          76,
          77,
          78,
          79,
          80,
          81,
          82,
          83,
          84,
          85,
          86,
          87,
          88,
          89,
          90,
          91,
          92,
          93,
          94,
          95,
          96,
          97,
          98,
          99
         ],
         "xaxis": "x",
         "y": [
          -765.23,
          -708.068,
          -666.342,
          -605.988,
          -540.748,
          -487.806,
          -441.748,
          -374.732,
          -314.54,
          -281.766,
          -262.89,
          -235.008,
          -222.068,
          -230.872,
          -222.698,
          -223.894,
          -220.024,
          -230.812,
          -221.556,
          -221.896,
          -216.97,
          -219.01,
          -221.28,
          -201.62,
          -198.064,
          -195.458,
          -213.208,
          -198.484,
          -199.694,
          -192.096,
          -200.292,
          -185.824,
          -202.426,
          -196.936,
          -195.26,
          -207.996,
          -206.234,
          -200.144,
          -202.924,
          -211.138,
          -217,
          -204.398,
          -202.924,
          -211.09,
          -224.44,
          -209.166,
          -211.058,
          -208.194,
          -220.576,
          -196.55,
          -200.752,
          -193.356,
          -206.692,
          -206.97,
          -217.804,
          -207.048,
          -217.732,
          -217.656,
          -219.914,
          -217.602,
          -191.112,
          -211.264,
          -205.906,
          -195.496,
          -199.636,
          -198.878,
          -196.556,
          -214.296,
          -197.346,
          -192.82,
          -203.862,
          -200.864,
          -204.196,
          -217.852,
          -217.36,
          -212.876,
          -209.55,
          -217.984,
          -209.466,
          -224.648,
          -205.396,
          -221.994,
          -207.888,
          -225.582,
          -206.64,
          -204.018,
          -211.408,
          -197.716,
          -215.14,
          -200.094,
          -224.062,
          -212.312,
          -214.564,
          -199.526,
          -200.916,
          -201.002,
          -214.348,
          -222.494,
          -216.084,
          -225.504
         ],
         "yaxis": "y"
        },
        {
         "hovertemplate": "n_trajectories=1000<br>l_value=0.1<br>iteration=%{x}<br>reward=%{y}<extra></extra>",
         "legendgroup": "1000",
         "line": {
          "color": "#00cc96",
          "dash": "solid"
         },
         "marker": {
          "symbol": "circle"
         },
         "mode": "lines",
         "name": "1000",
         "showlegend": true,
         "type": "scattergl",
         "x": [
          0,
          1,
          2,
          3,
          4,
          5,
          6,
          7,
          8,
          9,
          10,
          11,
          12,
          13,
          14,
          15,
          16,
          17,
          18,
          19,
          20,
          21,
          22,
          23,
          24,
          25,
          26,
          27,
          28,
          29,
          30,
          31,
          32,
          33,
          34,
          35,
          36,
          37,
          38,
          39,
          40,
          41,
          42,
          43,
          44,
          45,
          46,
          47,
          48,
          49,
          50,
          51,
          52,
          53,
          54,
          55,
          56,
          57,
          58,
          59,
          60,
          61,
          62,
          63,
          64,
          65,
          66,
          67,
          68,
          69,
          70,
          71,
          72,
          73,
          74,
          75,
          76,
          77,
          78,
          79,
          80,
          81,
          82,
          83,
          84,
          85,
          86,
          87,
          88,
          89,
          90,
          91,
          92,
          93,
          94,
          95,
          96,
          97,
          98,
          99
         ],
         "xaxis": "x",
         "y": [
          -777.312,
          -714.466,
          -646.44,
          -564.782,
          -470.45,
          -359.962,
          -228.158,
          -135.319,
          -80.98,
          -49.334,
          -26.048,
          -13.963,
          -5.018,
          -0.99,
          1.631,
          2.095,
          2.045,
          2.741,
          2.226,
          3.233,
          2.919,
          2.668,
          3.764,
          2.889,
          3.406,
          2.924,
          2.914,
          3.68,
          2.784,
          3.205,
          2.39,
          2.126,
          2.436,
          3.246,
          2.7,
          2.376,
          3.405,
          2.759,
          3.121,
          3.646,
          2.877,
          3.043,
          3.139,
          3.192,
          2.663,
          3.066,
          3.293,
          3.094,
          2.819,
          2.203,
          3.15,
          2.776,
          3.152,
          2.761,
          4.278,
          3.68,
          3.312,
          3.068,
          3.299,
          2.965,
          3.107,
          2.991,
          3.255,
          3.344,
          3.259,
          3.057,
          3.448,
          3.066,
          3.26,
          3.214,
          2.856,
          3.111,
          3.407,
          3.141,
          2.215,
          4.429,
          3.421,
          3.207,
          3.17,
          2.91,
          2.645,
          4.025,
          3.241,
          3.29,
          3.304,
          2.345,
          2.975,
          2.447,
          3.573,
          3.277,
          3.584,
          2.815,
          2.556,
          3.586,
          2.704,
          3.017,
          3.208,
          3.171,
          2.716,
          2.952
         ],
         "yaxis": "y"
        },
        {
         "hovertemplate": "n_trajectories=1000<br>l_value=0.5<br>iteration=%{x}<br>reward=%{y}<extra></extra>",
         "legendgroup": "1000",
         "line": {
          "color": "#00cc96",
          "dash": "solid"
         },
         "marker": {
          "symbol": "circle"
         },
         "mode": "lines",
         "name": "1000",
         "showlegend": false,
         "type": "scattergl",
         "x": [
          0,
          1,
          2,
          3,
          4,
          5,
          6,
          7,
          8,
          9,
          10,
          11,
          12,
          13,
          14,
          15,
          16,
          17,
          18,
          19,
          20,
          21,
          22,
          23,
          24,
          25,
          26,
          27,
          28,
          29,
          30,
          31,
          32,
          33,
          34,
          35,
          36,
          37,
          38,
          39,
          40,
          41,
          42,
          43,
          44,
          45,
          46,
          47,
          48,
          49,
          50,
          51,
          52,
          53,
          54,
          55,
          56,
          57,
          58,
          59,
          60,
          61,
          62,
          63,
          64,
          65,
          66,
          67,
          68,
          69,
          70,
          71,
          72,
          73,
          74,
          75,
          76,
          77,
          78,
          79,
          80,
          81,
          82,
          83,
          84,
          85,
          86,
          87,
          88,
          89,
          90,
          91,
          92,
          93,
          94,
          95,
          96,
          97,
          98,
          99
         ],
         "xaxis": "x",
         "y": [
          -776.587,
          -711.136,
          -650.037,
          -580.559,
          -504.398,
          -403.748,
          -290.735,
          -187.448,
          -129.124,
          -88.198,
          -62.825,
          -43.593,
          -33.492,
          -24.218,
          -21.585,
          -19.326,
          -17.919,
          -14.818,
          -15.304,
          -15.254,
          -16.422,
          -13.931,
          -14.619,
          -13.246,
          -14.991,
          -13.295,
          -13.491,
          -12.981,
          -13.469,
          -12.473,
          -14.021,
          -15.496,
          -15.781,
          -14.946,
          -13.207,
          -12.56,
          -12.942,
          -13.265,
          -14.152,
          -13.186,
          -14.304,
          -13.13,
          -12.789,
          -14.104,
          -17.19,
          -17.53,
          -17.603,
          -15.774,
          -18.578,
          -14.129,
          -14.965,
          -14.207,
          -15.575,
          -13.911,
          -12.746,
          -13.246,
          -14.078,
          -13.156,
          -14.531,
          -14.804,
          -14.315,
          -14.495,
          -14.948,
          -14.875,
          -12.677,
          -12.065,
          -13.447,
          -13.101,
          -14.085,
          -13.535,
          -13.311,
          -14.061,
          -12.523,
          -13.29,
          -11.102,
          -13.155,
          -12.329,
          -13.672,
          -12.459,
          -13.575,
          -11.984,
          -12.424,
          -14.628,
          -14.703,
          -11.444,
          -10.343,
          -10.857,
          -11.209,
          -12.11,
          -10.423,
          -12.409,
          -14.216,
          -14.163,
          -12.125,
          -12.03,
          -12.705,
          -10.456,
          -12.042,
          -11.924,
          -12.533
         ],
         "yaxis": "y"
        },
        {
         "hovertemplate": "n_trajectories=1000<br>l_value=1.0<br>iteration=%{x}<br>reward=%{y}<extra></extra>",
         "legendgroup": "1000",
         "line": {
          "color": "#00cc96",
          "dash": "solid"
         },
         "marker": {
          "symbol": "circle"
         },
         "mode": "lines",
         "name": "1000",
         "showlegend": false,
         "type": "scattergl",
         "x": [
          0,
          1,
          2,
          3,
          4,
          5,
          6,
          7,
          8,
          9,
          10,
          11,
          12,
          13,
          14,
          15,
          16,
          17,
          18,
          19,
          20,
          21,
          22,
          23,
          24,
          25,
          26,
          27,
          28,
          29,
          30,
          31,
          32,
          33,
          34,
          35,
          36,
          37,
          38,
          39,
          40,
          41,
          42,
          43,
          44,
          45,
          46,
          47,
          48,
          49,
          50,
          51,
          52,
          53,
          54,
          55,
          56,
          57,
          58,
          59,
          60,
          61,
          62,
          63,
          64,
          65,
          66,
          67,
          68,
          69,
          70,
          71,
          72,
          73,
          74,
          75,
          76,
          77,
          78,
          79,
          80,
          81,
          82,
          83,
          84,
          85,
          86,
          87,
          88,
          89,
          90,
          91,
          92,
          93,
          94,
          95,
          96,
          97,
          98,
          99
         ],
         "xaxis": "x",
         "y": [
          -773.248,
          -712.656,
          -644.236,
          -578.082,
          -498.325,
          -424.356,
          -319.202,
          -209.976,
          -144.73,
          -111.058,
          -90.521,
          -75.36,
          -65.177,
          -59.709,
          -54.436,
          -50.616,
          -48.31,
          -45.867,
          -47.81,
          -51.123,
          -47.535,
          -47.089,
          -47.574,
          -44.923,
          -45.172,
          -44.865,
          -43.448,
          -45.56,
          -46.123,
          -41.841,
          -45.257,
          -40.259,
          -40.491,
          -43.184,
          -43.44,
          -42.573,
          -41.928,
          -44.128,
          -42.312,
          -43.63,
          -48.251,
          -42.075,
          -45.018,
          -40.918,
          -44.357,
          -44.182,
          -42.726,
          -48.898,
          -40.938,
          -38.619,
          -42.059,
          -41.463,
          -51.692,
          -46.832,
          -41.94,
          -40.696,
          -44.31,
          -43.797,
          -44.522,
          -42.885,
          -42.201,
          -42.839,
          -39.932,
          -44.039,
          -46.701,
          -46.323,
          -42.762,
          -44.402,
          -52.127,
          -46.039,
          -44.579,
          -47.42,
          -44.374,
          -38.197,
          -40.794,
          -40.189,
          -42.454,
          -39.852,
          -41.847,
          -41.609,
          -43.132,
          -42.129,
          -43.532,
          -39.333,
          -42.348,
          -38.965,
          -40.743,
          -41.234,
          -41.691,
          -39.81,
          -43.886,
          -40.666,
          -40.912,
          -41.742,
          -42.455,
          -39.395,
          -42.457,
          -42.057,
          -42.874,
          -41.641
         ],
         "yaxis": "y"
        },
        {
         "hovertemplate": "n_trajectories=1000<br>l_value=2.0<br>iteration=%{x}<br>reward=%{y}<extra></extra>",
         "legendgroup": "1000",
         "line": {
          "color": "#00cc96",
          "dash": "solid"
         },
         "marker": {
          "symbol": "circle"
         },
         "mode": "lines",
         "name": "1000",
         "showlegend": false,
         "type": "scattergl",
         "x": [
          0,
          1,
          2,
          3,
          4,
          5,
          6,
          7,
          8,
          9,
          10,
          11,
          12,
          13,
          14,
          15,
          16,
          17,
          18,
          19,
          20,
          21,
          22,
          23,
          24,
          25,
          26,
          27,
          28,
          29,
          30,
          31,
          32,
          33,
          34,
          35,
          36,
          37,
          38,
          39,
          40,
          41,
          42,
          43,
          44,
          45,
          46,
          47,
          48,
          49,
          50,
          51,
          52,
          53,
          54,
          55,
          56,
          57,
          58,
          59,
          60,
          61,
          62,
          63,
          64,
          65,
          66,
          67,
          68,
          69,
          70,
          71,
          72,
          73,
          74,
          75,
          76,
          77,
          78,
          79,
          80,
          81,
          82,
          83,
          84,
          85,
          86,
          87,
          88,
          89,
          90,
          91,
          92,
          93,
          94,
          95,
          96,
          97,
          98,
          99
         ],
         "xaxis": "x",
         "y": [
          -770.72,
          -706.483,
          -644.961,
          -580.28,
          -495.937,
          -411.918,
          -301.554,
          -223.189,
          -176.191,
          -148.338,
          -128.67,
          -121.109,
          -118.396,
          -111.234,
          -120.368,
          -111.528,
          -112.298,
          -114.095,
          -107.322,
          -109.047,
          -119.213,
          -103.223,
          -108.512,
          -106.651,
          -106.564,
          -105.138,
          -107.771,
          -112.657,
          -106.534,
          -108.191,
          -101.63,
          -101.238,
          -105.853,
          -108.69,
          -115.463,
          -108.705,
          -108.554,
          -109.649,
          -100.409,
          -98.383,
          -101.306,
          -97.164,
          -108.626,
          -104.403,
          -101.976,
          -99.186,
          -99.351,
          -95.613,
          -114.56,
          -100.783,
          -98.373,
          -105.464,
          -108.931,
          -110.142,
          -103.774,
          -104.21,
          -101.618,
          -105.27,
          -96.886,
          -95.643,
          -102.776,
          -106.047,
          -103.858,
          -111.129,
          -100.9,
          -110.169,
          -101.431,
          -101.816,
          -98.293,
          -105.153,
          -99.283,
          -109.96,
          -107.915,
          -107.37,
          -96.229,
          -103.108,
          -98.303,
          -104.217,
          -99.701,
          -105.272,
          -94.585,
          -101.343,
          -101.739,
          -104.562,
          -104.277,
          -107.492,
          -102.463,
          -105.039,
          -104.296,
          -108.515,
          -106.842,
          -107.921,
          -100.89,
          -98.877,
          -97.688,
          -105.987,
          -97.169,
          -101.02,
          -107.958,
          -112.827
         ],
         "yaxis": "y"
        }
       ],
       "layout": {
        "autosize": true,
        "legend": {
         "title": {
          "text": "n_trajectories"
         },
         "tracegroupgap": 0
        },
        "margin": {
         "t": 60
        },
        "template": {
         "data": {
          "bar": [
           {
            "error_x": {
             "color": "#2a3f5f"
            },
            "error_y": {
             "color": "#2a3f5f"
            },
            "marker": {
             "line": {
              "color": "#E5ECF6",
              "width": 0.5
             },
             "pattern": {
              "fillmode": "overlay",
              "size": 10,
              "solidity": 0.2
             }
            },
            "type": "bar"
           }
          ],
          "barpolar": [
           {
            "marker": {
             "line": {
              "color": "#E5ECF6",
              "width": 0.5
             },
             "pattern": {
              "fillmode": "overlay",
              "size": 10,
              "solidity": 0.2
             }
            },
            "type": "barpolar"
           }
          ],
          "carpet": [
           {
            "aaxis": {
             "endlinecolor": "#2a3f5f",
             "gridcolor": "white",
             "linecolor": "white",
             "minorgridcolor": "white",
             "startlinecolor": "#2a3f5f"
            },
            "baxis": {
             "endlinecolor": "#2a3f5f",
             "gridcolor": "white",
             "linecolor": "white",
             "minorgridcolor": "white",
             "startlinecolor": "#2a3f5f"
            },
            "type": "carpet"
           }
          ],
          "choropleth": [
           {
            "colorbar": {
             "outlinewidth": 0,
             "ticks": ""
            },
            "type": "choropleth"
           }
          ],
          "contour": [
           {
            "colorbar": {
             "outlinewidth": 0,
             "ticks": ""
            },
            "colorscale": [
             [
              0,
              "#0d0887"
             ],
             [
              0.1111111111111111,
              "#46039f"
             ],
             [
              0.2222222222222222,
              "#7201a8"
             ],
             [
              0.3333333333333333,
              "#9c179e"
             ],
             [
              0.4444444444444444,
              "#bd3786"
             ],
             [
              0.5555555555555556,
              "#d8576b"
             ],
             [
              0.6666666666666666,
              "#ed7953"
             ],
             [
              0.7777777777777778,
              "#fb9f3a"
             ],
             [
              0.8888888888888888,
              "#fdca26"
             ],
             [
              1,
              "#f0f921"
             ]
            ],
            "type": "contour"
           }
          ],
          "contourcarpet": [
           {
            "colorbar": {
             "outlinewidth": 0,
             "ticks": ""
            },
            "type": "contourcarpet"
           }
          ],
          "heatmap": [
           {
            "colorbar": {
             "outlinewidth": 0,
             "ticks": ""
            },
            "colorscale": [
             [
              0,
              "#0d0887"
             ],
             [
              0.1111111111111111,
              "#46039f"
             ],
             [
              0.2222222222222222,
              "#7201a8"
             ],
             [
              0.3333333333333333,
              "#9c179e"
             ],
             [
              0.4444444444444444,
              "#bd3786"
             ],
             [
              0.5555555555555556,
              "#d8576b"
             ],
             [
              0.6666666666666666,
              "#ed7953"
             ],
             [
              0.7777777777777778,
              "#fb9f3a"
             ],
             [
              0.8888888888888888,
              "#fdca26"
             ],
             [
              1,
              "#f0f921"
             ]
            ],
            "type": "heatmap"
           }
          ],
          "heatmapgl": [
           {
            "colorbar": {
             "outlinewidth": 0,
             "ticks": ""
            },
            "colorscale": [
             [
              0,
              "#0d0887"
             ],
             [
              0.1111111111111111,
              "#46039f"
             ],
             [
              0.2222222222222222,
              "#7201a8"
             ],
             [
              0.3333333333333333,
              "#9c179e"
             ],
             [
              0.4444444444444444,
              "#bd3786"
             ],
             [
              0.5555555555555556,
              "#d8576b"
             ],
             [
              0.6666666666666666,
              "#ed7953"
             ],
             [
              0.7777777777777778,
              "#fb9f3a"
             ],
             [
              0.8888888888888888,
              "#fdca26"
             ],
             [
              1,
              "#f0f921"
             ]
            ],
            "type": "heatmapgl"
           }
          ],
          "histogram": [
           {
            "marker": {
             "pattern": {
              "fillmode": "overlay",
              "size": 10,
              "solidity": 0.2
             }
            },
            "type": "histogram"
           }
          ],
          "histogram2d": [
           {
            "colorbar": {
             "outlinewidth": 0,
             "ticks": ""
            },
            "colorscale": [
             [
              0,
              "#0d0887"
             ],
             [
              0.1111111111111111,
              "#46039f"
             ],
             [
              0.2222222222222222,
              "#7201a8"
             ],
             [
              0.3333333333333333,
              "#9c179e"
             ],
             [
              0.4444444444444444,
              "#bd3786"
             ],
             [
              0.5555555555555556,
              "#d8576b"
             ],
             [
              0.6666666666666666,
              "#ed7953"
             ],
             [
              0.7777777777777778,
              "#fb9f3a"
             ],
             [
              0.8888888888888888,
              "#fdca26"
             ],
             [
              1,
              "#f0f921"
             ]
            ],
            "type": "histogram2d"
           }
          ],
          "histogram2dcontour": [
           {
            "colorbar": {
             "outlinewidth": 0,
             "ticks": ""
            },
            "colorscale": [
             [
              0,
              "#0d0887"
             ],
             [
              0.1111111111111111,
              "#46039f"
             ],
             [
              0.2222222222222222,
              "#7201a8"
             ],
             [
              0.3333333333333333,
              "#9c179e"
             ],
             [
              0.4444444444444444,
              "#bd3786"
             ],
             [
              0.5555555555555556,
              "#d8576b"
             ],
             [
              0.6666666666666666,
              "#ed7953"
             ],
             [
              0.7777777777777778,
              "#fb9f3a"
             ],
             [
              0.8888888888888888,
              "#fdca26"
             ],
             [
              1,
              "#f0f921"
             ]
            ],
            "type": "histogram2dcontour"
           }
          ],
          "mesh3d": [
           {
            "colorbar": {
             "outlinewidth": 0,
             "ticks": ""
            },
            "type": "mesh3d"
           }
          ],
          "parcoords": [
           {
            "line": {
             "colorbar": {
              "outlinewidth": 0,
              "ticks": ""
             }
            },
            "type": "parcoords"
           }
          ],
          "pie": [
           {
            "automargin": true,
            "type": "pie"
           }
          ],
          "scatter": [
           {
            "fillpattern": {
             "fillmode": "overlay",
             "size": 10,
             "solidity": 0.2
            },
            "type": "scatter"
           }
          ],
          "scatter3d": [
           {
            "line": {
             "colorbar": {
              "outlinewidth": 0,
              "ticks": ""
             }
            },
            "marker": {
             "colorbar": {
              "outlinewidth": 0,
              "ticks": ""
             }
            },
            "type": "scatter3d"
           }
          ],
          "scattercarpet": [
           {
            "marker": {
             "colorbar": {
              "outlinewidth": 0,
              "ticks": ""
             }
            },
            "type": "scattercarpet"
           }
          ],
          "scattergeo": [
           {
            "marker": {
             "colorbar": {
              "outlinewidth": 0,
              "ticks": ""
             }
            },
            "type": "scattergeo"
           }
          ],
          "scattergl": [
           {
            "marker": {
             "colorbar": {
              "outlinewidth": 0,
              "ticks": ""
             }
            },
            "type": "scattergl"
           }
          ],
          "scattermapbox": [
           {
            "marker": {
             "colorbar": {
              "outlinewidth": 0,
              "ticks": ""
             }
            },
            "type": "scattermapbox"
           }
          ],
          "scatterpolar": [
           {
            "marker": {
             "colorbar": {
              "outlinewidth": 0,
              "ticks": ""
             }
            },
            "type": "scatterpolar"
           }
          ],
          "scatterpolargl": [
           {
            "marker": {
             "colorbar": {
              "outlinewidth": 0,
              "ticks": ""
             }
            },
            "type": "scatterpolargl"
           }
          ],
          "scatterternary": [
           {
            "marker": {
             "colorbar": {
              "outlinewidth": 0,
              "ticks": ""
             }
            },
            "type": "scatterternary"
           }
          ],
          "surface": [
           {
            "colorbar": {
             "outlinewidth": 0,
             "ticks": ""
            },
            "colorscale": [
             [
              0,
              "#0d0887"
             ],
             [
              0.1111111111111111,
              "#46039f"
             ],
             [
              0.2222222222222222,
              "#7201a8"
             ],
             [
              0.3333333333333333,
              "#9c179e"
             ],
             [
              0.4444444444444444,
              "#bd3786"
             ],
             [
              0.5555555555555556,
              "#d8576b"
             ],
             [
              0.6666666666666666,
              "#ed7953"
             ],
             [
              0.7777777777777778,
              "#fb9f3a"
             ],
             [
              0.8888888888888888,
              "#fdca26"
             ],
             [
              1,
              "#f0f921"
             ]
            ],
            "type": "surface"
           }
          ],
          "table": [
           {
            "cells": {
             "fill": {
              "color": "#EBF0F8"
             },
             "line": {
              "color": "white"
             }
            },
            "header": {
             "fill": {
              "color": "#C8D4E3"
             },
             "line": {
              "color": "white"
             }
            },
            "type": "table"
           }
          ]
         },
         "layout": {
          "annotationdefaults": {
           "arrowcolor": "#2a3f5f",
           "arrowhead": 0,
           "arrowwidth": 1
          },
          "autotypenumbers": "strict",
          "coloraxis": {
           "colorbar": {
            "outlinewidth": 0,
            "ticks": ""
           }
          },
          "colorscale": {
           "diverging": [
            [
             0,
             "#8e0152"
            ],
            [
             0.1,
             "#c51b7d"
            ],
            [
             0.2,
             "#de77ae"
            ],
            [
             0.3,
             "#f1b6da"
            ],
            [
             0.4,
             "#fde0ef"
            ],
            [
             0.5,
             "#f7f7f7"
            ],
            [
             0.6,
             "#e6f5d0"
            ],
            [
             0.7,
             "#b8e186"
            ],
            [
             0.8,
             "#7fbc41"
            ],
            [
             0.9,
             "#4d9221"
            ],
            [
             1,
             "#276419"
            ]
           ],
           "sequential": [
            [
             0,
             "#0d0887"
            ],
            [
             0.1111111111111111,
             "#46039f"
            ],
            [
             0.2222222222222222,
             "#7201a8"
            ],
            [
             0.3333333333333333,
             "#9c179e"
            ],
            [
             0.4444444444444444,
             "#bd3786"
            ],
            [
             0.5555555555555556,
             "#d8576b"
            ],
            [
             0.6666666666666666,
             "#ed7953"
            ],
            [
             0.7777777777777778,
             "#fb9f3a"
            ],
            [
             0.8888888888888888,
             "#fdca26"
            ],
            [
             1,
             "#f0f921"
            ]
           ],
           "sequentialminus": [
            [
             0,
             "#0d0887"
            ],
            [
             0.1111111111111111,
             "#46039f"
            ],
            [
             0.2222222222222222,
             "#7201a8"
            ],
            [
             0.3333333333333333,
             "#9c179e"
            ],
            [
             0.4444444444444444,
             "#bd3786"
            ],
            [
             0.5555555555555556,
             "#d8576b"
            ],
            [
             0.6666666666666666,
             "#ed7953"
            ],
            [
             0.7777777777777778,
             "#fb9f3a"
            ],
            [
             0.8888888888888888,
             "#fdca26"
            ],
            [
             1,
             "#f0f921"
            ]
           ]
          },
          "colorway": [
           "#636efa",
           "#EF553B",
           "#00cc96",
           "#ab63fa",
           "#FFA15A",
           "#19d3f3",
           "#FF6692",
           "#B6E880",
           "#FF97FF",
           "#FECB52"
          ],
          "font": {
           "color": "#2a3f5f"
          },
          "geo": {
           "bgcolor": "white",
           "lakecolor": "white",
           "landcolor": "#E5ECF6",
           "showlakes": true,
           "showland": true,
           "subunitcolor": "white"
          },
          "hoverlabel": {
           "align": "left"
          },
          "hovermode": "closest",
          "mapbox": {
           "style": "light"
          },
          "paper_bgcolor": "white",
          "plot_bgcolor": "#E5ECF6",
          "polar": {
           "angularaxis": {
            "gridcolor": "white",
            "linecolor": "white",
            "ticks": ""
           },
           "bgcolor": "#E5ECF6",
           "radialaxis": {
            "gridcolor": "white",
            "linecolor": "white",
            "ticks": ""
           }
          },
          "scene": {
           "xaxis": {
            "backgroundcolor": "#E5ECF6",
            "gridcolor": "white",
            "gridwidth": 2,
            "linecolor": "white",
            "showbackground": true,
            "ticks": "",
            "zerolinecolor": "white"
           },
           "yaxis": {
            "backgroundcolor": "#E5ECF6",
            "gridcolor": "white",
            "gridwidth": 2,
            "linecolor": "white",
            "showbackground": true,
            "ticks": "",
            "zerolinecolor": "white"
           },
           "zaxis": {
            "backgroundcolor": "#E5ECF6",
            "gridcolor": "white",
            "gridwidth": 2,
            "linecolor": "white",
            "showbackground": true,
            "ticks": "",
            "zerolinecolor": "white"
           }
          },
          "shapedefaults": {
           "line": {
            "color": "#2a3f5f"
           }
          },
          "ternary": {
           "aaxis": {
            "gridcolor": "white",
            "linecolor": "white",
            "ticks": ""
           },
           "baxis": {
            "gridcolor": "white",
            "linecolor": "white",
            "ticks": ""
           },
           "bgcolor": "#E5ECF6",
           "caxis": {
            "gridcolor": "white",
            "linecolor": "white",
            "ticks": ""
           }
          },
          "title": {
           "x": 0.05
          },
          "xaxis": {
           "automargin": true,
           "gridcolor": "white",
           "linecolor": "white",
           "ticks": "",
           "title": {
            "standoff": 15
           },
           "zerolinecolor": "white",
           "zerolinewidth": 2
          },
          "yaxis": {
           "automargin": true,
           "gridcolor": "white",
           "linecolor": "white",
           "ticks": "",
           "title": {
            "standoff": 15
           },
           "zerolinecolor": "white",
           "zerolinewidth": 2
          }
         }
        },
        "title": {
         "text": "Влияние количества траекторий на среднюю награду"
        },
        "xaxis": {
         "anchor": "y",
         "autorange": true,
         "domain": [
          0,
          1
         ],
         "range": [
          0,
          99
         ],
         "title": {
          "text": "Итерация"
         },
         "type": "linear"
        },
        "yaxis": {
         "anchor": "x",
         "autorange": true,
         "domain": [
          0,
          1
         ],
         "range": [
          -820.7420555555556,
          47.85905555555556
         ],
         "title": {
          "text": "Средняя награда"
         },
         "type": "linear"
        }
       }
      },
      "image/png": "[encoded data removed]"
     },
     "metadata": {},
     "output_type": "display_data"
    }
   ],
   "source": [
    "df3 = pd.DataFrame.from_records(laplace_rewards)\n",
    "df_grpd = df3.groupby(['n_trajectories', 'iteration', 'l_value']).agg({'reward': 'mean'}).reset_index()\n",
    "fig = px.line(df_grpd, x='iteration', y='reward', line_group='l_value', color='n_trajectories')\n",
    "fig.update_layout(\n",
    "    title = 'Влияние количества траекторий на среднюю награду',\n",
    "    xaxis_title = 'Итерация',\n",
    "    yaxis_title = 'Средняя награда',\n",
    ")"
   ]
  },
  {
   "cell_type": "markdown",
   "id": "d50d09dd",
   "metadata": {},
   "source": [
    "В сглаживании Лапласа результат снова зависит от количества траекторий и величины l. Лучшие результаты достигаются при l=0.1 и количестве траекторий 1000.\n"
   ]
  },
  {
   "cell_type": "markdown",
   "id": "6fca5cd7",
   "metadata": {},
   "source": [
    "Сравним все три алгоритма"
   ]
  },
  {
   "cell_type": "code",
   "execution_count": 129,
   "id": "19901dee",
   "metadata": {},
   "outputs": [
    {
     "name": "stdout",
     "output_type": "stream",
     "text": [
      "n_trajectories=1000 l_val=0.5 q_val=0.5\n",
      "iteration: 0/100\n",
      "iteration: 10/100\n",
      "iteration: 20/100\n",
      "iteration: 30/100\n",
      "iteration: 40/100\n",
      "iteration: 50/100\n",
      "iteration: 60/100\n",
      "iteration: 70/100\n",
      "iteration: 80/100\n",
      "iteration: 90/100\n"
     ]
    }
   ],
   "source": [
    "final_rewards = []\n",
    "for smoothing in [None, 'policy', 'laplace']:\n",
    "    for n_trajectories in [1000]:\n",
    "        for l_val in [0.25, 0.5]:\n",
    "            for q_val in [0.5]:\n",
    "                print(f'n_trajectories={n_trajectories} l_val={l_val} q_val={q_val}')\n",
    "                agent_params['l_value'] = l_val\n",
    "                agent_params['smoothing_type'] = smoothing\n",
    "                fit_params['q'] = q_val\n",
    "                fit_params['n_trajectories'] = n_trajectories\n",
    "                \n",
    "                env = gym.make('Taxi-v3')\n",
    "                agent = CrossEntropyAgent(**agent_params)\n",
    "\n",
    "                fit_rewards = fit(env, agent, **fit_params)\n",
    "                reward_records = [{'smoothing': smoothing, 'l_value': l_val, 'q_value': q_val, 'n_trajectories': n_trajectories,\n",
    "                                'iteration': i, 'reward': r} for i, r in enumerate(fit_rewards)]\n",
    "                final_rewards.extend(reward_records)\n",
    "\n",
    "                display.clear_output(wait=True)"
   ]
  },
  {
   "cell_type": "code",
   "execution_count": 130,
   "id": "2c623dbd",
   "metadata": {},
   "outputs": [
    {
     "data": {
      "application/vnd.plotly.v1+json": {
       "config": {
        "plotlyServerURL": "https://plot.ly"
       },
       "data": [
        {
         "hovertemplate": "smoothing=laplace<br>l_value=0.25<br>iteration=%{x}<br>reward=%{y}<extra></extra>",
         "legendgroup": "laplace",
         "line": {
          "color": "#636efa",
          "dash": "solid"
         },
         "marker": {
          "symbol": "circle"
         },
         "mode": "lines",
         "name": "laplace",
         "orientation": "v",
         "showlegend": true,
         "type": "scatter",
         "x": [
          0,
          1,
          2,
          3,
          4,
          5,
          6,
          7,
          8,
          9,
          10,
          11,
          12,
          13,
          14,
          15,
          16,
          17,
          18,
          19,
          20,
          21,
          22,
          23,
          24,
          25,
          26,
          27,
          28,
          29,
          30,
          31,
          32,
          33,
          34,
          35,
          36,
          37,
          38,
          39,
          40,
          41,
          42,
          43,
          44,
          45,
          46,
          47,
          48,
          49,
          50,
          51,
          52,
          53,
          54,
          55,
          56,
          57,
          58,
          59,
          60,
          61,
          62,
          63,
          64,
          65,
          66,
          67,
          68,
          69,
          70,
          71,
          72,
          73,
          74,
          75,
          76,
          77,
          78,
          79,
          80,
          81,
          82,
          83,
          84,
          85,
          86,
          87,
          88,
          89,
          90,
          91,
          92,
          93,
          94,
          95,
          96,
          97,
          98,
          99
         ],
         "xaxis": "x",
         "y": [
          -772.316,
          -704.208,
          -635.256,
          -562.221,
          -472.652,
          -375.813,
          -261.865,
          -161.154,
          -105.823,
          -68.119,
          -42.813,
          -27.825,
          -17.407,
          -10.753,
          -7.647,
          -4.168,
          -4.51,
          -2.324,
          -2.747,
          -1.719,
          -2.467,
          -0.711,
          -1.052,
          -1.675,
          -1.71,
          -1.581,
          0.268,
          -1.925,
          -0.934,
          -2.818,
          -1.705,
          -2.06,
          -2.51,
          -2.844,
          -0.679,
          -1.649,
          -1.008,
          -1.539,
          -1.35,
          -1.341,
          -0.148,
          -1.396,
          -0.381,
          -0.763,
          -1.408,
          -1.45,
          -1.253,
          -0.672,
          -1.938,
          -2.397,
          -1.474,
          -0.484,
          -1.121,
          -1.947,
          -1.262,
          -1.17,
          -2.247,
          -2.24,
          -1.514,
          -0.751,
          -3.864,
          -1.86,
          -0.835,
          -3.521,
          -1.566,
          -1.609,
          -1.394,
          -0.86,
          -3.016,
          -2.074,
          -2.651,
          -1.631,
          -0.977,
          -1.485,
          -0.814,
          -4.115,
          -1.354,
          -0.6,
          -0.516,
          -2.113,
          -0.649,
          -1.593,
          -2.081,
          -1.107,
          -1.285,
          -1.935,
          -1.012,
          -1.219,
          -0.768,
          -1.641,
          -1.878,
          -1.864,
          -2.497,
          -1.171,
          -1.467,
          -2.459,
          -1.1,
          -3.12,
          -1.089,
          -1.918
         ],
         "yaxis": "y"
        },
        {
         "hovertemplate": "smoothing=laplace<br>l_value=0.5<br>iteration=%{x}<br>reward=%{y}<extra></extra>",
         "legendgroup": "laplace",
         "line": {
          "color": "#636efa",
          "dash": "solid"
         },
         "marker": {
          "symbol": "circle"
         },
         "mode": "lines",
         "name": "laplace",
         "orientation": "v",
         "showlegend": false,
         "type": "scatter",
         "x": [
          0,
          1,
          2,
          3,
          4,
          5,
          6,
          7,
          8,
          9,
          10,
          11,
          12,
          13,
          14,
          15,
          16,
          17,
          18,
          19,
          20,
          21,
          22,
          23,
          24,
          25,
          26,
          27,
          28,
          29,
          30,
          31,
          32,
          33,
          34,
          35,
          36,
          37,
          38,
          39,
          40,
          41,
          42,
          43,
          44,
          45,
          46,
          47,
          48,
          49,
          50,
          51,
          52,
          53,
          54,
          55,
          56,
          57,
          58,
          59,
          60,
          61,
          62,
          63,
          64,
          65,
          66,
          67,
          68,
          69,
          70,
          71,
          72,
          73,
          74,
          75,
          76,
          77,
          78,
          79,
          80,
          81,
          82,
          83,
          84,
          85,
          86,
          87,
          88,
          89,
          90,
          91,
          92,
          93,
          94,
          95,
          96,
          97,
          98,
          99
         ],
         "xaxis": "x",
         "y": [
          -773.234,
          -712.028,
          -649.059,
          -583.169,
          -511.435,
          -419.075,
          -309.306,
          -203.007,
          -125.584,
          -84.183,
          -61.128,
          -44.304,
          -32.863,
          -28.691,
          -25.243,
          -22.154,
          -16.308,
          -18.141,
          -16.924,
          -14.426,
          -14.245,
          -14.285,
          -14.172,
          -16.539,
          -14.919,
          -14.408,
          -13.676,
          -14.478,
          -13.835,
          -15.07,
          -14.302,
          -13.766,
          -15.121,
          -13.912,
          -13.674,
          -14.547,
          -15.223,
          -13.427,
          -14.398,
          -13.541,
          -13.017,
          -13.976,
          -14.35,
          -13.043,
          -13.401,
          -16.725,
          -16.79,
          -15.439,
          -15.333,
          -19.265,
          -20.017,
          -16.094,
          -16.596,
          -14.942,
          -14.142,
          -13.597,
          -14.185,
          -13.675,
          -11.265,
          -12.94,
          -14.102,
          -12.822,
          -12.335,
          -13.427,
          -14.216,
          -11.204,
          -10.543,
          -13.811,
          -15.524,
          -16.788,
          -16.484,
          -16.636,
          -13.564,
          -12.099,
          -11.626,
          -12.949,
          -14.233,
          -13.566,
          -13.155,
          -13.51,
          -12.382,
          -12.568,
          -13.174,
          -12.017,
          -13.145,
          -12.467,
          -12.351,
          -14.714,
          -13.938,
          -14.474,
          -12.986,
          -15.491,
          -13.383,
          -13.779,
          -14.303,
          -14.545,
          -14.072,
          -12.998,
          -13.701,
          -12.797
         ],
         "yaxis": "y"
        },
        {
         "hovertemplate": "smoothing=no_smoothing<br>l_value=0.25<br>iteration=%{x}<br>reward=%{y}<extra></extra>",
         "legendgroup": "no_smoothing",
         "line": {
          "color": "#EF553B",
          "dash": "solid"
         },
         "marker": {
          "symbol": "circle"
         },
         "mode": "lines",
         "name": "no_smoothing",
         "orientation": "v",
         "showlegend": true,
         "type": "scatter",
         "x": [
          0,
          1,
          2,
          3,
          4,
          5,
          6,
          7,
          8,
          9,
          10,
          11,
          12,
          13,
          14,
          15,
          16,
          17,
          18,
          19,
          20,
          21,
          22,
          23,
          24,
          25,
          26,
          27,
          28,
          29,
          30,
          31,
          32,
          33,
          34,
          35,
          36,
          37,
          38,
          39,
          40,
          41,
          42,
          43,
          44,
          45,
          46,
          47,
          48,
          49,
          50,
          51,
          52,
          53,
          54,
          55,
          56,
          57,
          58,
          59,
          60,
          61,
          62,
          63,
          64,
          65,
          66,
          67,
          68,
          69,
          70,
          71,
          72,
          73,
          74,
          75,
          76,
          77,
          78,
          79,
          80,
          81,
          82,
          83,
          84,
          85,
          86,
          87,
          88,
          89,
          90,
          91,
          92,
          93,
          94,
          95,
          96,
          97,
          98,
          99
         ],
         "xaxis": "x",
         "y": [
          -776.963,
          -718.087,
          -654.416,
          -581.446,
          -492.618,
          -398.109,
          -274.124,
          -169.862,
          -100.772,
          -57.52,
          -29.997,
          -13.456,
          -2.99,
          1.584,
          3.998,
          5.437,
          5.856,
          5.97,
          6.26,
          7.173,
          6.831,
          6.408,
          6.632,
          7.313,
          7.104,
          6.774,
          7.23,
          6.642,
          6.139,
          6.772,
          7.554,
          7.216,
          5.942,
          6.833,
          6.249,
          6.921,
          7.082,
          7.109,
          6.774,
          5.604,
          7.04,
          6.923,
          6.944,
          7.028,
          7.498,
          6.692,
          7.457,
          6.686,
          6.475,
          6.88,
          6.557,
          6.851,
          6.342,
          6.786,
          7.69,
          6.017,
          6.389,
          6.462,
          7.581,
          7.297,
          6.635,
          7.63,
          6.652,
          6.667,
          6.65,
          6.845,
          6.75,
          7.163,
          7.3,
          7.247,
          7.402,
          6.764,
          7.237,
          6.695,
          6.842,
          6.79,
          6.918,
          6.775,
          6.588,
          7.345,
          6.661,
          7.351,
          6.908,
          7.085,
          6.375,
          7.039,
          6.441,
          7.281,
          7.367,
          6.019,
          6.573,
          6.787,
          7.092,
          7.169,
          6.943,
          6.799,
          6.688,
          7.288,
          7.209,
          7.08
         ],
         "yaxis": "y"
        },
        {
         "hovertemplate": "smoothing=no_smoothing<br>l_value=0.5<br>iteration=%{x}<br>reward=%{y}<extra></extra>",
         "legendgroup": "no_smoothing",
         "line": {
          "color": "#EF553B",
          "dash": "solid"
         },
         "marker": {
          "symbol": "circle"
         },
         "mode": "lines",
         "name": "no_smoothing",
         "orientation": "v",
         "showlegend": false,
         "type": "scatter",
         "x": [
          0,
          1,
          2,
          3,
          4,
          5,
          6,
          7,
          8,
          9,
          10,
          11,
          12,
          13,
          14,
          15,
          16,
          17,
          18,
          19,
          20,
          21,
          22,
          23,
          24,
          25,
          26,
          27,
          28,
          29,
          30,
          31,
          32,
          33,
          34,
          35,
          36,
          37,
          38,
          39,
          40,
          41,
          42,
          43,
          44,
          45,
          46,
          47,
          48,
          49,
          50,
          51,
          52,
          53,
          54,
          55,
          56,
          57,
          58,
          59,
          60,
          61,
          62,
          63,
          64,
          65,
          66,
          67,
          68,
          69,
          70,
          71,
          72,
          73,
          74,
          75,
          76,
          77,
          78,
          79,
          80,
          81,
          82,
          83,
          84,
          85,
          86,
          87,
          88,
          89,
          90,
          91,
          92,
          93,
          94,
          95,
          96,
          97,
          98,
          99
         ],
         "xaxis": "x",
         "y": [
          -775.461,
          -717.939,
          -648.397,
          -571.822,
          -482.187,
          -378.128,
          -240.612,
          -143.731,
          -83.199,
          -51.676,
          -25.795,
          -8.543,
          -0.038,
          3.985,
          5.741,
          6.665,
          7.125,
          7.261,
          7.346,
          7.59,
          7.248,
          7.534,
          7.586,
          7.591,
          7.502,
          7.515,
          7.624,
          7.681,
          7.542,
          7.477,
          7.76,
          7.599,
          7.588,
          7.923,
          7.634,
          7.814,
          7.642,
          7.503,
          7.415,
          7.702,
          7.481,
          7.515,
          7.449,
          7.551,
          7.616,
          7.551,
          7.514,
          7.633,
          7.594,
          7.595,
          7.6,
          7.733,
          7.525,
          7.515,
          7.5,
          7.629,
          7.706,
          7.692,
          7.493,
          7.426,
          7.398,
          7.507,
          7.854,
          7.595,
          7.464,
          7.729,
          7.477,
          7.568,
          7.831,
          7.604,
          7.898,
          7.63,
          7.651,
          7.642,
          7.687,
          7.527,
          7.507,
          7.746,
          7.578,
          7.565,
          7.581,
          7.536,
          7.741,
          7.473,
          7.673,
          7.769,
          7.59,
          7.633,
          7.545,
          7.629,
          7.473,
          7.535,
          7.608,
          7.631,
          7.631,
          7.6,
          7.555,
          7.582,
          7.473,
          7.426
         ],
         "yaxis": "y"
        },
        {
         "hovertemplate": "smoothing=policy<br>l_value=0.25<br>iteration=%{x}<br>reward=%{y}<extra></extra>",
         "legendgroup": "policy",
         "line": {
          "color": "#00cc96",
          "dash": "solid"
         },
         "marker": {
          "symbol": "circle"
         },
         "mode": "lines",
         "name": "policy",
         "orientation": "v",
         "showlegend": true,
         "type": "scatter",
         "x": [
          0,
          1,
          2,
          3,
          4,
          5,
          6,
          7,
          8,
          9,
          10,
          11,
          12,
          13,
          14,
          15,
          16,
          17,
          18,
          19,
          20,
          21,
          22,
          23,
          24,
          25,
          26,
          27,
          28,
          29,
          30,
          31,
          32,
          33,
          34,
          35,
          36,
          37,
          38,
          39,
          40,
          41,
          42,
          43,
          44,
          45,
          46,
          47,
          48,
          49,
          50,
          51,
          52,
          53,
          54,
          55,
          56,
          57,
          58,
          59,
          60,
          61,
          62,
          63,
          64,
          65,
          66,
          67,
          68,
          69,
          70,
          71,
          72,
          73,
          74,
          75,
          76,
          77,
          78,
          79,
          80,
          81,
          82,
          83,
          84,
          85,
          86,
          87,
          88,
          89,
          90,
          91,
          92,
          93,
          94,
          95,
          96,
          97,
          98,
          99
         ],
         "xaxis": "x",
         "y": [
          -774.4,
          -760.034,
          -736.908,
          -728.201,
          -707.564,
          -686.016,
          -669.866,
          -654.928,
          -627.488,
          -615.34,
          -585.874,
          -567.184,
          -539.394,
          -507.13,
          -485.66,
          -447.833,
          -416.15,
          -375.62,
          -341.981,
          -301.072,
          -265.356,
          -212.048,
          -186.715,
          -160.635,
          -140.248,
          -120.663,
          -99.118,
          -88.541,
          -77.785,
          -64.239,
          -55.508,
          -48.875,
          -39.973,
          -36.178,
          -28.06,
          -23.762,
          -18.704,
          -14.762,
          -11.245,
          -8.742,
          -6.16,
          -3.496,
          -2.015,
          -0.573,
          1.232,
          1.889,
          2.891,
          3.6,
          4.326,
          4.972,
          5.316,
          5.686,
          5.941,
          6.2,
          6.402,
          6.413,
          6.812,
          7.007,
          6.999,
          7.149,
          7.161,
          7.288,
          7.232,
          7.316,
          7.51,
          7.347,
          7.358,
          7.646,
          7.761,
          7.593,
          7.611,
          7.855,
          7.731,
          7.521,
          7.785,
          7.749,
          7.927,
          7.764,
          7.643,
          7.635,
          7.725,
          7.704,
          7.81,
          7.701,
          7.776,
          7.792,
          7.745,
          7.804,
          7.802,
          7.904,
          8.04,
          7.809,
          7.745,
          7.896,
          7.817,
          7.764,
          7.914,
          7.867,
          7.758,
          7.735
         ],
         "yaxis": "y"
        },
        {
         "hovertemplate": "smoothing=policy<br>l_value=0.5<br>iteration=%{x}<br>reward=%{y}<extra></extra>",
         "legendgroup": "policy",
         "line": {
          "color": "#00cc96",
          "dash": "solid"
         },
         "marker": {
          "symbol": "circle"
         },
         "mode": "lines",
         "name": "policy",
         "orientation": "v",
         "showlegend": false,
         "type": "scatter",
         "x": [
          0,
          1,
          2,
          3,
          4,
          5,
          6,
          7,
          8,
          9,
          10,
          11,
          12,
          13,
          14,
          15,
          16,
          17,
          18,
          19,
          20,
          21,
          22,
          23,
          24,
          25,
          26,
          27,
          28,
          29,
          30,
          31,
          32,
          33,
          34,
          35,
          36,
          37,
          38,
          39,
          40,
          41,
          42,
          43,
          44,
          45,
          46,
          47,
          48,
          49,
          50,
          51,
          52,
          53,
          54,
          55,
          56,
          57,
          58,
          59,
          60,
          61,
          62,
          63,
          64,
          65,
          66,
          67,
          68,
          69,
          70,
          71,
          72,
          73,
          74,
          75,
          76,
          77,
          78,
          79,
          80,
          81,
          82,
          83,
          84,
          85,
          86,
          87,
          88,
          89,
          90,
          91,
          92,
          93,
          94,
          95,
          96,
          97,
          98,
          99
         ],
         "xaxis": "x",
         "y": [
          -773.003,
          -741.806,
          -707.573,
          -676.097,
          -623.294,
          -579.208,
          -544.541,
          -478.629,
          -422.596,
          -354.623,
          -277.564,
          -206.869,
          -156.476,
          -117.816,
          -89.456,
          -67.678,
          -50.18,
          -35.85,
          -25.318,
          -16.73,
          -10.744,
          -4.713,
          -0.493,
          1.972,
          3.696,
          4.969,
          5.696,
          6.234,
          6.59,
          6.778,
          6.898,
          7.468,
          7.515,
          7.527,
          7.423,
          7.555,
          7.461,
          7.573,
          7.667,
          7.706,
          7.71,
          7.72,
          7.829,
          7.68,
          7.617,
          7.654,
          7.83,
          7.773,
          7.707,
          7.796,
          7.805,
          7.731,
          7.83,
          7.882,
          7.848,
          7.716,
          7.668,
          7.796,
          7.641,
          7.691,
          7.75,
          7.67,
          7.755,
          7.621,
          7.905,
          7.784,
          7.62,
          7.698,
          7.83,
          7.696,
          7.744,
          7.802,
          7.712,
          7.772,
          7.862,
          7.586,
          7.598,
          7.782,
          7.689,
          7.743,
          7.709,
          7.673,
          7.782,
          7.777,
          7.777,
          7.739,
          7.791,
          7.68,
          7.814,
          7.824,
          7.622,
          7.739,
          7.679,
          7.767,
          7.647,
          7.941,
          7.805,
          7.842,
          7.704,
          7.711
         ],
         "yaxis": "y"
        }
       ],
       "layout": {
        "autosize": true,
        "legend": {
         "title": {
          "text": "smoothing"
         },
         "tracegroupgap": 0
        },
        "margin": {
         "t": 60
        },
        "template": {
         "data": {
          "bar": [
           {
            "error_x": {
             "color": "#2a3f5f"
            },
            "error_y": {
             "color": "#2a3f5f"
            },
            "marker": {
             "line": {
              "color": "#E5ECF6",
              "width": 0.5
             },
             "pattern": {
              "fillmode": "overlay",
              "size": 10,
              "solidity": 0.2
             }
            },
            "type": "bar"
           }
          ],
          "barpolar": [
           {
            "marker": {
             "line": {
              "color": "#E5ECF6",
              "width": 0.5
             },
             "pattern": {
              "fillmode": "overlay",
              "size": 10,
              "solidity": 0.2
             }
            },
            "type": "barpolar"
           }
          ],
          "carpet": [
           {
            "aaxis": {
             "endlinecolor": "#2a3f5f",
             "gridcolor": "white",
             "linecolor": "white",
             "minorgridcolor": "white",
             "startlinecolor": "#2a3f5f"
            },
            "baxis": {
             "endlinecolor": "#2a3f5f",
             "gridcolor": "white",
             "linecolor": "white",
             "minorgridcolor": "white",
             "startlinecolor": "#2a3f5f"
            },
            "type": "carpet"
           }
          ],
          "choropleth": [
           {
            "colorbar": {
             "outlinewidth": 0,
             "ticks": ""
            },
            "type": "choropleth"
           }
          ],
          "contour": [
           {
            "colorbar": {
             "outlinewidth": 0,
             "ticks": ""
            },
            "colorscale": [
             [
              0,
              "#0d0887"
             ],
             [
              0.1111111111111111,
              "#46039f"
             ],
             [
              0.2222222222222222,
              "#7201a8"
             ],
             [
              0.3333333333333333,
              "#9c179e"
             ],
             [
              0.4444444444444444,
              "#bd3786"
             ],
             [
              0.5555555555555556,
              "#d8576b"
             ],
             [
              0.6666666666666666,
              "#ed7953"
             ],
             [
              0.7777777777777778,
              "#fb9f3a"
             ],
             [
              0.8888888888888888,
              "#fdca26"
             ],
             [
              1,
              "#f0f921"
             ]
            ],
            "type": "contour"
           }
          ],
          "contourcarpet": [
           {
            "colorbar": {
             "outlinewidth": 0,
             "ticks": ""
            },
            "type": "contourcarpet"
           }
          ],
          "heatmap": [
           {
            "colorbar": {
             "outlinewidth": 0,
             "ticks": ""
            },
            "colorscale": [
             [
              0,
              "#0d0887"
             ],
             [
              0.1111111111111111,
              "#46039f"
             ],
             [
              0.2222222222222222,
              "#7201a8"
             ],
             [
              0.3333333333333333,
              "#9c179e"
             ],
             [
              0.4444444444444444,
              "#bd3786"
             ],
             [
              0.5555555555555556,
              "#d8576b"
             ],
             [
              0.6666666666666666,
              "#ed7953"
             ],
             [
              0.7777777777777778,
              "#fb9f3a"
             ],
             [
              0.8888888888888888,
              "#fdca26"
             ],
             [
              1,
              "#f0f921"
             ]
            ],
            "type": "heatmap"
           }
          ],
          "heatmapgl": [
           {
            "colorbar": {
             "outlinewidth": 0,
             "ticks": ""
            },
            "colorscale": [
             [
              0,
              "#0d0887"
             ],
             [
              0.1111111111111111,
              "#46039f"
             ],
             [
              0.2222222222222222,
              "#7201a8"
             ],
             [
              0.3333333333333333,
              "#9c179e"
             ],
             [
              0.4444444444444444,
              "#bd3786"
             ],
             [
              0.5555555555555556,
              "#d8576b"
             ],
             [
              0.6666666666666666,
              "#ed7953"
             ],
             [
              0.7777777777777778,
              "#fb9f3a"
             ],
             [
              0.8888888888888888,
              "#fdca26"
             ],
             [
              1,
              "#f0f921"
             ]
            ],
            "type": "heatmapgl"
           }
          ],
          "histogram": [
           {
            "marker": {
             "pattern": {
              "fillmode": "overlay",
              "size": 10,
              "solidity": 0.2
             }
            },
            "type": "histogram"
           }
          ],
          "histogram2d": [
           {
            "colorbar": {
             "outlinewidth": 0,
             "ticks": ""
            },
            "colorscale": [
             [
              0,
              "#0d0887"
             ],
             [
              0.1111111111111111,
              "#46039f"
             ],
             [
              0.2222222222222222,
              "#7201a8"
             ],
             [
              0.3333333333333333,
              "#9c179e"
             ],
             [
              0.4444444444444444,
              "#bd3786"
             ],
             [
              0.5555555555555556,
              "#d8576b"
             ],
             [
              0.6666666666666666,
              "#ed7953"
             ],
             [
              0.7777777777777778,
              "#fb9f3a"
             ],
             [
              0.8888888888888888,
              "#fdca26"
             ],
             [
              1,
              "#f0f921"
             ]
            ],
            "type": "histogram2d"
           }
          ],
          "histogram2dcontour": [
           {
            "colorbar": {
             "outlinewidth": 0,
             "ticks": ""
            },
            "colorscale": [
             [
              0,
              "#0d0887"
             ],
             [
              0.1111111111111111,
              "#46039f"
             ],
             [
              0.2222222222222222,
              "#7201a8"
             ],
             [
              0.3333333333333333,
              "#9c179e"
             ],
             [
              0.4444444444444444,
              "#bd3786"
             ],
             [
              0.5555555555555556,
              "#d8576b"
             ],
             [
              0.6666666666666666,
              "#ed7953"
             ],
             [
              0.7777777777777778,
              "#fb9f3a"
             ],
             [
              0.8888888888888888,
              "#fdca26"
             ],
             [
              1,
              "#f0f921"
             ]
            ],
            "type": "histogram2dcontour"
           }
          ],
          "mesh3d": [
           {
            "colorbar": {
             "outlinewidth": 0,
             "ticks": ""
            },
            "type": "mesh3d"
           }
          ],
          "parcoords": [
           {
            "line": {
             "colorbar": {
              "outlinewidth": 0,
              "ticks": ""
             }
            },
            "type": "parcoords"
           }
          ],
          "pie": [
           {
            "automargin": true,
            "type": "pie"
           }
          ],
          "scatter": [
           {
            "fillpattern": {
             "fillmode": "overlay",
             "size": 10,
             "solidity": 0.2
            },
            "type": "scatter"
           }
          ],
          "scatter3d": [
           {
            "line": {
             "colorbar": {
              "outlinewidth": 0,
              "ticks": ""
             }
            },
            "marker": {
             "colorbar": {
              "outlinewidth": 0,
              "ticks": ""
             }
            },
            "type": "scatter3d"
           }
          ],
          "scattercarpet": [
           {
            "marker": {
             "colorbar": {
              "outlinewidth": 0,
              "ticks": ""
             }
            },
            "type": "scattercarpet"
           }
          ],
          "scattergeo": [
           {
            "marker": {
             "colorbar": {
              "outlinewidth": 0,
              "ticks": ""
             }
            },
            "type": "scattergeo"
           }
          ],
          "scattergl": [
           {
            "marker": {
             "colorbar": {
              "outlinewidth": 0,
              "ticks": ""
             }
            },
            "type": "scattergl"
           }
          ],
          "scattermapbox": [
           {
            "marker": {
             "colorbar": {
              "outlinewidth": 0,
              "ticks": ""
             }
            },
            "type": "scattermapbox"
           }
          ],
          "scatterpolar": [
           {
            "marker": {
             "colorbar": {
              "outlinewidth": 0,
              "ticks": ""
             }
            },
            "type": "scatterpolar"
           }
          ],
          "scatterpolargl": [
           {
            "marker": {
             "colorbar": {
              "outlinewidth": 0,
              "ticks": ""
             }
            },
            "type": "scatterpolargl"
           }
          ],
          "scatterternary": [
           {
            "marker": {
             "colorbar": {
              "outlinewidth": 0,
              "ticks": ""
             }
            },
            "type": "scatterternary"
           }
          ],
          "surface": [
           {
            "colorbar": {
             "outlinewidth": 0,
             "ticks": ""
            },
            "colorscale": [
             [
              0,
              "#0d0887"
             ],
             [
              0.1111111111111111,
              "#46039f"
             ],
             [
              0.2222222222222222,
              "#7201a8"
             ],
             [
              0.3333333333333333,
              "#9c179e"
             ],
             [
              0.4444444444444444,
              "#bd3786"
             ],
             [
              0.5555555555555556,
              "#d8576b"
             ],
             [
              0.6666666666666666,
              "#ed7953"
             ],
             [
              0.7777777777777778,
              "#fb9f3a"
             ],
             [
              0.8888888888888888,
              "#fdca26"
             ],
             [
              1,
              "#f0f921"
             ]
            ],
            "type": "surface"
           }
          ],
          "table": [
           {
            "cells": {
             "fill": {
              "color": "#EBF0F8"
             },
             "line": {
              "color": "white"
             }
            },
            "header": {
             "fill": {
              "color": "#C8D4E3"
             },
             "line": {
              "color": "white"
             }
            },
            "type": "table"
           }
          ]
         },
         "layout": {
          "annotationdefaults": {
           "arrowcolor": "#2a3f5f",
           "arrowhead": 0,
           "arrowwidth": 1
          },
          "autotypenumbers": "strict",
          "coloraxis": {
           "colorbar": {
            "outlinewidth": 0,
            "ticks": ""
           }
          },
          "colorscale": {
           "diverging": [
            [
             0,
             "#8e0152"
            ],
            [
             0.1,
             "#c51b7d"
            ],
            [
             0.2,
             "#de77ae"
            ],
            [
             0.3,
             "#f1b6da"
            ],
            [
             0.4,
             "#fde0ef"
            ],
            [
             0.5,
             "#f7f7f7"
            ],
            [
             0.6,
             "#e6f5d0"
            ],
            [
             0.7,
             "#b8e186"
            ],
            [
             0.8,
             "#7fbc41"
            ],
            [
             0.9,
             "#4d9221"
            ],
            [
             1,
             "#276419"
            ]
           ],
           "sequential": [
            [
             0,
             "#0d0887"
            ],
            [
             0.1111111111111111,
             "#46039f"
            ],
            [
             0.2222222222222222,
             "#7201a8"
            ],
            [
             0.3333333333333333,
             "#9c179e"
            ],
            [
             0.4444444444444444,
             "#bd3786"
            ],
            [
             0.5555555555555556,
             "#d8576b"
            ],
            [
             0.6666666666666666,
             "#ed7953"
            ],
            [
             0.7777777777777778,
             "#fb9f3a"
            ],
            [
             0.8888888888888888,
             "#fdca26"
            ],
            [
             1,
             "#f0f921"
            ]
           ],
           "sequentialminus": [
            [
             0,
             "#0d0887"
            ],
            [
             0.1111111111111111,
             "#46039f"
            ],
            [
             0.2222222222222222,
             "#7201a8"
            ],
            [
             0.3333333333333333,
             "#9c179e"
            ],
            [
             0.4444444444444444,
             "#bd3786"
            ],
            [
             0.5555555555555556,
             "#d8576b"
            ],
            [
             0.6666666666666666,
             "#ed7953"
            ],
            [
             0.7777777777777778,
             "#fb9f3a"
            ],
            [
             0.8888888888888888,
             "#fdca26"
            ],
            [
             1,
             "#f0f921"
            ]
           ]
          },
          "colorway": [
           "#636efa",
           "#EF553B",
           "#00cc96",
           "#ab63fa",
           "#FFA15A",
           "#19d3f3",
           "#FF6692",
           "#B6E880",
           "#FF97FF",
           "#FECB52"
          ],
          "font": {
           "color": "#2a3f5f"
          },
          "geo": {
           "bgcolor": "white",
           "lakecolor": "white",
           "landcolor": "#E5ECF6",
           "showlakes": true,
           "showland": true,
           "subunitcolor": "white"
          },
          "hoverlabel": {
           "align": "left"
          },
          "hovermode": "closest",
          "mapbox": {
           "style": "light"
          },
          "paper_bgcolor": "white",
          "plot_bgcolor": "#E5ECF6",
          "polar": {
           "angularaxis": {
            "gridcolor": "white",
            "linecolor": "white",
            "ticks": ""
           },
           "bgcolor": "#E5ECF6",
           "radialaxis": {
            "gridcolor": "white",
            "linecolor": "white",
            "ticks": ""
           }
          },
          "scene": {
           "xaxis": {
            "backgroundcolor": "#E5ECF6",
            "gridcolor": "white",
            "gridwidth": 2,
            "linecolor": "white",
            "showbackground": true,
            "ticks": "",
            "zerolinecolor": "white"
           },
           "yaxis": {
            "backgroundcolor": "#E5ECF6",
            "gridcolor": "white",
            "gridwidth": 2,
            "linecolor": "white",
            "showbackground": true,
            "ticks": "",
            "zerolinecolor": "white"
           },
           "zaxis": {
            "backgroundcolor": "#E5ECF6",
            "gridcolor": "white",
            "gridwidth": 2,
            "linecolor": "white",
            "showbackground": true,
            "ticks": "",
            "zerolinecolor": "white"
           }
          },
          "shapedefaults": {
           "line": {
            "color": "#2a3f5f"
           }
          },
          "ternary": {
           "aaxis": {
            "gridcolor": "white",
            "linecolor": "white",
            "ticks": ""
           },
           "baxis": {
            "gridcolor": "white",
            "linecolor": "white",
            "ticks": ""
           },
           "bgcolor": "#E5ECF6",
           "caxis": {
            "gridcolor": "white",
            "linecolor": "white",
            "ticks": ""
           }
          },
          "title": {
           "x": 0.05
          },
          "xaxis": {
           "automargin": true,
           "gridcolor": "white",
           "linecolor": "white",
           "ticks": "",
           "title": {
            "standoff": 15
           },
           "zerolinecolor": "white",
           "zerolinewidth": 2
          },
          "yaxis": {
           "automargin": true,
           "gridcolor": "white",
           "linecolor": "white",
           "ticks": "",
           "title": {
            "standoff": 15
           },
           "zerolinecolor": "white",
           "zerolinewidth": 2
          }
         }
        },
        "title": {
         "text": "Влияние количества траекторий на среднюю награду"
        },
        "xaxis": {
         "anchor": "y",
         "autorange": true,
         "domain": [
          0,
          1
         ],
         "range": [
          0,
          99
         ],
         "title": {
          "text": "Итерация"
         },
         "type": "linear"
        },
        "yaxis": {
         "anchor": "x",
         "autorange": true,
         "domain": [
          0,
          1
         ],
         "range": [
          -820.5742777777778,
          51.65127777777777
         ],
         "title": {
          "text": "Средняя награда"
         },
         "type": "linear"
        }
       }
      },
      "image/png": "[encoded data removed]"
     },
     "metadata": {},
     "output_type": "display_data"
    }
   ],
   "source": [
    "df_final = pd.DataFrame.from_dict(final_rewards)\n",
    "df_final['smoothing'].fillna('no_smoothing', inplace=True)\n",
    "df_grpd = df_final.groupby(['smoothing', 'iteration', 'l_value']).agg({'reward': 'mean'}).reset_index()\n",
    "fig = px.line(df_grpd, x='iteration', y='reward', line_group='l_value', color='smoothing')\n",
    "fig.update_layout(\n",
    "    title = 'Влияние количества траекторий на среднюю награду',\n",
    "    xaxis_title = 'Итерация',\n",
    "    yaxis_title = 'Средняя награда',\n",
    ")"
   ]
  },
  {
   "cell_type": "markdown",
   "id": "287e2271",
   "metadata": {},
   "source": [
    "Вывод: в данной задаче все три метода обучения показали себя вполне хорошо. Метод без сглаживания обучается быстрее всех, но тем самым подвержден риску неоптимального выбора действия.\n",
    "Сглаживание позволяет этого избежать.\n",
    "Сглаживание по политике обучается медленнее всех, но показывает лучший результат"
   ]
  },
  {
   "cell_type": "markdown",
   "id": "b1a9af60",
   "metadata": {},
   "source": [
    "ДЗ 3. Стохастичесчкая среда"
   ]
  },
  {
   "cell_type": "code",
   "execution_count": 138,
   "id": "609f8f40",
   "metadata": {},
   "outputs": [
    {
     "name": "stdout",
     "output_type": "stream",
     "text": [
      "n_trajectories=2000 l_val=0.5 q_val=0.5, n_packs=100\n",
      "stochastic env\n",
      "iteration: 0/50\n",
      "\ttotal delivered: 9501/200000\n",
      "\tmean penalties: 63.903955\n",
      "\tmean steps: 196.51734\n",
      "\tmean reward: -770.65533\n"
     ]
    }
   ],
   "source": [
    "policy_rewards = []\n",
    "smoothing = 'policy'\n",
    "fit_params['stochastic_env'] = True\n",
    "\n",
    "for n_iter in [50]:\n",
    "    for n_trajectories in [2000]:\n",
    "        for l_val in [0.5]:\n",
    "            for n_packs in [100]:\n",
    "                for q_val in [0.5]:\n",
    "                    print(f'n_trajectories={n_trajectories} l_val={l_val} q_val={q_val}, n_packs={n_packs}')\n",
    "                    agent_params['l_value'] = l_val\n",
    "                    agent_params['smoothing_type'] = smoothing\n",
    "                    fit_params['q'] = q_val\n",
    "                    fit_params['n_trajectories'] = n_trajectories\n",
    "                    fit_params['n_iterations'] = n_iter\n",
    "                    fit_params['n_packs'] = n_packs\n",
    "                    \n",
    "                    env = gym.make('Taxi-v3')\n",
    "                    agent = CrossEntropyAgent(**agent_params)\n",
    "\n",
    "                    fit_rewards = fit(env, agent, **fit_params)\n",
    "                    reward_records = [{'smoothing': smoothing, 'l_value': l_val, 'q_value': q_val, 'n_trajectories': n_trajectories,\n",
    "                                    'iteration': i, 'reward': r} for i, r in enumerate(fit_rewards)]\n",
    "                    policy_rewards.extend(reward_records)\n",
    "                    \n",
    "                    display.clear_output(wait=True)"
   ]
  },
  {
   "cell_type": "markdown",
   "id": "01c9e37d",
   "metadata": {},
   "source": [
    "Че-т не учится нифига"
   ]
  }
 ],
 "metadata": {
  "kernelspec": {
   "display_name": "Python 3 (ipykernel)",
   "language": "python",
   "name": "python3"
  },
  "language_info": {
   "codemirror_mode": {
    "name": "ipython",
    "version": 3
   },
   "file_extension": ".py",
   "mimetype": "text/x-python",
   "name": "python",
   "nbconvert_exporter": "python",
   "pygments_lexer": "ipython3",
   "version": "3.11.3"
  }
 },
 "nbformat": 4,
 "nbformat_minor": 5
}
